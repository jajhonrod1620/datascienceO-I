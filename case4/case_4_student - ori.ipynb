{
 "cells": [
  {
   "cell_type": "markdown",
   "metadata": {},
   "source": [
    "\n",
    "# What features determine the price of an Airbnb rental?"
   ]
  },
  {
   "cell_type": "code",
   "execution_count": null,
   "metadata": {},
   "outputs": [],
   "source": [
    "import numpy                 as np\n",
    "import pandas                as pd\n",
    "import matplotlib.pyplot     as plt\n",
    "import seaborn               as sns\n",
    "import pandas                as pd\n",
    "from   collections           import Counter\n",
    "%matplotlib inline\n",
    "sns.set()"
   ]
  },
  {
   "cell_type": "markdown",
   "metadata": {},
   "source": [
    "## Introduction\n",
    "\n",
    "**Business Context**. Airbnb is an enormous online marketplace for everyday people to rent places to stay. It is a large and lucrative market, but many vendors are simply individuals who are renting their own primary residence for short visits. Even larger vendors are typically small businesses with only a small number of places to rent. As a result, they have limited ability to assess large-scale trends and set optimal prices.\n",
    "\n",
    "Airbnb has rolled out a new service to help listers set prices. Airbnb makes a percentage commission off of the listings, so they are incentivized to help listers price optimally; that is, at the maximum possible point where they will still close a deal. You are an Airbnb consultant helping with this new pricing service."
   ]
  },
  {
   "cell_type": "markdown",
   "metadata": {},
   "source": [
    "**Business Problem**. Your initial task is to explore the data with the goal of answering the question: <b>\"What features are most relevant to the price of an Airbnb listing?\"</b>"
   ]
  },
  {
   "cell_type": "markdown",
   "metadata": {},
   "source": [
    "**Analytical Context**. We will use the publicly available and well-maintained dataset created by the Inside Airbnb advocacy group. We will focus on listings in New York City within the last year, taking advantage of larger datasets when there are important details to explore.\n",
    "\n",
    "The case is structured as follows: we will (1) do basic data exploration by plotting distributions of key quantities; (2) introduce the concept of correlation to find the key features; (3) introduce the idea of interaction effects to correct for the effects of key features; (4) discuss how to iteratively generate hypotheses and choose data visualizations to support your conclusions; (5) look at one very specific type of interaction effect, the temporal effect, and how to correct for it; and finally (6) pull everything together to identify the key factors that affect the price."
   ]
  },
  {
   "cell_type": "markdown",
   "metadata": {},
   "source": [
    "## Some basic data exploration\n",
    "\n",
    "We begin by loading the data and looking at its basic shape:"
   ]
  },
  {
   "cell_type": "code",
   "execution_count": null,
   "metadata": {},
   "outputs": [],
   "source": [
    "listings = pd.read_csv('airbnb_NYC.csv', delimiter=',')\n",
    "listings.shape"
   ]
  },
  {
   "cell_type": "markdown",
   "metadata": {},
   "source": [
    "Let's also look at the columns of the dataset:"
   ]
  },
  {
   "cell_type": "code",
   "execution_count": null,
   "metadata": {},
   "outputs": [],
   "source": [
    "listings.columns "
   ]
  },
  {
   "cell_type": "code",
   "execution_count": null,
   "metadata": {},
   "outputs": [],
   "source": [
    "# We display the basic listings data.\n",
    "pd.options.display.max_columns = 100\n",
    "listings.head(3)"
   ]
  },
  {
   "cell_type": "markdown",
   "metadata": {},
   "source": [
    "The following are details about some of the important columns here:\n",
    "\n",
    "1. ```neighbourhood```:  which neighborhood the property is in\n",
    "2. ```longitude```, ```latitude```: longitude and latitude\n",
    "3. ```property_type```: type of property, such as apartment, condo etc.\n",
    "4. ```bathrooms```: number of bathrooms\n",
    "5. ```bedrooms```: number of bathrooms\n",
    "6. ```price```:  price of the listing\n",
    "7. ```number_of_reviews```: number of reviews given by customers who stayed there\n",
    "8. ```parking```: 1 means there is parking available, -1 means there is not\n",
    "\n",
    "For other categorical variables, such as ```outdoor_friendly```, ```gym```, etc., the 1,-1 should be interpreted similarly to ```parking``` as explained above."
   ]
  },
  {
   "cell_type": "markdown",
   "metadata": {},
   "source": [
    "### Plotting the marginal distributions of key quantities of interest\n",
    "\n",
    "It is good to first develop an idea of how the values of a few key quantities of interest are distributed. Let's start by doing so for some numeric variables, such as ```price```, ```bedrooms```, ```bathrooms```, ```number_of_reviews```:"
   ]
  },
  {
   "cell_type": "markdown",
   "metadata": {},
   "source": [
    "### Exercise 1:\n",
    "\n",
    "Use the ```describe()``` command to compute some important summary statistics for the above variables."
   ]
  },
  {
   "cell_type": "code",
   "execution_count": null,
   "metadata": {},
   "outputs": [],
   "source": [
    "# possible solution\n"
   ]
  },
  {
   "cell_type": "markdown",
   "metadata": {},
   "source": [
    "```plotly.py``` enables Python users to create beautiful interactive web-based visualizations that can be displayed in Jupyter notebooks, saved to standalone HTML files, or served as part of pure Python-built web applications."
   ]
  },
  {
   "cell_type": "markdown",
   "metadata": {},
   "source": [
    "Let's use the ```plt.hist()``` function to plot the histogram of the above variables. What are their basic distribution shapes (e.g. normal, skewed, multi-modal, etc.)?"
   ]
  },
  {
   "cell_type": "code",
   "execution_count": null,
   "metadata": {
    "scrolled": false
   },
   "outputs": [],
   "source": [
    "plt.figure(figsize=(12,10))\n",
    "vars_to_plot = ['price', 'bedrooms','bathrooms','number_of_reviews']\n",
    "for i, var in enumerate(vars_to_plot):\n",
    "    plt.subplot(2,2,i+1)\n",
    "    plt.hist(listings[var],50)\n",
    "    title_string = \"Histogram of \" + var\n",
    "    plt.title(title_string)"
   ]
  },
  {
   "cell_type": "markdown",
   "metadata": {},
   "source": [
    "**Answer.** All look somewhat skewed to the right, though the ```bathroom``` variable is so concentrated at a single entry that it is hard to tell."
   ]
  },
  {
   "cell_type": "markdown",
   "metadata": {},
   "source": [
    "Are the distributions fairly smooth, or do they exhibit \"spiky\" or \"discontinuous\" behavior? If the latter, can you explain where it might come from?\n",
    "\n",
    "**Answer.** The ```price``` variable is noticeably spiky. There is a nice bulk of prices between about 25 and 300 dollars, with very obvious spikes at nice, round numbers such as 50, 100, 150, 200, 250, and 300. This probably reflects the fact that people enter in the prices that they wish to list at, and so tend to choose round numbers (or numbers just below round numbers)."
   ]
  },
  {
   "cell_type": "markdown",
   "metadata": {},
   "source": [
    "Can you detect any outliers from these histograms? If so, do they suggest (i) data error; or (ii) data that should be omitted from our future analysis?\n",
    "\n",
    "**Answer.** Very few places had prices of more than $320, and so we might think of these as \"outliers\". Some of these may represent error, but we guess that most of them are correct – hotels in NYC certainly often go for over 400 dollars per night, and so it is not unreasonable to expect some Airbnb listings of this price. The question as to whether we should omit these outliers is a little more difficult, but we lean towards omitting them for <b>most</b> clients. Even if these prices are correct, we suspect that they are governed by idiosyncratic factors that are not as relevant to the listings that most of our clients are interested in analyzing. Thus, they will tend to give us misleading (or \"biased\") results. "
   ]
  },
  {
   "cell_type": "markdown",
   "metadata": {},
   "source": [
    "### Another way to look at the histogram of number of bedrooms\n",
    "\n",
    "Sometimes, it is better to look at a histogram which plots the <i>relative</i> percentages of values across categories:"
   ]
  },
  {
   "cell_type": "code",
   "execution_count": null,
   "metadata": {},
   "outputs": [],
   "source": [
    "# How many bedrooms\n",
    "bedrooms_counts = Counter(listings.bedrooms) #A Counter is a dict subclass for counting hashable objects. It is a collection where elements are stored as dictionary keys and their counts are stored as dictionary values.\n",
    "tdf = pd.DataFrame.from_dict(bedrooms_counts, orient = 'index').sort_values(by = 0)\n",
    "tdf = (tdf.iloc[-10:, :] / len(listings)) * 100\n",
    "\n",
    "# Sort bedroom dataframe by number\n",
    "tdf.sort_index(axis = 0, ascending = True, inplace = True)\n",
    "\n",
    "# Plot percent of listings by bedroom number\n",
    "ax = tdf.plot(kind = 'bar', figsize = (12, 7.5))\n",
    "ax.set_xlabel(\"# Bedrooms\")\n",
    "ax.set_ylabel(\"% Listings\")\n",
    "ax.set_title('% Listings by Bedrooms')\n",
    "ax.legend_.remove()\n",
    "\n",
    "plt.show()\n",
    "\n",
    "print(\"Percent of 1 Bedroom Listings: %{0:.2f}\".format(tdf[0][1])) \n",
    "#The syntax 0:.2f denotes that we will print upto to decimal places\n",
    "#Change it to %{0:.3f to see what happens}"
   ]
  },
  {
   "cell_type": "markdown",
   "metadata": {},
   "source": [
    "## Inspecting price against variables of interest\n",
    "\n",
    "Now that we have looked at the variables of interest in isolation, it makes sense to look at them in relation to price."
   ]
  },
  {
   "cell_type": "markdown",
   "metadata": {},
   "source": [
    "### Exercise 2:\n",
    "\n",
    "#### 2.1\n",
    "Write code for making a boxplot of ```price``` vs. ```bedrooms```, ```bathrooms```, ```number_of_reviews```, ```review_scores_cleanliness```."
   ]
  },
  {
   "cell_type": "code",
   "execution_count": null,
   "metadata": {},
   "outputs": [],
   "source": [
    "# Code here, hint: use the seaborn library function as sns.boxplot\n",
    "plt.figure(figsize=(12,10))\n",
    "vars_to_plot = ['bedrooms','bathrooms','number_of_reviews','review_scores_cleanliness']\n",
    "for i, var in enumerate(vars_to_plot):\n",
    "    #code here\n"
   ]
  },
  {
   "cell_type": "markdown",
   "metadata": {},
   "source": [
    "#### 2.2\n",
    "\n",
    "Comment on the relationship between price and the respective variable in each of the above plots.\n",
    "\n",
    "**Answer.**\n",
    "\n",
    "1. As expected, the median price increases with the number of bedrooms. This relationship also seems linear.\n",
    "2. Again as expected, the price on average seems to increase with the number of bathrooms. There seems to be some outliers which defy this trend.\n",
    "3. The number of reviews do not seem to affect the median price. \n",
    "4. There seems to be a slight increase in median price with increase in cleanliness review scores."
   ]
  },
  {
   "cell_type": "markdown",
   "metadata": {},
   "source": [
    "### Investigating correlations\n",
    "\n",
    "Although plotting the relationship between price and a few other variables is a good first step, overall there are too many variables to individually plot and manually inspect. We need a more systematic method. How do we proceed? An easy way to get a quick overview of the key variables that affect the price is via <b>correlation</b>.\n",
    "\n",
    "Let's look at the ```price``` vs. ```bedrooms``` plot again:"
   ]
  },
  {
   "cell_type": "code",
   "execution_count": null,
   "metadata": {},
   "outputs": [],
   "source": [
    "plt.figure(figsize=(10,8))\n",
    "plt.subplot(121)\n",
    "sns.scatterplot(x='bedrooms',y = 'price', data = listings)\n",
    "plt.ylabel(\"price\")\n",
    "plt.title(\"Scatterplot of Price vs. Bedrooms\")\n",
    "plt.subplot(122)\n",
    "sns.boxplot(x='bedrooms',y= 'price', data = listings)\n",
    "plt.ylabel(\"price\")\n",
    "plt.title(\"Boxplot of Price vs. Bedrooms\")"
   ]
  },
  {
   "cell_type": "markdown",
   "metadata": {},
   "source": [
    "We see that as the number of bedrooms increases, the price on average increases. The quantity <b>correlation</b> is one way to capture this relationship. The correlation of two quantities is a measurement of how much they tend to increase together, measured on a scale going from -1 to 1. A positive correlation between price and number of bedrooms would indicate that higher-priced listings tend to have <i>more</i> bedrooms. Similarly, a negative correlation between price and number of bedrooms would indicate that higher-priced listings tend to have <i>fewer</i> bedrooms.  In our case, we can easily see that price is positively correlated with bedrooms.\n",
    "\n",
    "Since correlation is just a single number summarizing an entire joint distribution, it can be misleading and does not eliminate the need to plot and visually inspect the key variables that it suggests are important. Nonetheless, it is quite helpful when quickly scanning for very strong relationships in the data and whittling down a much larger list of potential factors."
   ]
  },
  {
   "cell_type": "code",
   "execution_count": null,
   "metadata": {},
   "outputs": [],
   "source": [
    "np.corrcoef(listings['price'],listings['bedrooms'])[0,1]"
   ]
  },
  {
   "cell_type": "markdown",
   "metadata": {},
   "source": [
    "The <b>correlation matrix</b> then gives all of the pairwise correlations between all of the variables. We can get a quick overview of the key variables that affect the price by looking at its row in the correlation matrix."
   ]
  },
  {
   "cell_type": "markdown",
   "metadata": {},
   "source": [
    "### Exercise 3:\n",
    "\n",
    "#### 3.1 Write code to compute the correlation matrix between the price and other quantities.\n",
    "(use .corr() function). \n",
    "\n",
    "#### 3.2 Print the columns which are positively correlated, in increasing order of the correlation.\n",
    "#### 3.3 Print the columns which are negatively correlated, in increasing order of the magnitude of the correlation. "
   ]
  },
  {
   "cell_type": "code",
   "execution_count": null,
   "metadata": {},
   "outputs": [],
   "source": [
    "# code here\n"
   ]
  },
  {
   "cell_type": "markdown",
   "metadata": {},
   "source": [
    "#### 3.4:\n",
    "\n",
    "From the table above, what factors are most correlated with price? Which correlations are surprising?\n",
    "\n",
    "**Answer.** Many of these are unsurprising – for example, the largest correlations are with measures of size (```accommodates```, ```bedrooms```, ```beds```, etc.). Review scores are only slightly related to price. Looking at the location-related scores.\n",
    "\n",
    "We also notice a few correlations that seem a bit surprising. For example:\n",
    "\n",
    "1. Parking is negatively correlated to price. This correlation with parking is very suspicious – why would parking be bad? I suspect that it is \"spurious\", caused by the fact that parking is more common in less expensive neighborhoods. Let's investigate this by looking at parking in a region-by-region manner.\n",
    "2. Being a superhost is negatively correlated; we don't follow up on it here.\n",
    "3. The total number of listings is positively correlated. This seems counterintuitive, as one would want large-scale listers to be able to rent more cheaply due to economies of scale."
   ]
  },
  {
   "cell_type": "markdown",
   "metadata": {},
   "source": [
    "Let's use another method of checking correlations by making a heatmap, this is a useful tool to aid in the feature selection when building models."
   ]
  },
  {
   "cell_type": "code",
   "execution_count": null,
   "metadata": {},
   "outputs": [],
   "source": [
    "plt.figure(figsize=(30,30))\n",
    "sns.heatmap(corr, cmap=\"RdYlBu\", \n",
    "    annot=True, square=True,\n",
    "    vmin=-1.0, vmax=1.0, fmt=\"+.1f\", mask=np.triu(corr), cbar=False) # np.triu Returns copy of array with lower part of the triangle\n",
    "plt.title(\"Correlations between features\")"
   ]
  },
  {
   "cell_type": "markdown",
   "metadata": {},
   "source": [
    "#### Write code to make a scatterplot between price and longitude, with number of bedrooms categorized by color."
   ]
  },
  {
   "cell_type": "markdown",
   "metadata": {},
   "source": [
    "Plot ```longitude``` vs. ```price```:"
   ]
  },
  {
   "cell_type": "code",
   "execution_count": null,
   "metadata": {},
   "outputs": [],
   "source": [
    "sns.scatterplot(x= listings['longitude'], y = listings['price'], hue = listings['bedrooms'])"
   ]
  },
  {
   "cell_type": "markdown",
   "metadata": {},
   "source": [
    "When looking at the list of correlations, ```parking``` stood out as having a surprisingly negative correlation with price. We've seen that location has a strong influence on price; let's see if it can help explain the negative correlation exhibited by ```parking```."
   ]
  },
  {
   "cell_type": "markdown",
   "metadata": {},
   "source": [
    "## Interaction effects and iterative hypotheses\n",
    "\n",
    "Now that we have explored some of the factors that are expected to affect price, let's focus on understanding the unexpected correlations, such as the negative correlation with parking. We start with the latter:"
   ]
  },
  {
   "cell_type": "code",
   "execution_count": null,
   "metadata": {},
   "outputs": [],
   "source": [
    "# First, plot parking vs. non-parking prices.\n",
    "sns.kdeplot(listings.loc[listings['parking'] == 1,'price'],shade = True, label=\"Parking\",color=\"g\")\n",
    "sns.kdeplot(listings.loc[listings['parking'] == -1,'price'],shade = True, label=\"No Parking\",color=\"r\")\n",
    "plt.title(\"Density plot of Price for Parking vs. No Parking\");"
   ]
  },
  {
   "cell_type": "markdown",
   "metadata": {},
   "source": [
    "We saw before that the correlation between price and parking is -0.019383. Since parking is desirable, we expect the price to increase with parking. When we see a pattern like this, we should suspect the existence of **interaction effects** that are complicating the parking vs. price relationship. Interaction effects are when the relationship between two variables is **conditional**, or depends on the value of a third, hidden variable.\n",
    "\n",
    "What could this third variable potentially be? Well, we have seen that location has a huge impact on prices. Perhaps high-price areas don't have many parking spots, whereas low-price areas do? We don't know this for sure, but it's a worthwhile guess.\n",
    "\n",
    "More formally, we hypothesize that this observed negative correlation is the result of interaction effects arising from location. In order to investigate this hypothesis, we ought to break down the locations by neighborhood and see if this negative correlation between price and parking still holds within neighborhoods. The neighborhoods are discrete and there are many listings per neighborhood, so we can simply compute the correlation for every neighborhood individually. Mathematically, this is exactly the same thing as conditioning on the neighborhood and computing the conditional correlation."
   ]
  },
  {
   "cell_type": "markdown",
   "metadata": {},
   "source": [
    "### Exercise 4:\n",
    "\n",
    "#### 4.1\n",
    "Write code to make a dictionary in which the keys are the `neighbourhoods` in the dataset and the values are the correlation between price and parking for that neighborhood.\n",
    "\n",
    "\n",
    "#### 4.2 \n",
    "Next plot a histogram of these correlations. "
   ]
  },
  {
   "cell_type": "code",
   "execution_count": null,
   "metadata": {
    "scrolled": true
   },
   "outputs": [],
   "source": [
    "neighbourhoods = listings.neighbourhood.unique()\n",
    "cvec = list()\n",
    "cvec = dict()\n",
    "\n",
    "for x in neighbourhoods:\n",
    "    temp = listings[listings['neighbourhood'] == x]\n",
    "    cvec[x] = temp.corr()['price']['parking']\n",
    "\n",
    "\n",
    "res = list(cvec.values())\n",
    "res = [x for x in res if str(x) != 'nan']\n",
    "res.sort()\n",
    "\n",
    "\n",
    "plt.hist(res, bins=20)\n",
    "plt.ylabel('Correlation')\n",
    "plt.show()\n",
    "\n",
    "\n",
    "print('Average correlation: ', sum(res)/len(res))\n"
   ]
  },
  {
   "cell_type": "markdown",
   "metadata": {},
   "source": [
    "#### 4.3 Explain the relationship between the histogram and our finding that parking is negatively correlated with price."
   ]
  },
  {
   "cell_type": "markdown",
   "metadata": {},
   "source": [
    "**Answer.** Our original correlation of about $-0.02$ was the correlation between price and parking <i>for all listings in NYC</i> – that is, the conditional correlation between price and parking <i> given that you are in NYC</i>. The number ```res['Brooklyn']``` is the correlation between price and parking <i>for all listings in Brooklyn</i> – that is, the conditional correlation between price and parking <i>given that you are in Brooklyn</i>. \n",
    "\n",
    "The histogram shows us that most of the conditional correlations within neighborhoods are positive, even though the correlation across all of NYC is negative. Roughly speaking, this means that the following are all occurring:\n",
    "\n",
    "1. Within neighborhoods, parking is positively associated with price.\n",
    "2. Different neighborhoods have very different typical prices (as we saw last section).\n",
    "3. Parking tends to be concentrated in cheaper neighborhoods."
   ]
  },
  {
   "cell_type": "markdown",
   "metadata": {},
   "source": [
    "The correlation values of 1 and -1 are presumably due largely to neighborhoods with very few listings, and should essentially be ignored. Viewing the histogram, however, we can see that a clear majority of correlations are at least slightly positive, for an average correlation of 0.08."
   ]
  },
  {
   "cell_type": "markdown",
   "metadata": {},
   "source": [
    "#### 4.4\n",
    "Plot the histogram that overlays the distribution of price for parking and non-parking (use sns.kdeplot) for the neighborhoods: `St. George`,`Greenwood Heights`,`Rego Park`,`Brooklyn Navy Yard`."
   ]
  },
  {
   "cell_type": "markdown",
   "metadata": {},
   "source": [
    "If we plot this by neighborhood for a few neighborhoods, we can see this somewhat positive correlation of parking vs. no parking visually: "
   ]
  },
  {
   "cell_type": "code",
   "execution_count": null,
   "metadata": {},
   "outputs": [],
   "source": [
    "plt.figure(figsize=(12,10))\n",
    "neigh_to_look = ['St. George','Greenwood Heights','Rego Park','Brooklyn Navy Yard']\n",
    "for i, neigh in enumerate(neigh_to_look):\n",
    "    plt.subplot(2,2,i+1)\n",
    "    sns.kdeplot(listings.loc[(listings['parking'] == 1) & (listings['neighbourhood'] == neigh),'price'],shade = True, label=\"Parking\",color=\"g\")\n",
    "    sns.kdeplot(listings.loc[(listings['parking'] == -1) & (listings['neighbourhood'] == neigh),'price'],shade = True, label=\"No Parking\",color=\"r\")\n",
    "    plt.title(\"Parking vs. No Parking for neighboorhood = \" + str(neigh));"
   ]
  },
  {
   "cell_type": "markdown",
   "metadata": {},
   "source": [
    "As we have seen, the existence of unexpected correlations should spur investigation into potential interaction effects, which lead to potentially interesting hypotheses. Thus, one good way of generating iterative hypotheses is to find and think about potential interaction effects."
   ]
  },
  {
   "cell_type": "markdown",
   "metadata": {},
   "source": [
    "### Finding more interactions: how does price vary by property type?\n",
    "\n",
    "We saw that finding conditional correlations or interactions is a good way to generate further hypotheses, as many interesting lines of investigation arise from investigating these **confounding variables**. Here is another example: let's now look at how price varies with property type. The following code plots the price of a one bedroom listing broken down by the property type:"
   ]
  },
  {
   "cell_type": "markdown",
   "metadata": {},
   "source": [
    "## Exercise 5\n",
    "\n",
    "#### 5.1\n",
    "Write code to make a boxplot of price of one bedroom property across all property types."
   ]
  },
  {
   "cell_type": "code",
   "execution_count": null,
   "metadata": {},
   "outputs": [],
   "source": [
    "# code here\n"
   ]
  },
  {
   "cell_type": "markdown",
   "metadata": {},
   "source": [
    "#### 5.2\n",
    "\n",
    "What can you conclude about the variation in price of a one bedroom by the property type?"
   ]
  },
  {
   "cell_type": "markdown",
   "metadata": {},
   "source": [
    "**Answer.** There is significant variation in price according to the property type; a room in a house or a loft is the cheapest, while cabins, boutique hotels, and boats are very expensive! It is also interesting to see huge variations in hotel prices."
   ]
  },
  {
   "cell_type": "markdown",
   "metadata": {},
   "source": [
    "#### 5.3\n",
    "\n",
    "Do the same price vs. property type plot for two bedroom listings."
   ]
  },
  {
   "cell_type": "code",
   "execution_count": null,
   "metadata": {},
   "outputs": [],
   "source": [
    "# code here"
   ]
  },
  {
   "cell_type": "markdown",
   "metadata": {},
   "source": [
    "## Exploring temporal effects: summer in Rio and winter in Moscow\n",
    "\n",
    "We have seen that conditional plots can be a useful way to \"correct\" comparisons by taking into account interaction effects.\n",
    "\n",
    "Time is a very common interaction effect that appears across lots of datasets. For Airbnb data, this is especially important, as Airbnb is often more expensive near holidays, and so reasonable price estimates must take this into account. In practice this is one of the most important corrections offered by Airbnb pricing consultancy firms, and corrections usually take advantage of data pooled from many somewhat similar cities. This is vital to achieving good corrections, but it is easy to make mistakes by failing to account for important city-to-city differences."
   ]
  },
  {
   "cell_type": "markdown",
   "metadata": {},
   "source": [
    "We begin by opening up the calendar data and counting (i) the number of rentals per day; and (ii) their total prices: "
   ]
  },
  {
   "cell_type": "code",
   "execution_count": null,
   "metadata": {
    "scrolled": false
   },
   "outputs": [],
   "source": [
    "cal = pd.read_csv('scal.csv', delimiter=',')\n",
    "cal.head()\n",
    "# Count rentals and total price on each date."
   ]
  },
  {
   "cell_type": "code",
   "execution_count": null,
   "metadata": {},
   "outputs": [],
   "source": [
    "cal.shape"
   ]
  },
  {
   "cell_type": "code",
   "execution_count": null,
   "metadata": {},
   "outputs": [],
   "source": [
    "rcount = dict()\n",
    "rprice = dict()\n",
    "\n",
    "for row in cal.itertuples(index=True, name='Pandas'): #The itertuples() function is used to iterate over DataFrame rows as namedtuples.\n",
    "    rcount[str(row[1])] = rcount.get(str(row[1]), 0) + 1\n",
    "    rprice[str(row[1])] = rprice.get(str(row[1]), 0) + row[2] "
   ]
  },
  {
   "cell_type": "code",
   "execution_count": null,
   "metadata": {
    "scrolled": true
   },
   "outputs": [],
   "source": [
    "# Next, plot the results. \n",
    "tempcount = sorted(rcount.items())\n",
    "x, y = zip(*tempcount) #The purpose of zip is to map the similar index of multiple containers so that they can be used just using as single entity\n",
    "tempprice = sorted(rprice.items())\n",
    "u,v = zip(*tempprice)"
   ]
  },
  {
   "cell_type": "code",
   "execution_count": null,
   "metadata": {
    "scrolled": true
   },
   "outputs": [],
   "source": [
    "# Next, we look at average price\n",
    "\n",
    "tempprice = sorted(rprice.items())\n",
    "u,v = zip(*tempprice)\n",
    "\n",
    "ratio = lambda a,b: float(a)/float(b) \n",
    "\n",
    "avgprice = list(map(ratio, v,y))\n",
    "\n",
    "xd = pd.to_datetime(x)\n"
   ]
  },
  {
   "cell_type": "code",
   "execution_count": null,
   "metadata": {},
   "outputs": [],
   "source": [
    "plt.figure(figsize=(12,10))\n",
    "plt.plot(xd,avgprice)\n",
    "plt.xticks(rotation = 'vertical')\n",
    "plt.ylabel('Average price')\n",
    "plt.title(\"Average price vs. Date\")\n",
    "plt.show()"
   ]
  },
  {
   "cell_type": "code",
   "execution_count": null,
   "metadata": {},
   "outputs": [],
   "source": [
    "#Let us also plot a smaller time interval\n",
    "plt.figure(figsize=(12,10))\n",
    "plt.plot(xd[0:28],avgprice[0:28])\n",
    "plt.xticks(rotation = 'vertical')\n",
    "plt.ylabel('Average price')\n",
    "plt.title(\"Average price vs. Date\")\n",
    "plt.show()"
   ]
  },
  {
   "cell_type": "markdown",
   "metadata": {},
   "source": [
    "When analyzing time series data like this, it is common to view it as a sum of several contributing effects over time plus noise. The two common types of summands in such a representation are:\n",
    "\n",
    "1. **Seasonal effects**: this is a summand that is periodic, often with period corresponding to the calendar (week, month or year).\n",
    "2. **Trend effects**: this is a smooth summand that goes up or down slowly over an entire series, representing long-term trends such as price inflation."
   ]
  },
  {
   "cell_type": "markdown",
   "metadata": {},
   "source": [
    "### Exercise 6:\n",
    "\n",
    "#### 6.1\n",
    "\n",
    "Visually, can you see any strong seasonal or trend components? What do they mean?\n",
    "\n",
    "**Answer.**\n",
    "\n",
    "1. There is an extremely strong cyclical component that repeats every week. This corresponds to the fact that weekend travel is very different from weekday travel.\n",
    "2. There is a trend of increasing prices over time.\n",
    "3. Calendar components: this is a component with sharp \"spikes\" that is designed to correct for any idiosyncratic elements of our calendar. This might include: (i) a monthly time series with a dip in February (since it is the shortest month); (ii) spikes in months that contain five Saturdays (since there may be more spending on weekends); or (iii) a daily time series with a dip on Labor Day (when stores are closed)."
   ]
  },
  {
   "cell_type": "markdown",
   "metadata": {},
   "source": [
    "#### 6.2\n",
    "\n",
    "What is the enormous spike that you see in this chart? Is it real, and how would you describe what is going on in layman's terms?\n",
    "\n",
    "**Answer.** This spike occurs at Christmas, the busiest holiday season. We expect it every year and must incorporate it in any reasonable model.\n",
    "\n",
    "#### 6.3\n",
    "\n",
    "Can we guess the busiest season (excluding Christmas) from this raw chart?\n",
    "\n",
    "**Answer.** This would be difficult. Notice that this chart covers about a year, but there is a clear discontinuity if you try to \"wrap\" the data (i.e. the difference between the first and last day on this chart is significant). This is caused by an underlying trend of increasing prices every year. To figure out the best season, you would need to extract out this trend, which is difficult to do from a single year's data in a single city.\n",
    "\n",
    "This brings us to an important topic: bringing in auxiliary datasets! The Inside Airbnb website includes calendar data for many cities, and we can use these to adjust for the trend component. To get some diversity, we should make sure to source some data from: (i) a city close to NYC; (ii) a city in the US with very different weather; and (iii) some cities very far away."
   ]
  },
  {
   "cell_type": "markdown",
   "metadata": {},
   "source": [
    "## Conclusions\n",
    "\n",
    "In this case, we saw that Airbnb prices are influenced by many factors. Some of the main ones include location, date, number of bedrooms, number of guests, and property type.\n",
    "\n",
    "Any future model we build should feature these factors. Incorporating some of these factors, such as the number of bedrooms, should be straightforward, as this has a large and nearly linear relationship to price. But others, such as location, exhibit very non-linear relationships.\n",
    "\n",
    "We also found some surprising correlations, such as the negative correlation between price and parking. However, after breaking the data down by neighborhoods and incorporating the interaction effect of location, this negative correlation went away entirely.\n",
    "\n",
    "Temporal effects are a very specific type of interaction effect which must be dealt with separately. Our exploration tells us that any model of AirBnB pricing should take into account strong seasonal components as well as strong spikes around major holidays. "
   ]
  },
  {
   "cell_type": "markdown",
   "metadata": {},
   "source": [
    "## Takeaways\n",
    "In this case, you learned the following exploration process:\n",
    "\n",
    "1. Start by looking at marginal distributions of quantities of interest to look for interesting patterns and/or outliers.\n",
    "2. A correlation matrix can quickly reveal the most promising candidate variables for further investigation.\n",
    "3. Investigate each of these candidate variables in turn. Note which ones exhibit interesting and unexpected correlations.\n",
    "4. Explore potential interaction effects for the variables with unexpected correlations. Suspected important interactions should be looked at directly with further plotting.\n",
    "5. Finally, take some time to carefully plot any interactions that you know to be important from domain knowledge. In our case, we looked at two features that are common to many datasets: location data and temporal data. Both of these contained very important signals that were immediately visually apparent, but which were strongly non-linear and could not easily be reduced to correlations or other simple summaries.\n",
    "\n",
    "This process can be a bit daunting at first, but it is widely used by veteran data analysts and scientists and is extremely effective in most situations. By iteratively generating hypotheses throughout this process and investigating them, you can uncover great insight about what is going on without building a single formal model. Formal modelling will be discussed in future cases."
   ]
  },
  {
   "cell_type": "markdown",
   "metadata": {},
   "source": [
    "## Extended read"
   ]
  },
  {
   "cell_type": "markdown",
   "metadata": {},
   "source": [
    "### Distribution shapes"
   ]
  },
  {
   "cell_type": "markdown",
   "metadata": {},
   "source": [
    "https://mathbitsnotebook.com/Algebra1/StatisticsData/STShapes.html"
   ]
  },
  {
   "cell_type": "markdown",
   "metadata": {},
   "source": [
    "### Understanding and Interpreting boxplots"
   ]
  },
  {
   "cell_type": "markdown",
   "metadata": {},
   "source": [
    "https://www.wellbeingatschool.org.nz/information-sheet/understanding-and-interpreting-box-plots"
   ]
  },
  {
   "cell_type": "markdown",
   "metadata": {},
   "source": [
    "### Pandas display options"
   ]
  },
  {
   "cell_type": "markdown",
   "metadata": {},
   "source": [
    "https://pandas.pydata.org/pandas-docs/stable/user_guide/options.html"
   ]
  },
  {
   "cell_type": "markdown",
   "metadata": {},
   "source": [
    "### Python seaborn plotting tutorial"
   ]
  },
  {
   "cell_type": "markdown",
   "metadata": {},
   "source": [
    "https://elitedatascience.com/python-seaborn-tutorial"
   ]
  },
  {
   "cell_type": "code",
   "execution_count": null,
   "metadata": {},
   "outputs": [],
   "source": []
  }
 ],
 "metadata": {
  "kernelspec": {
   "display_name": "Python 3",
   "language": "python",
   "name": "python3"
  },
  "language_info": {
   "codemirror_mode": {
    "name": "ipython",
    "version": 3
   },
   "file_extension": ".py",
   "mimetype": "text/x-python",
   "name": "python",
   "nbconvert_exporter": "python",
   "pygments_lexer": "ipython3",
   "version": "3.7.3"
  }
 },
 "nbformat": 4,
 "nbformat_minor": 4
}
