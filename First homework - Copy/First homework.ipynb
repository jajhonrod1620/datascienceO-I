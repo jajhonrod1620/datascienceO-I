{
 "cells": [
  {
   "cell_type": "markdown",
   "metadata": {},
   "source": [
    "# How are the historic sales of O-I?"
   ]
  },
  {
   "cell_type": "markdown",
   "metadata": {},
   "source": [
    "Import the necessary packages\n"
   ]
  },
  {
   "cell_type": "code",
   "execution_count": 1,
   "metadata": {},
   "outputs": [],
   "source": [
    "import pandas as pd #to work with pandas dateframes\n",
    "import numpy as np\n",
    "import datetime # library to work and transform dates"
   ]
  },
  {
   "cell_type": "markdown",
   "metadata": {},
   "source": [
    "# Introduction"
   ]
  },
  {
   "cell_type": "markdown",
   "metadata": {},
   "source": [
    "**Business Problem**: Your task is to format the given data and provide insights of the historic sales of O-I since 2015."
   ]
  },
  {
   "cell_type": "markdown",
   "metadata": {},
   "source": [
    "**Anaytical Context**: You are given a CSV file containing details about the sales of each global region, region, Country, regional sales parent and color, month by month from 2015 to 2020. The delimiter in the given CSV file is `;` instead of the default `,`. you will be performing the following tasks on the data:\n",
    "\n",
    "1. Read, transform, and prepare data to answer questions asked by the business leaders\n",
    "2. Perform analytics of the data to identify patterns in the dataset\n",
    "\n",
    "The client has a specific set of questions they would like to get answers to:\n",
    "\n",
    "1. What is the discount % ,if any, given on each sale? add a column with the calculation. \n",
    "2. What is the greatest discount ever given, to what company and when? Which company has gotten the least discount offers?, if tied bring the one with more history with O-I.\n",
    "3. What is the average of all numberic values for each country by year?\n",
    "4. Which companies buy more tonnes, which ones buy the least?. Classify them with `HOT` and `COLD`\n",
    "5. What are the colors most sold in the top 10 companies? filter out `NOT ASSIGNED`.\n",
    "6. On what month can we find a peak in sales?\n",
    "7. What is the average price per TO for each company? which one has the highest price per TO? if it's `NOT ASSIGNED` get the next `Company Name`.\n",
    "\n",
    "\n",
    "\n"
   ]
  },
  {
   "cell_type": "markdown",
   "metadata": {},
   "source": [
    "### Fetch information from the CSV file"
   ]
  },
  {
   "cell_type": "markdown",
   "metadata": {},
   "source": [
    "Read the file (`Remember, the delimiter is \";\"`) and go through the columns present in the dataframe"
   ]
  },
  {
   "cell_type": "code",
   "execution_count": 2,
   "metadata": {},
   "outputs": [],
   "source": [
    "raw_df = pd.read_csv('Global Sales.csv', sep=';')"
   ]
  },
  {
   "cell_type": "code",
   "execution_count": 3,
   "metadata": {},
   "outputs": [
    {
     "data": {
      "text/plain": "(204867, 13)"
     },
     "execution_count": 3,
     "metadata": {},
     "output_type": "execute_result"
    }
   ],
   "source": [
    "raw_df.shape"
   ]
  },
  {
   "cell_type": "code",
   "execution_count": 4,
   "metadata": {},
   "outputs": [
    {
     "data": {
      "text/html": "<div>\n<style scoped>\n    .dataframe tbody tr th:only-of-type {\n        vertical-align: middle;\n    }\n\n    .dataframe tbody tr th {\n        vertical-align: top;\n    }\n\n    .dataframe thead th {\n        text-align: right;\n    }\n</style>\n<table border=\"1\" class=\"dataframe\">\n  <thead>\n    <tr style=\"text-align: right;\">\n      <th></th>\n      <th>Unnamed: 0</th>\n      <th>Color</th>\n      <th>Global Region</th>\n      <th>Product Category</th>\n      <th>Country</th>\n      <th>Sub-region</th>\n      <th>Sales (USD)</th>\n      <th>Negotiated Discount</th>\n      <th>Quantity in TO</th>\n      <th>Calendar Month/Year</th>\n      <th>Company</th>\n      <th>,</th>\n    </tr>\n    <tr>\n      <th>Region</th>\n      <th></th>\n      <th></th>\n      <th></th>\n      <th></th>\n      <th></th>\n      <th></th>\n      <th></th>\n      <th></th>\n      <th></th>\n      <th></th>\n      <th></th>\n      <th></th>\n    </tr>\n  </thead>\n  <tbody>\n    <tr>\n      <td>APAC</td>\n      <td>27458</td>\n      <td>17786</td>\n      <td>27447</td>\n      <td>27458</td>\n      <td>27458</td>\n      <td>27447</td>\n      <td>27243</td>\n      <td>27458</td>\n      <td>26737</td>\n      <td>27458</td>\n      <td>27458</td>\n      <td>0</td>\n    </tr>\n    <tr>\n      <td>APAC-JV</td>\n      <td>922</td>\n      <td>0</td>\n      <td>922</td>\n      <td>922</td>\n      <td>922</td>\n      <td>922</td>\n      <td>922</td>\n      <td>922</td>\n      <td>922</td>\n      <td>922</td>\n      <td>922</td>\n      <td>0</td>\n    </tr>\n    <tr>\n      <td>EU</td>\n      <td>80512</td>\n      <td>69472</td>\n      <td>80512</td>\n      <td>80512</td>\n      <td>80512</td>\n      <td>80512</td>\n      <td>80397</td>\n      <td>80512</td>\n      <td>80110</td>\n      <td>80512</td>\n      <td>80512</td>\n      <td>0</td>\n    </tr>\n    <tr>\n      <td>IVC</td>\n      <td>71</td>\n      <td>0</td>\n      <td>71</td>\n      <td>71</td>\n      <td>71</td>\n      <td>71</td>\n      <td>71</td>\n      <td>71</td>\n      <td>71</td>\n      <td>71</td>\n      <td>71</td>\n      <td>0</td>\n    </tr>\n    <tr>\n      <td>Latin America</td>\n      <td>59824</td>\n      <td>36787</td>\n      <td>59823</td>\n      <td>59824</td>\n      <td>59824</td>\n      <td>59823</td>\n      <td>59821</td>\n      <td>59824</td>\n      <td>59265</td>\n      <td>59824</td>\n      <td>59824</td>\n      <td>0</td>\n    </tr>\n    <tr>\n      <td>North America</td>\n      <td>35806</td>\n      <td>28631</td>\n      <td>35806</td>\n      <td>35806</td>\n      <td>35806</td>\n      <td>35806</td>\n      <td>35408</td>\n      <td>35806</td>\n      <td>30962</td>\n      <td>35806</td>\n      <td>35806</td>\n      <td>0</td>\n    </tr>\n  </tbody>\n</table>\n</div>",
      "text/plain": "               Unnamed: 0  Color  Global Region  Product Category  Country  \\\nRegion                                                                       \nAPAC                27458  17786          27447             27458    27458   \nAPAC-JV               922      0            922               922      922   \nEU                  80512  69472          80512             80512    80512   \nIVC                    71      0             71                71       71   \nLatin America       59824  36787          59823             59824    59824   \nNorth America       35806  28631          35806             35806    35806   \n\n               Sub-region  Sales (USD)  Negotiated Discount  Quantity in TO  \\\nRegion                                                                        \nAPAC                27447        27243                27458           26737   \nAPAC-JV               922          922                  922             922   \nEU                  80512        80397                80512           80110   \nIVC                    71           71                   71              71   \nLatin America       59823        59821                59824           59265   \nNorth America       35806        35408                35806           30962   \n\n               Calendar Month/Year  Company  ,  \nRegion                                          \nAPAC                         27458    27458  0  \nAPAC-JV                        922      922  0  \nEU                           80512    80512  0  \nIVC                             71       71  0  \nLatin America                59824    59824  0  \nNorth America                35806    35806  0  "
     },
     "execution_count": 4,
     "metadata": {},
     "output_type": "execute_result"
    }
   ],
   "source": [
    "raw_df.groupby('Region').count()"
   ]
  },
  {
   "cell_type": "markdown",
   "metadata": {},
   "source": [
    "### Format the date and drop unnecessary columns in the dataframe"
   ]
  },
  {
   "cell_type": "markdown",
   "metadata": {},
   "source": [
    "To format the date use datetime and a lambda function."
   ]
  },
  {
   "cell_type": "markdown",
   "metadata": {},
   "source": [
    "## Lambda/Anonymous functions"
   ]
  },
  {
   "cell_type": "markdown",
   "metadata": {},
   "source": [
    "In Python, a lambda or anonymous function is a function that is defined without a name. While normal functions are defined using the `def` keyword, in Python anonymous functions are defined using the `lambda` keyword. Hence, anonymous functions are also called lambda functions.\n",
    "\n",
    "A lambda function in python has the following syntax:\n",
    "\n",
    "`lambda arguments: expression`\n",
    "\n",
    "Lambda functions can have any number of arguments but only one expression. The expression is evaluated and returned. Lambda functions can be used wherever function objects are required."
   ]
  },
  {
   "cell_type": "markdown",
   "metadata": {},
   "source": [
    "## Datetime"
   ]
  },
  {
   "cell_type": "code",
   "execution_count": 5,
   "metadata": {},
   "outputs": [
    {
     "name": "stdout",
     "output_type": "stream",
     "text": "returned tuple: 2015-12-01 00:00:00 \n"
    }
   ],
   "source": [
    "# tests\n",
    "stringdate = \"201512\"\n",
    "dt = datetime.datetime.strptime(stringdate, \"%Y%m\")\n",
    "print(\"returned tuple: %s \" % dt)"
   ]
  },
  {
   "cell_type": "markdown",
   "metadata": {},
   "source": [
    "Python has a module named datetime to work with dates and times, the most commonly used classes in the datetime module are:\n",
    "\n",
    "-date Class\n",
    "-time Class\n",
    "-datetime Class\n",
    "-timedelta Class\n",
    "\n",
    "This library allows the manipulation of dates in various ways. In this case we are going to use it to convert the `Calendar Month/Year` column into datetime. Using the strptime() method and a lambda function, we are going to convert the string values in the column to a datetime object and add it to another column called `dt`."
   ]
  },
  {
   "cell_type": "code",
   "execution_count": 7,
   "metadata": {},
   "outputs": [],
   "source": [
    "raw_df['dt'] = raw_df.apply(lambda row: pd.to_datetime (row['Calendar Month/Year'], format='%Y%m'), axis=1)"
   ]
  },
  {
   "cell_type": "markdown",
   "metadata": {},
   "source": [
    "Print the head of the DataFrame to verify the column is created."
   ]
  },
  {
   "cell_type": "code",
   "execution_count": 6,
   "metadata": {},
   "outputs": [
    {
     "data": {
      "text/html": "<div>\n<style scoped>\n    .dataframe tbody tr th:only-of-type {\n        vertical-align: middle;\n    }\n\n    .dataframe tbody tr th {\n        vertical-align: top;\n    }\n\n    .dataframe thead th {\n        text-align: right;\n    }\n</style>\n<table border=\"1\" class=\"dataframe\">\n  <thead>\n    <tr style=\"text-align: right;\">\n      <th></th>\n      <th>Unnamed: 0</th>\n      <th>Color</th>\n      <th>Global Region</th>\n      <th>Product Category</th>\n      <th>Region</th>\n      <th>Country</th>\n      <th>Sub-region</th>\n      <th>Sales (USD)</th>\n      <th>Negotiated Discount</th>\n      <th>Quantity in TO</th>\n      <th>Calendar Month/Year</th>\n      <th>Company</th>\n      <th>,</th>\n    </tr>\n  </thead>\n  <tbody>\n    <tr>\n      <td>0</td>\n      <td>0</td>\n      <td>Flint</td>\n      <td>EU</td>\n      <td>Food</td>\n      <td>EU</td>\n      <td>Czech Republic</td>\n      <td>ECE</td>\n      <td>719463.38</td>\n      <td>57557.07</td>\n      <td>1544.32</td>\n      <td>201512</td>\n      <td>NOT ASSIGNED,</td>\n      <td>NaN</td>\n    </tr>\n    <tr>\n      <td>1</td>\n      <td>1</td>\n      <td>Flint</td>\n      <td>EU</td>\n      <td>Nab</td>\n      <td>EU</td>\n      <td>Czech Republic</td>\n      <td>ECE</td>\n      <td>5339.40</td>\n      <td>640.73</td>\n      <td>9.95</td>\n      <td>201501</td>\n      <td>NOT ASSIGNED,</td>\n      <td>NaN</td>\n    </tr>\n    <tr>\n      <td>2</td>\n      <td>2</td>\n      <td>Flint</td>\n      <td>EU</td>\n      <td>Nab</td>\n      <td>EU</td>\n      <td>Czech Republic</td>\n      <td>ECE</td>\n      <td>30341.28</td>\n      <td>1213.65</td>\n      <td>61.25</td>\n      <td>201508</td>\n      <td>NOT ASSIGNED,</td>\n      <td>NaN</td>\n    </tr>\n    <tr>\n      <td>3</td>\n      <td>3</td>\n      <td>Flint</td>\n      <td>EU</td>\n      <td>Nab</td>\n      <td>EU</td>\n      <td>Czech Republic</td>\n      <td>ECE</td>\n      <td>8814.72</td>\n      <td>705.18</td>\n      <td>17.04</td>\n      <td>201502</td>\n      <td>NOT ASSIGNED,</td>\n      <td>NaN</td>\n    </tr>\n    <tr>\n      <td>4</td>\n      <td>4</td>\n      <td>Flint</td>\n      <td>EU</td>\n      <td>Wine</td>\n      <td>EU</td>\n      <td>Czech Republic</td>\n      <td>ECE</td>\n      <td>70702.15</td>\n      <td>9898.30</td>\n      <td>156.62</td>\n      <td>201502</td>\n      <td>NOT ASSIGNED,</td>\n      <td>NaN</td>\n    </tr>\n  </tbody>\n</table>\n</div>",
      "text/plain": "   Unnamed: 0  Color Global Region Product Category Region         Country  \\\n0           0  Flint            EU             Food     EU  Czech Republic   \n1           1  Flint            EU              Nab     EU  Czech Republic   \n2           2  Flint            EU              Nab     EU  Czech Republic   \n3           3  Flint            EU              Nab     EU  Czech Republic   \n4           4  Flint            EU             Wine     EU  Czech Republic   \n\n  Sub-region  Sales (USD)  Negotiated Discount  Quantity in TO  \\\n0        ECE    719463.38             57557.07         1544.32   \n1        ECE      5339.40               640.73            9.95   \n2        ECE     30341.28              1213.65           61.25   \n3        ECE      8814.72               705.18           17.04   \n4        ECE     70702.15              9898.30          156.62   \n\n   Calendar Month/Year        Company   ,  \n0               201512  NOT ASSIGNED, NaN  \n1               201501  NOT ASSIGNED, NaN  \n2               201508  NOT ASSIGNED, NaN  \n3               201502  NOT ASSIGNED, NaN  \n4               201502  NOT ASSIGNED, NaN  "
     },
     "execution_count": 6,
     "metadata": {},
     "output_type": "execute_result"
    }
   ],
   "source": [
    "raw_df.head()"
   ]
  },
  {
   "cell_type": "markdown",
   "metadata": {},
   "source": [
    "Now create a column with the year of each sale."
   ]
  },
  {
   "cell_type": "code",
   "execution_count": 8,
   "metadata": {},
   "outputs": [],
   "source": [
    "raw_df['year'] = raw_df.apply(lambda row: row['dt'].year, axis=1)"
   ]
  },
  {
   "cell_type": "code",
   "execution_count": 9,
   "metadata": {},
   "outputs": [
    {
     "data": {
      "text/plain": "0         2015\n1         2015\n2         2015\n3         2015\n4         2015\n          ... \n204862    2019\n204863    2019\n204864    2019\n204865    2019\n204866    2018\nName: year, Length: 204867, dtype: int64"
     },
     "execution_count": 9,
     "metadata": {},
     "output_type": "execute_result"
    }
   ],
   "source": [
    "raw_df['year']"
   ]
  },
  {
   "cell_type": "markdown",
   "metadata": {},
   "source": [
    "Now create a column with the month of each sale."
   ]
  },
  {
   "cell_type": "code",
   "execution_count": 10,
   "metadata": {},
   "outputs": [],
   "source": [
    "raw_df['month'] = raw_df.apply(lambda row: row['dt'].month , axis=1)"
   ]
  },
  {
   "cell_type": "code",
   "execution_count": 11,
   "metadata": {},
   "outputs": [
    {
     "data": {
      "text/plain": "0         12\n1          1\n2          8\n3          2\n4          2\n          ..\n204862     6\n204863     7\n204864    11\n204865    10\n204866    12\nName: month, Length: 204867, dtype: int64"
     },
     "execution_count": 11,
     "metadata": {},
     "output_type": "execute_result"
    }
   ],
   "source": [
    "raw_df['month']"
   ]
  },
  {
   "cell_type": "markdown",
   "metadata": {},
   "source": [
    "Finally, drop unnecessary columns."
   ]
  },
  {
   "cell_type": "code",
   "execution_count": 12,
   "metadata": {},
   "outputs": [
    {
     "data": {
      "text/html": "<div>\n<style scoped>\n    .dataframe tbody tr th:only-of-type {\n        vertical-align: middle;\n    }\n\n    .dataframe tbody tr th {\n        vertical-align: top;\n    }\n\n    .dataframe thead th {\n        text-align: right;\n    }\n</style>\n<table border=\"1\" class=\"dataframe\">\n  <thead>\n    <tr style=\"text-align: right;\">\n      <th></th>\n      <th>Unnamed: 0</th>\n      <th>Color</th>\n      <th>Product Category</th>\n      <th>Region</th>\n      <th>Country</th>\n      <th>Sales (USD)</th>\n      <th>Negotiated Discount</th>\n      <th>Quantity in TO</th>\n      <th>Company</th>\n      <th>dt</th>\n      <th>year</th>\n      <th>month</th>\n    </tr>\n  </thead>\n  <tbody>\n    <tr>\n      <td>0</td>\n      <td>0</td>\n      <td>Flint</td>\n      <td>Food</td>\n      <td>EU</td>\n      <td>Czech Republic</td>\n      <td>719463.38</td>\n      <td>57557.07</td>\n      <td>1544.32</td>\n      <td>NOT ASSIGNED,</td>\n      <td>2015-12-01</td>\n      <td>2015</td>\n      <td>12</td>\n    </tr>\n    <tr>\n      <td>1</td>\n      <td>1</td>\n      <td>Flint</td>\n      <td>Nab</td>\n      <td>EU</td>\n      <td>Czech Republic</td>\n      <td>5339.40</td>\n      <td>640.73</td>\n      <td>9.95</td>\n      <td>NOT ASSIGNED,</td>\n      <td>2015-01-01</td>\n      <td>2015</td>\n      <td>1</td>\n    </tr>\n    <tr>\n      <td>2</td>\n      <td>2</td>\n      <td>Flint</td>\n      <td>Nab</td>\n      <td>EU</td>\n      <td>Czech Republic</td>\n      <td>30341.28</td>\n      <td>1213.65</td>\n      <td>61.25</td>\n      <td>NOT ASSIGNED,</td>\n      <td>2015-08-01</td>\n      <td>2015</td>\n      <td>8</td>\n    </tr>\n    <tr>\n      <td>3</td>\n      <td>3</td>\n      <td>Flint</td>\n      <td>Nab</td>\n      <td>EU</td>\n      <td>Czech Republic</td>\n      <td>8814.72</td>\n      <td>705.18</td>\n      <td>17.04</td>\n      <td>NOT ASSIGNED,</td>\n      <td>2015-02-01</td>\n      <td>2015</td>\n      <td>2</td>\n    </tr>\n    <tr>\n      <td>4</td>\n      <td>4</td>\n      <td>Flint</td>\n      <td>Wine</td>\n      <td>EU</td>\n      <td>Czech Republic</td>\n      <td>70702.15</td>\n      <td>9898.30</td>\n      <td>156.62</td>\n      <td>NOT ASSIGNED,</td>\n      <td>2015-02-01</td>\n      <td>2015</td>\n      <td>2</td>\n    </tr>\n    <tr>\n      <td>...</td>\n      <td>...</td>\n      <td>...</td>\n      <td>...</td>\n      <td>...</td>\n      <td>...</td>\n      <td>...</td>\n      <td>...</td>\n      <td>...</td>\n      <td>...</td>\n      <td>...</td>\n      <td>...</td>\n      <td>...</td>\n    </tr>\n    <tr>\n      <td>204862</td>\n      <td>204862</td>\n      <td>Flint</td>\n      <td>Nab</td>\n      <td>Latin America</td>\n      <td>Mexico</td>\n      <td>953629.13</td>\n      <td>114435.50</td>\n      <td>1996.77</td>\n      <td>NOT ASSIGNED,</td>\n      <td>2019-06-01</td>\n      <td>2019</td>\n      <td>6</td>\n    </tr>\n    <tr>\n      <td>204863</td>\n      <td>204863</td>\n      <td>Flint</td>\n      <td>Nab</td>\n      <td>Latin America</td>\n      <td>Mexico</td>\n      <td>833829.93</td>\n      <td>83382.99</td>\n      <td>1741.27</td>\n      <td>NOT ASSIGNED,</td>\n      <td>2019-07-01</td>\n      <td>2019</td>\n      <td>7</td>\n    </tr>\n    <tr>\n      <td>204864</td>\n      <td>204864</td>\n      <td>Flint</td>\n      <td>Nab</td>\n      <td>Latin America</td>\n      <td>Mexico</td>\n      <td>559864.33</td>\n      <td>61585.08</td>\n      <td>1208.83</td>\n      <td>NOT ASSIGNED,</td>\n      <td>2019-11-01</td>\n      <td>2019</td>\n      <td>11</td>\n    </tr>\n    <tr>\n      <td>204865</td>\n      <td>204865</td>\n      <td>Flint</td>\n      <td>Nab</td>\n      <td>Latin America</td>\n      <td>Mexico</td>\n      <td>709759.43</td>\n      <td>21292.78</td>\n      <td>1515.25</td>\n      <td>NOT ASSIGNED,</td>\n      <td>2019-10-01</td>\n      <td>2019</td>\n      <td>10</td>\n    </tr>\n    <tr>\n      <td>204866</td>\n      <td>204866</td>\n      <td>Flint</td>\n      <td>Spirits</td>\n      <td>Latin America</td>\n      <td>Mexico</td>\n      <td>2128622.06</td>\n      <td>234148.43</td>\n      <td>3135.06</td>\n      <td>NOT ASSIGNED,</td>\n      <td>2018-12-01</td>\n      <td>2018</td>\n      <td>12</td>\n    </tr>\n  </tbody>\n</table>\n<p>204867 rows × 12 columns</p>\n</div>",
      "text/plain": "        Unnamed: 0  Color Product Category         Region         Country  \\\n0                0  Flint             Food             EU  Czech Republic   \n1                1  Flint              Nab             EU  Czech Republic   \n2                2  Flint              Nab             EU  Czech Republic   \n3                3  Flint              Nab             EU  Czech Republic   \n4                4  Flint             Wine             EU  Czech Republic   \n...            ...    ...              ...            ...             ...   \n204862      204862  Flint              Nab  Latin America          Mexico   \n204863      204863  Flint              Nab  Latin America          Mexico   \n204864      204864  Flint              Nab  Latin America          Mexico   \n204865      204865  Flint              Nab  Latin America          Mexico   \n204866      204866  Flint          Spirits  Latin America          Mexico   \n\n        Sales (USD)  Negotiated Discount  Quantity in TO        Company  \\\n0         719463.38             57557.07         1544.32  NOT ASSIGNED,   \n1           5339.40               640.73            9.95  NOT ASSIGNED,   \n2          30341.28              1213.65           61.25  NOT ASSIGNED,   \n3           8814.72               705.18           17.04  NOT ASSIGNED,   \n4          70702.15              9898.30          156.62  NOT ASSIGNED,   \n...             ...                  ...             ...            ...   \n204862    953629.13            114435.50         1996.77  NOT ASSIGNED,   \n204863    833829.93             83382.99         1741.27  NOT ASSIGNED,   \n204864    559864.33             61585.08         1208.83  NOT ASSIGNED,   \n204865    709759.43             21292.78         1515.25  NOT ASSIGNED,   \n204866   2128622.06            234148.43         3135.06  NOT ASSIGNED,   \n\n               dt  year  month  \n0      2015-12-01  2015     12  \n1      2015-01-01  2015      1  \n2      2015-08-01  2015      8  \n3      2015-02-01  2015      2  \n4      2015-02-01  2015      2  \n...           ...   ...    ...  \n204862 2019-06-01  2019      6  \n204863 2019-07-01  2019      7  \n204864 2019-11-01  2019     11  \n204865 2019-10-01  2019     10  \n204866 2018-12-01  2018     12  \n\n[204867 rows x 12 columns]"
     },
     "execution_count": 12,
     "metadata": {},
     "output_type": "execute_result"
    }
   ],
   "source": [
    "raw_df.drop(['Calendar Month/Year','Sub-region','Global Region',','], axis=1)"
   ]
  },
  {
   "cell_type": "code",
   "execution_count": 13,
   "metadata": {},
   "outputs": [],
   "source": [
    "clean_df  = raw_df.drop(['Calendar Month/Year','Sub-region','Global Region',','], axis=1)"
   ]
  },
  {
   "cell_type": "code",
   "execution_count": 14,
   "metadata": {},
   "outputs": [
    {
     "data": {
      "text/html": "<div>\n<style scoped>\n    .dataframe tbody tr th:only-of-type {\n        vertical-align: middle;\n    }\n\n    .dataframe tbody tr th {\n        vertical-align: top;\n    }\n\n    .dataframe thead th {\n        text-align: right;\n    }\n</style>\n<table border=\"1\" class=\"dataframe\">\n  <thead>\n    <tr style=\"text-align: right;\">\n      <th></th>\n      <th>Unnamed: 0</th>\n      <th>Color</th>\n      <th>Product Category</th>\n      <th>Region</th>\n      <th>Country</th>\n      <th>Sales (USD)</th>\n      <th>Negotiated Discount</th>\n      <th>Quantity in TO</th>\n      <th>Company</th>\n      <th>dt</th>\n      <th>year</th>\n      <th>month</th>\n    </tr>\n  </thead>\n  <tbody>\n    <tr>\n      <td>0</td>\n      <td>0</td>\n      <td>Flint</td>\n      <td>Food</td>\n      <td>EU</td>\n      <td>Czech Republic</td>\n      <td>719463.38</td>\n      <td>57557.07</td>\n      <td>1544.32</td>\n      <td>NOT ASSIGNED,</td>\n      <td>2015-12-01</td>\n      <td>2015</td>\n      <td>12</td>\n    </tr>\n    <tr>\n      <td>1</td>\n      <td>1</td>\n      <td>Flint</td>\n      <td>Nab</td>\n      <td>EU</td>\n      <td>Czech Republic</td>\n      <td>5339.40</td>\n      <td>640.73</td>\n      <td>9.95</td>\n      <td>NOT ASSIGNED,</td>\n      <td>2015-01-01</td>\n      <td>2015</td>\n      <td>1</td>\n    </tr>\n    <tr>\n      <td>2</td>\n      <td>2</td>\n      <td>Flint</td>\n      <td>Nab</td>\n      <td>EU</td>\n      <td>Czech Republic</td>\n      <td>30341.28</td>\n      <td>1213.65</td>\n      <td>61.25</td>\n      <td>NOT ASSIGNED,</td>\n      <td>2015-08-01</td>\n      <td>2015</td>\n      <td>8</td>\n    </tr>\n    <tr>\n      <td>3</td>\n      <td>3</td>\n      <td>Flint</td>\n      <td>Nab</td>\n      <td>EU</td>\n      <td>Czech Republic</td>\n      <td>8814.72</td>\n      <td>705.18</td>\n      <td>17.04</td>\n      <td>NOT ASSIGNED,</td>\n      <td>2015-02-01</td>\n      <td>2015</td>\n      <td>2</td>\n    </tr>\n    <tr>\n      <td>4</td>\n      <td>4</td>\n      <td>Flint</td>\n      <td>Wine</td>\n      <td>EU</td>\n      <td>Czech Republic</td>\n      <td>70702.15</td>\n      <td>9898.30</td>\n      <td>156.62</td>\n      <td>NOT ASSIGNED,</td>\n      <td>2015-02-01</td>\n      <td>2015</td>\n      <td>2</td>\n    </tr>\n    <tr>\n      <td>...</td>\n      <td>...</td>\n      <td>...</td>\n      <td>...</td>\n      <td>...</td>\n      <td>...</td>\n      <td>...</td>\n      <td>...</td>\n      <td>...</td>\n      <td>...</td>\n      <td>...</td>\n      <td>...</td>\n      <td>...</td>\n    </tr>\n    <tr>\n      <td>204862</td>\n      <td>204862</td>\n      <td>Flint</td>\n      <td>Nab</td>\n      <td>Latin America</td>\n      <td>Mexico</td>\n      <td>953629.13</td>\n      <td>114435.50</td>\n      <td>1996.77</td>\n      <td>NOT ASSIGNED,</td>\n      <td>2019-06-01</td>\n      <td>2019</td>\n      <td>6</td>\n    </tr>\n    <tr>\n      <td>204863</td>\n      <td>204863</td>\n      <td>Flint</td>\n      <td>Nab</td>\n      <td>Latin America</td>\n      <td>Mexico</td>\n      <td>833829.93</td>\n      <td>83382.99</td>\n      <td>1741.27</td>\n      <td>NOT ASSIGNED,</td>\n      <td>2019-07-01</td>\n      <td>2019</td>\n      <td>7</td>\n    </tr>\n    <tr>\n      <td>204864</td>\n      <td>204864</td>\n      <td>Flint</td>\n      <td>Nab</td>\n      <td>Latin America</td>\n      <td>Mexico</td>\n      <td>559864.33</td>\n      <td>61585.08</td>\n      <td>1208.83</td>\n      <td>NOT ASSIGNED,</td>\n      <td>2019-11-01</td>\n      <td>2019</td>\n      <td>11</td>\n    </tr>\n    <tr>\n      <td>204865</td>\n      <td>204865</td>\n      <td>Flint</td>\n      <td>Nab</td>\n      <td>Latin America</td>\n      <td>Mexico</td>\n      <td>709759.43</td>\n      <td>21292.78</td>\n      <td>1515.25</td>\n      <td>NOT ASSIGNED,</td>\n      <td>2019-10-01</td>\n      <td>2019</td>\n      <td>10</td>\n    </tr>\n    <tr>\n      <td>204866</td>\n      <td>204866</td>\n      <td>Flint</td>\n      <td>Spirits</td>\n      <td>Latin America</td>\n      <td>Mexico</td>\n      <td>2128622.06</td>\n      <td>234148.43</td>\n      <td>3135.06</td>\n      <td>NOT ASSIGNED,</td>\n      <td>2018-12-01</td>\n      <td>2018</td>\n      <td>12</td>\n    </tr>\n  </tbody>\n</table>\n<p>204867 rows × 12 columns</p>\n</div>",
      "text/plain": "        Unnamed: 0  Color Product Category         Region         Country  \\\n0                0  Flint             Food             EU  Czech Republic   \n1                1  Flint              Nab             EU  Czech Republic   \n2                2  Flint              Nab             EU  Czech Republic   \n3                3  Flint              Nab             EU  Czech Republic   \n4                4  Flint             Wine             EU  Czech Republic   \n...            ...    ...              ...            ...             ...   \n204862      204862  Flint              Nab  Latin America          Mexico   \n204863      204863  Flint              Nab  Latin America          Mexico   \n204864      204864  Flint              Nab  Latin America          Mexico   \n204865      204865  Flint              Nab  Latin America          Mexico   \n204866      204866  Flint          Spirits  Latin America          Mexico   \n\n        Sales (USD)  Negotiated Discount  Quantity in TO        Company  \\\n0         719463.38             57557.07         1544.32  NOT ASSIGNED,   \n1           5339.40               640.73            9.95  NOT ASSIGNED,   \n2          30341.28              1213.65           61.25  NOT ASSIGNED,   \n3           8814.72               705.18           17.04  NOT ASSIGNED,   \n4          70702.15              9898.30          156.62  NOT ASSIGNED,   \n...             ...                  ...             ...            ...   \n204862    953629.13            114435.50         1996.77  NOT ASSIGNED,   \n204863    833829.93             83382.99         1741.27  NOT ASSIGNED,   \n204864    559864.33             61585.08         1208.83  NOT ASSIGNED,   \n204865    709759.43             21292.78         1515.25  NOT ASSIGNED,   \n204866   2128622.06            234148.43         3135.06  NOT ASSIGNED,   \n\n               dt  year  month  \n0      2015-12-01  2015     12  \n1      2015-01-01  2015      1  \n2      2015-08-01  2015      8  \n3      2015-02-01  2015      2  \n4      2015-02-01  2015      2  \n...           ...   ...    ...  \n204862 2019-06-01  2019      6  \n204863 2019-07-01  2019      7  \n204864 2019-11-01  2019     11  \n204865 2019-10-01  2019     10  \n204866 2018-12-01  2018     12  \n\n[204867 rows x 12 columns]"
     },
     "execution_count": 14,
     "metadata": {},
     "output_type": "execute_result"
    }
   ],
   "source": [
    "clean_df"
   ]
  },
  {
   "cell_type": "markdown",
   "metadata": {},
   "source": [
    "### What is the discount % ,if any, given on each sale? add a column with the calculation."
   ]
  },
  {
   "cell_type": "markdown",
   "metadata": {},
   "source": [
    "Add the column and show the first 20 rows."
   ]
  },
  {
   "cell_type": "code",
   "execution_count": 15,
   "metadata": {},
   "outputs": [],
   "source": [
    "clean_df['% discount'] = clean_df.apply(lambda row: row['Negotiated Discount']/row['Sales (USD)']*100 if row['Sales (USD)'] else 0, axis=1)"
   ]
  },
  {
   "cell_type": "markdown",
   "metadata": {},
   "source": [
    "Print the first 20 rows"
   ]
  },
  {
   "cell_type": "code",
   "execution_count": 16,
   "metadata": {},
   "outputs": [
    {
     "data": {
      "text/html": "<div>\n<style scoped>\n    .dataframe tbody tr th:only-of-type {\n        vertical-align: middle;\n    }\n\n    .dataframe tbody tr th {\n        vertical-align: top;\n    }\n\n    .dataframe thead th {\n        text-align: right;\n    }\n</style>\n<table border=\"1\" class=\"dataframe\">\n  <thead>\n    <tr style=\"text-align: right;\">\n      <th></th>\n      <th>Unnamed: 0</th>\n      <th>Color</th>\n      <th>Product Category</th>\n      <th>Region</th>\n      <th>Country</th>\n      <th>Sales (USD)</th>\n      <th>Negotiated Discount</th>\n      <th>Quantity in TO</th>\n      <th>Company</th>\n      <th>dt</th>\n      <th>year</th>\n      <th>month</th>\n      <th>% discount</th>\n    </tr>\n  </thead>\n  <tbody>\n    <tr>\n      <td>0</td>\n      <td>0</td>\n      <td>Flint</td>\n      <td>Food</td>\n      <td>EU</td>\n      <td>Czech Republic</td>\n      <td>719463.38</td>\n      <td>57557.07</td>\n      <td>1544.32</td>\n      <td>NOT ASSIGNED,</td>\n      <td>2015-12-01</td>\n      <td>2015</td>\n      <td>12</td>\n      <td>8.000000</td>\n    </tr>\n    <tr>\n      <td>1</td>\n      <td>1</td>\n      <td>Flint</td>\n      <td>Nab</td>\n      <td>EU</td>\n      <td>Czech Republic</td>\n      <td>5339.40</td>\n      <td>640.73</td>\n      <td>9.95</td>\n      <td>NOT ASSIGNED,</td>\n      <td>2015-01-01</td>\n      <td>2015</td>\n      <td>1</td>\n      <td>12.000037</td>\n    </tr>\n    <tr>\n      <td>2</td>\n      <td>2</td>\n      <td>Flint</td>\n      <td>Nab</td>\n      <td>EU</td>\n      <td>Czech Republic</td>\n      <td>30341.28</td>\n      <td>1213.65</td>\n      <td>61.25</td>\n      <td>NOT ASSIGNED,</td>\n      <td>2015-08-01</td>\n      <td>2015</td>\n      <td>8</td>\n      <td>3.999996</td>\n    </tr>\n    <tr>\n      <td>3</td>\n      <td>3</td>\n      <td>Flint</td>\n      <td>Nab</td>\n      <td>EU</td>\n      <td>Czech Republic</td>\n      <td>8814.72</td>\n      <td>705.18</td>\n      <td>17.04</td>\n      <td>NOT ASSIGNED,</td>\n      <td>2015-02-01</td>\n      <td>2015</td>\n      <td>2</td>\n      <td>8.000027</td>\n    </tr>\n    <tr>\n      <td>4</td>\n      <td>4</td>\n      <td>Flint</td>\n      <td>Wine</td>\n      <td>EU</td>\n      <td>Czech Republic</td>\n      <td>70702.15</td>\n      <td>9898.30</td>\n      <td>156.62</td>\n      <td>NOT ASSIGNED,</td>\n      <td>2015-02-01</td>\n      <td>2015</td>\n      <td>2</td>\n      <td>13.999999</td>\n    </tr>\n    <tr>\n      <td>5</td>\n      <td>5</td>\n      <td>Flint</td>\n      <td>Wine</td>\n      <td>EU</td>\n      <td>Czech Republic</td>\n      <td>124935.62</td>\n      <td>9994.85</td>\n      <td>259.84</td>\n      <td>NOT ASSIGNED,</td>\n      <td>2015-03-01</td>\n      <td>2015</td>\n      <td>3</td>\n      <td>8.000000</td>\n    </tr>\n    <tr>\n      <td>6</td>\n      <td>6</td>\n      <td>Flint</td>\n      <td>Nab</td>\n      <td>EU</td>\n      <td>Czech Republic</td>\n      <td>28471.65</td>\n      <td>854.15</td>\n      <td>58.09</td>\n      <td>NOT ASSIGNED,</td>\n      <td>2015-07-01</td>\n      <td>2015</td>\n      <td>7</td>\n      <td>3.000002</td>\n    </tr>\n    <tr>\n      <td>7</td>\n      <td>7</td>\n      <td>Flint</td>\n      <td>Drug &amp; chemical</td>\n      <td>EU</td>\n      <td>Czech Republic</td>\n      <td>17006.82</td>\n      <td>1190.48</td>\n      <td>11.06</td>\n      <td>NOT ASSIGNED,</td>\n      <td>2015-09-01</td>\n      <td>2015</td>\n      <td>9</td>\n      <td>7.000015</td>\n    </tr>\n    <tr>\n      <td>8</td>\n      <td>8</td>\n      <td>Flint</td>\n      <td>Spirits</td>\n      <td>EU</td>\n      <td>Czech Republic</td>\n      <td>173605.15</td>\n      <td>15624.46</td>\n      <td>380.79</td>\n      <td>NOT ASSIGNED,</td>\n      <td>2015-05-01</td>\n      <td>2015</td>\n      <td>5</td>\n      <td>8.999998</td>\n    </tr>\n    <tr>\n      <td>9</td>\n      <td>9</td>\n      <td>Flint</td>\n      <td>Wine</td>\n      <td>EU</td>\n      <td>Czech Republic</td>\n      <td>115043.96</td>\n      <td>0.00</td>\n      <td>228.60</td>\n      <td>NOT ASSIGNED,</td>\n      <td>2015-12-01</td>\n      <td>2015</td>\n      <td>12</td>\n      <td>0.000000</td>\n    </tr>\n    <tr>\n      <td>10</td>\n      <td>10</td>\n      <td>Flint</td>\n      <td>Spirits</td>\n      <td>EU</td>\n      <td>Czech Republic</td>\n      <td>244828.86</td>\n      <td>29379.46</td>\n      <td>518.40</td>\n      <td>NOT ASSIGNED,</td>\n      <td>2015-04-01</td>\n      <td>2015</td>\n      <td>4</td>\n      <td>11.999999</td>\n    </tr>\n    <tr>\n      <td>11</td>\n      <td>11</td>\n      <td>Flint</td>\n      <td>Drug &amp; chemical</td>\n      <td>EU</td>\n      <td>Czech Republic</td>\n      <td>10112.56</td>\n      <td>1011.26</td>\n      <td>6.38</td>\n      <td>NOT ASSIGNED,</td>\n      <td>2015-03-01</td>\n      <td>2015</td>\n      <td>3</td>\n      <td>10.000040</td>\n    </tr>\n    <tr>\n      <td>12</td>\n      <td>12</td>\n      <td>Flint</td>\n      <td>Miscellaneous</td>\n      <td>EU</td>\n      <td>Czech Republic</td>\n      <td>76524.54</td>\n      <td>9182.94</td>\n      <td>72.40</td>\n      <td>NOT ASSIGNED,</td>\n      <td>2015-05-01</td>\n      <td>2015</td>\n      <td>5</td>\n      <td>11.999994</td>\n    </tr>\n    <tr>\n      <td>13</td>\n      <td>13</td>\n      <td>Flint</td>\n      <td>Miscellaneous</td>\n      <td>EU</td>\n      <td>Czech Republic</td>\n      <td>57082.89</td>\n      <td>6279.12</td>\n      <td>66.26</td>\n      <td>NOT ASSIGNED,</td>\n      <td>2015-04-01</td>\n      <td>2015</td>\n      <td>4</td>\n      <td>11.000004</td>\n    </tr>\n    <tr>\n      <td>14</td>\n      <td>14</td>\n      <td>Flint</td>\n      <td>Miscellaneous</td>\n      <td>EU</td>\n      <td>Czech Republic</td>\n      <td>90822.42</td>\n      <td>0.00</td>\n      <td>109.45</td>\n      <td>NOT ASSIGNED,</td>\n      <td>2015-09-01</td>\n      <td>2015</td>\n      <td>9</td>\n      <td>0.000000</td>\n    </tr>\n    <tr>\n      <td>15</td>\n      <td>15</td>\n      <td>Flint</td>\n      <td>Wine</td>\n      <td>EU</td>\n      <td>Czech Republic</td>\n      <td>107974.31</td>\n      <td>4318.97</td>\n      <td>230.04</td>\n      <td>NOT ASSIGNED,</td>\n      <td>2015-05-01</td>\n      <td>2015</td>\n      <td>5</td>\n      <td>3.999998</td>\n    </tr>\n    <tr>\n      <td>16</td>\n      <td>16</td>\n      <td>Flint</td>\n      <td>Spirits</td>\n      <td>EU</td>\n      <td>Czech Republic</td>\n      <td>156445.32</td>\n      <td>9386.72</td>\n      <td>311.24</td>\n      <td>NOT ASSIGNED,</td>\n      <td>2015-12-01</td>\n      <td>2015</td>\n      <td>12</td>\n      <td>6.000001</td>\n    </tr>\n    <tr>\n      <td>17</td>\n      <td>17</td>\n      <td>Flint</td>\n      <td>Nab</td>\n      <td>EU</td>\n      <td>Czech Republic</td>\n      <td>15646.50</td>\n      <td>1721.12</td>\n      <td>29.87</td>\n      <td>NOT ASSIGNED,</td>\n      <td>2015-05-01</td>\n      <td>2015</td>\n      <td>5</td>\n      <td>11.000032</td>\n    </tr>\n    <tr>\n      <td>18</td>\n      <td>18</td>\n      <td>Flint</td>\n      <td>Food</td>\n      <td>EU</td>\n      <td>Czech Republic</td>\n      <td>1087036.59</td>\n      <td>43481.46</td>\n      <td>2447.45</td>\n      <td>NOT ASSIGNED,</td>\n      <td>2015-09-01</td>\n      <td>2015</td>\n      <td>9</td>\n      <td>4.000000</td>\n    </tr>\n    <tr>\n      <td>19</td>\n      <td>19</td>\n      <td>Flint</td>\n      <td>Beer</td>\n      <td>EU</td>\n      <td>Czech Republic</td>\n      <td>3301.19</td>\n      <td>462.17</td>\n      <td>7.42</td>\n      <td>NOT ASSIGNED,</td>\n      <td>2015-12-01</td>\n      <td>2015</td>\n      <td>12</td>\n      <td>14.000103</td>\n    </tr>\n  </tbody>\n</table>\n</div>",
      "text/plain": "    Unnamed: 0  Color Product Category Region         Country  Sales (USD)  \\\n0            0  Flint             Food     EU  Czech Republic    719463.38   \n1            1  Flint              Nab     EU  Czech Republic      5339.40   \n2            2  Flint              Nab     EU  Czech Republic     30341.28   \n3            3  Flint              Nab     EU  Czech Republic      8814.72   \n4            4  Flint             Wine     EU  Czech Republic     70702.15   \n5            5  Flint             Wine     EU  Czech Republic    124935.62   \n6            6  Flint              Nab     EU  Czech Republic     28471.65   \n7            7  Flint  Drug & chemical     EU  Czech Republic     17006.82   \n8            8  Flint          Spirits     EU  Czech Republic    173605.15   \n9            9  Flint             Wine     EU  Czech Republic    115043.96   \n10          10  Flint          Spirits     EU  Czech Republic    244828.86   \n11          11  Flint  Drug & chemical     EU  Czech Republic     10112.56   \n12          12  Flint    Miscellaneous     EU  Czech Republic     76524.54   \n13          13  Flint    Miscellaneous     EU  Czech Republic     57082.89   \n14          14  Flint    Miscellaneous     EU  Czech Republic     90822.42   \n15          15  Flint             Wine     EU  Czech Republic    107974.31   \n16          16  Flint          Spirits     EU  Czech Republic    156445.32   \n17          17  Flint              Nab     EU  Czech Republic     15646.50   \n18          18  Flint             Food     EU  Czech Republic   1087036.59   \n19          19  Flint             Beer     EU  Czech Republic      3301.19   \n\n    Negotiated Discount  Quantity in TO        Company         dt  year  \\\n0              57557.07         1544.32  NOT ASSIGNED, 2015-12-01  2015   \n1                640.73            9.95  NOT ASSIGNED, 2015-01-01  2015   \n2               1213.65           61.25  NOT ASSIGNED, 2015-08-01  2015   \n3                705.18           17.04  NOT ASSIGNED, 2015-02-01  2015   \n4               9898.30          156.62  NOT ASSIGNED, 2015-02-01  2015   \n5               9994.85          259.84  NOT ASSIGNED, 2015-03-01  2015   \n6                854.15           58.09  NOT ASSIGNED, 2015-07-01  2015   \n7               1190.48           11.06  NOT ASSIGNED, 2015-09-01  2015   \n8              15624.46          380.79  NOT ASSIGNED, 2015-05-01  2015   \n9                  0.00          228.60  NOT ASSIGNED, 2015-12-01  2015   \n10             29379.46          518.40  NOT ASSIGNED, 2015-04-01  2015   \n11              1011.26            6.38  NOT ASSIGNED, 2015-03-01  2015   \n12              9182.94           72.40  NOT ASSIGNED, 2015-05-01  2015   \n13              6279.12           66.26  NOT ASSIGNED, 2015-04-01  2015   \n14                 0.00          109.45  NOT ASSIGNED, 2015-09-01  2015   \n15              4318.97          230.04  NOT ASSIGNED, 2015-05-01  2015   \n16              9386.72          311.24  NOT ASSIGNED, 2015-12-01  2015   \n17              1721.12           29.87  NOT ASSIGNED, 2015-05-01  2015   \n18             43481.46         2447.45  NOT ASSIGNED, 2015-09-01  2015   \n19               462.17            7.42  NOT ASSIGNED, 2015-12-01  2015   \n\n    month  % discount  \n0      12    8.000000  \n1       1   12.000037  \n2       8    3.999996  \n3       2    8.000027  \n4       2   13.999999  \n5       3    8.000000  \n6       7    3.000002  \n7       9    7.000015  \n8       5    8.999998  \n9      12    0.000000  \n10      4   11.999999  \n11      3   10.000040  \n12      5   11.999994  \n13      4   11.000004  \n14      9    0.000000  \n15      5    3.999998  \n16     12    6.000001  \n17      5   11.000032  \n18      9    4.000000  \n19     12   14.000103  "
     },
     "execution_count": 16,
     "metadata": {},
     "output_type": "execute_result"
    }
   ],
   "source": [
    "clean_df[0:20]"
   ]
  },
  {
   "cell_type": "markdown",
   "metadata": {},
   "source": [
    "### What is the greatest discount ever given, to what company and when? Which company has gotten the lowest discount?"
   ]
  },
  {
   "cell_type": "code",
   "execution_count": 17,
   "metadata": {},
   "outputs": [
    {
     "data": {
      "text/plain": "count    204136.000000\nmean          6.854534\nstd           4.887646\nmin           0.000000\n25%           2.000007\n50%           6.999999\n75%          11.000000\nmax          16.666667\nName: % discount, dtype: float64"
     },
     "execution_count": 17,
     "metadata": {},
     "output_type": "execute_result"
    }
   ],
   "source": [
    "clean_df['% discount'].describe()"
   ]
  },
  {
   "cell_type": "markdown",
   "metadata": {},
   "source": [
    "Print information about the greatest discount."
   ]
  },
  {
   "cell_type": "code",
   "execution_count": 18,
   "metadata": {},
   "outputs": [
    {
     "data": {
      "text/html": "<div>\n<style scoped>\n    .dataframe tbody tr th:only-of-type {\n        vertical-align: middle;\n    }\n\n    .dataframe tbody tr th {\n        vertical-align: top;\n    }\n\n    .dataframe thead th {\n        text-align: right;\n    }\n</style>\n<table border=\"1\" class=\"dataframe\">\n  <thead>\n    <tr style=\"text-align: right;\">\n      <th></th>\n      <th>Unnamed: 0</th>\n      <th>Color</th>\n      <th>Product Category</th>\n      <th>Region</th>\n      <th>Country</th>\n      <th>Sales (USD)</th>\n      <th>Negotiated Discount</th>\n      <th>Quantity in TO</th>\n      <th>Company</th>\n      <th>dt</th>\n      <th>year</th>\n      <th>month</th>\n      <th>% discount</th>\n    </tr>\n  </thead>\n  <tbody>\n    <tr>\n      <td>82656</td>\n      <td>82656</td>\n      <td>NaN</td>\n      <td>Beer</td>\n      <td>North America</td>\n      <td>Canada</td>\n      <td>0.12</td>\n      <td>0.02</td>\n      <td>0.00</td>\n      <td>TRICORBRAUN,</td>\n      <td>2018-01-01</td>\n      <td>2018</td>\n      <td>1</td>\n      <td>16.666667</td>\n    </tr>\n    <tr>\n      <td>175758</td>\n      <td>175758</td>\n      <td>NaN</td>\n      <td>Wine</td>\n      <td>EU</td>\n      <td>Estonia</td>\n      <td>0.12</td>\n      <td>0.02</td>\n      <td>0.45</td>\n      <td>NOT ASSIGNED,</td>\n      <td>2019-03-01</td>\n      <td>2019</td>\n      <td>3</td>\n      <td>16.666667</td>\n    </tr>\n  </tbody>\n</table>\n</div>",
      "text/plain": "        Unnamed: 0 Color Product Category         Region  Country  \\\n82656        82656   NaN             Beer  North America   Canada   \n175758      175758   NaN             Wine             EU  Estonia   \n\n        Sales (USD)  Negotiated Discount  Quantity in TO        Company  \\\n82656          0.12                 0.02            0.00   TRICORBRAUN,   \n175758         0.12                 0.02            0.45  NOT ASSIGNED,   \n\n               dt  year  month  % discount  \n82656  2018-01-01  2018      1   16.666667  \n175758 2019-03-01  2019      3   16.666667  "
     },
     "execution_count": 18,
     "metadata": {},
     "output_type": "execute_result"
    }
   ],
   "source": [
    "max_discount = clean_df['% discount'].max()\n",
    "df_max_discount = clean_df[clean_df['% discount'] == max_discount]\n",
    "df_max_discount"
   ]
  },
  {
   "cell_type": "markdown",
   "metadata": {},
   "source": [
    "Print information about the lowest discount."
   ]
  },
  {
   "cell_type": "code",
   "execution_count": 19,
   "metadata": {},
   "outputs": [
    {
     "data": {
      "text/html": "<div>\n<style scoped>\n    .dataframe tbody tr th:only-of-type {\n        vertical-align: middle;\n    }\n\n    .dataframe tbody tr th {\n        vertical-align: top;\n    }\n\n    .dataframe thead th {\n        text-align: right;\n    }\n</style>\n<table border=\"1\" class=\"dataframe\">\n  <thead>\n    <tr style=\"text-align: right;\">\n      <th></th>\n      <th>Unnamed: 0</th>\n      <th>Color</th>\n      <th>Product Category</th>\n      <th>Region</th>\n      <th>Country</th>\n      <th>Sales (USD)</th>\n      <th>Negotiated Discount</th>\n      <th>Quantity in TO</th>\n      <th>Company</th>\n      <th>dt</th>\n      <th>year</th>\n      <th>month</th>\n      <th>% discount</th>\n    </tr>\n  </thead>\n  <tbody>\n    <tr>\n      <td>9</td>\n      <td>9</td>\n      <td>Flint</td>\n      <td>Wine</td>\n      <td>EU</td>\n      <td>Czech Republic</td>\n      <td>115043.96</td>\n      <td>0.0</td>\n      <td>228.60</td>\n      <td>NOT ASSIGNED,</td>\n      <td>2015-12-01</td>\n      <td>2015</td>\n      <td>12</td>\n      <td>0.0</td>\n    </tr>\n    <tr>\n      <td>14</td>\n      <td>14</td>\n      <td>Flint</td>\n      <td>Miscellaneous</td>\n      <td>EU</td>\n      <td>Czech Republic</td>\n      <td>90822.42</td>\n      <td>0.0</td>\n      <td>109.45</td>\n      <td>NOT ASSIGNED,</td>\n      <td>2015-09-01</td>\n      <td>2015</td>\n      <td>9</td>\n      <td>0.0</td>\n    </tr>\n    <tr>\n      <td>23</td>\n      <td>23</td>\n      <td>Flint</td>\n      <td>Miscellaneous</td>\n      <td>EU</td>\n      <td>Czech Republic</td>\n      <td>36908.64</td>\n      <td>0.0</td>\n      <td>48.23</td>\n      <td>NOT ASSIGNED,</td>\n      <td>2015-01-01</td>\n      <td>2015</td>\n      <td>1</td>\n      <td>0.0</td>\n    </tr>\n    <tr>\n      <td>65</td>\n      <td>65</td>\n      <td>Flint</td>\n      <td>Nab</td>\n      <td>EU</td>\n      <td>Czech Republic</td>\n      <td>18473.37</td>\n      <td>0.0</td>\n      <td>34.78</td>\n      <td>NOT ASSIGNED,</td>\n      <td>2015-10-01</td>\n      <td>2015</td>\n      <td>10</td>\n      <td>0.0</td>\n    </tr>\n    <tr>\n      <td>82</td>\n      <td>82</td>\n      <td>Flint</td>\n      <td>Miscellaneous</td>\n      <td>EU</td>\n      <td>Czech Republic</td>\n      <td>195431.38</td>\n      <td>0.0</td>\n      <td>121.03</td>\n      <td>NOT ASSIGNED,</td>\n      <td>2015-10-01</td>\n      <td>2015</td>\n      <td>10</td>\n      <td>0.0</td>\n    </tr>\n    <tr>\n      <td>...</td>\n      <td>...</td>\n      <td>...</td>\n      <td>...</td>\n      <td>...</td>\n      <td>...</td>\n      <td>...</td>\n      <td>...</td>\n      <td>...</td>\n      <td>...</td>\n      <td>...</td>\n      <td>...</td>\n      <td>...</td>\n      <td>...</td>\n    </tr>\n    <tr>\n      <td>204820</td>\n      <td>204820</td>\n      <td>Flint</td>\n      <td>Beer</td>\n      <td>Latin America</td>\n      <td>Mexico</td>\n      <td>0.00</td>\n      <td>0.0</td>\n      <td>0.15</td>\n      <td>NOT ASSIGNED,</td>\n      <td>2018-07-01</td>\n      <td>2018</td>\n      <td>7</td>\n      <td>0.0</td>\n    </tr>\n    <tr>\n      <td>204831</td>\n      <td>204831</td>\n      <td>Flint</td>\n      <td>Spirits</td>\n      <td>Latin America</td>\n      <td>Mexico</td>\n      <td>1962873.15</td>\n      <td>0.0</td>\n      <td>3170.71</td>\n      <td>NOT ASSIGNED,</td>\n      <td>2016-06-01</td>\n      <td>2016</td>\n      <td>6</td>\n      <td>0.0</td>\n    </tr>\n    <tr>\n      <td>204837</td>\n      <td>204837</td>\n      <td>Flint</td>\n      <td>Food</td>\n      <td>Latin America</td>\n      <td>Mexico</td>\n      <td>2722056.94</td>\n      <td>0.0</td>\n      <td>4423.38</td>\n      <td>NOT ASSIGNED,</td>\n      <td>2018-02-01</td>\n      <td>2018</td>\n      <td>2</td>\n      <td>0.0</td>\n    </tr>\n    <tr>\n      <td>204839</td>\n      <td>204839</td>\n      <td>Flint</td>\n      <td>Food</td>\n      <td>Latin America</td>\n      <td>Mexico</td>\n      <td>1802388.38</td>\n      <td>0.0</td>\n      <td>3153.11</td>\n      <td>NOT ASSIGNED,</td>\n      <td>2015-12-01</td>\n      <td>2015</td>\n      <td>12</td>\n      <td>0.0</td>\n    </tr>\n    <tr>\n      <td>204849</td>\n      <td>204849</td>\n      <td>Flint</td>\n      <td>Nab</td>\n      <td>Latin America</td>\n      <td>Mexico</td>\n      <td>232599.23</td>\n      <td>0.0</td>\n      <td>521.34</td>\n      <td>NOT ASSIGNED,</td>\n      <td>2020-02-01</td>\n      <td>2020</td>\n      <td>2</td>\n      <td>0.0</td>\n    </tr>\n  </tbody>\n</table>\n<p>29593 rows × 13 columns</p>\n</div>",
      "text/plain": "        Unnamed: 0  Color Product Category         Region         Country  \\\n9                9  Flint             Wine             EU  Czech Republic   \n14              14  Flint    Miscellaneous             EU  Czech Republic   \n23              23  Flint    Miscellaneous             EU  Czech Republic   \n65              65  Flint              Nab             EU  Czech Republic   \n82              82  Flint    Miscellaneous             EU  Czech Republic   \n...            ...    ...              ...            ...             ...   \n204820      204820  Flint             Beer  Latin America          Mexico   \n204831      204831  Flint          Spirits  Latin America          Mexico   \n204837      204837  Flint             Food  Latin America          Mexico   \n204839      204839  Flint             Food  Latin America          Mexico   \n204849      204849  Flint              Nab  Latin America          Mexico   \n\n        Sales (USD)  Negotiated Discount  Quantity in TO        Company  \\\n9         115043.96                  0.0          228.60  NOT ASSIGNED,   \n14         90822.42                  0.0          109.45  NOT ASSIGNED,   \n23         36908.64                  0.0           48.23  NOT ASSIGNED,   \n65         18473.37                  0.0           34.78  NOT ASSIGNED,   \n82        195431.38                  0.0          121.03  NOT ASSIGNED,   \n...             ...                  ...             ...            ...   \n204820         0.00                  0.0            0.15  NOT ASSIGNED,   \n204831   1962873.15                  0.0         3170.71  NOT ASSIGNED,   \n204837   2722056.94                  0.0         4423.38  NOT ASSIGNED,   \n204839   1802388.38                  0.0         3153.11  NOT ASSIGNED,   \n204849    232599.23                  0.0          521.34  NOT ASSIGNED,   \n\n               dt  year  month  % discount  \n9      2015-12-01  2015     12         0.0  \n14     2015-09-01  2015      9         0.0  \n23     2015-01-01  2015      1         0.0  \n65     2015-10-01  2015     10         0.0  \n82     2015-10-01  2015     10         0.0  \n...           ...   ...    ...         ...  \n204820 2018-07-01  2018      7         0.0  \n204831 2016-06-01  2016      6         0.0  \n204837 2018-02-01  2018      2         0.0  \n204839 2015-12-01  2015     12         0.0  \n204849 2020-02-01  2020      2         0.0  \n\n[29593 rows x 13 columns]"
     },
     "execution_count": 19,
     "metadata": {},
     "output_type": "execute_result"
    }
   ],
   "source": [
    "min_discount = clean_df['% discount'].min()\n",
    "df_min_discount = clean_df[clean_df['% discount'] == min_discount]\n",
    "df_min_discount"
   ]
  },
  {
   "cell_type": "markdown",
   "metadata": {},
   "source": [
    "### What is the sales average for each country by year?"
   ]
  },
  {
   "cell_type": "code",
   "execution_count": 20,
   "metadata": {},
   "outputs": [
    {
     "data": {
      "text/html": "<div>\n<style scoped>\n    .dataframe tbody tr th:only-of-type {\n        vertical-align: middle;\n    }\n\n    .dataframe tbody tr th {\n        vertical-align: top;\n    }\n\n    .dataframe thead th {\n        text-align: right;\n    }\n</style>\n<table border=\"1\" class=\"dataframe\">\n  <thead>\n    <tr style=\"text-align: right;\">\n      <th></th>\n      <th></th>\n      <th>Sales (USD)</th>\n    </tr>\n    <tr>\n      <th>Country</th>\n      <th>year</th>\n      <th></th>\n    </tr>\n  </thead>\n  <tbody>\n    <tr>\n      <td rowspan=\"5\" valign=\"top\">Argentina</td>\n      <td>2015</td>\n      <td>5.353886e+04</td>\n    </tr>\n    <tr>\n      <td>2016</td>\n      <td>7.119739e+04</td>\n    </tr>\n    <tr>\n      <td>2017</td>\n      <td>1.391253e+05</td>\n    </tr>\n    <tr>\n      <td>2018</td>\n      <td>6.302183e+05</td>\n    </tr>\n    <tr>\n      <td>2019</td>\n      <td>3.240988e+05</td>\n    </tr>\n    <tr>\n      <td>...</td>\n      <td>...</td>\n      <td>...</td>\n    </tr>\n    <tr>\n      <td rowspan=\"5\" valign=\"top\">Vietnam</td>\n      <td>2016</td>\n      <td>4.006964e+05</td>\n    </tr>\n    <tr>\n      <td>2017</td>\n      <td>4.147360e+05</td>\n    </tr>\n    <tr>\n      <td>2018</td>\n      <td>3.304969e+06</td>\n    </tr>\n    <tr>\n      <td>2019</td>\n      <td>1.801431e+06</td>\n    </tr>\n    <tr>\n      <td>2020</td>\n      <td>5.598194e+05</td>\n    </tr>\n  </tbody>\n</table>\n<p>187 rows × 1 columns</p>\n</div>",
      "text/plain": "                 Sales (USD)\nCountry   year              \nArgentina 2015  5.353886e+04\n          2016  7.119739e+04\n          2017  1.391253e+05\n          2018  6.302183e+05\n          2019  3.240988e+05\n...                      ...\nVietnam   2016  4.006964e+05\n          2017  4.147360e+05\n          2018  3.304969e+06\n          2019  1.801431e+06\n          2020  5.598194e+05\n\n[187 rows x 1 columns]"
     },
     "execution_count": 20,
     "metadata": {},
     "output_type": "execute_result"
    }
   ],
   "source": [
    "clean_df.groupby(['Country','year'])[['Sales (USD)']].mean()"
   ]
  },
  {
   "cell_type": "markdown",
   "metadata": {},
   "source": [
    "### Descriptive analytics:\n",
    "When you want to get fast insights, It's useful to see the statistical description of the numeric columns available in the dataset. We can use the function `describe()` to get this information."
   ]
  },
  {
   "cell_type": "markdown",
   "metadata": {},
   "source": [
    "Use `describe()` in a `for loop` to get the statistical description of `Quantity in TO` for each region."
   ]
  },
  {
   "cell_type": "code",
   "execution_count": 21,
   "metadata": {},
   "outputs": [
    {
     "name": "stdout",
     "output_type": "stream",
     "text": "------Region:  APAC\n       Quantity in TO\ncount    26737.000000\nmean      1299.486700\nstd       8093.941751\nmin       -843.200000\n25%         11.470000\n50%         82.430000\n75%        418.000000\nmax     275637.080000\n------Region:  APAC-JV\n       Quantity in TO\ncount      922.000000\nmean      5272.022137\nstd      12033.002317\nmin          0.000000\n25%         60.930000\n50%        541.840000\n75%       3959.197500\nmax      80296.730000\n------Region:  EU\n       Quantity in TO\ncount    80110.000000\nmean      3105.639167\nstd      11136.545463\nmin      -2781.000000\n25%         70.830000\n50%        404.325000\n75%       1782.547500\nmax     362488.180000\n------Region:  IVC\n       Quantity in TO\ncount       71.000000\nmean     57182.550000\nstd      56811.794372\nmin       8891.610000\n25%      15127.250000\n50%      43349.130000\n75%      60284.390000\nmax     195130.610000\n------Region:  Latin America\n       Quantity in TO\ncount    5.926500e+04\nmean     1.926197e+03\nstd      1.414426e+04\nmin     -1.400100e+03\n25%      1.752000e+01\n50%      1.663800e+02\n75%      9.082900e+02\nmax      1.033173e+06\n------Region:  North America\n       Quantity in TO\ncount    3.096200e+04\nmean     5.218161e+03\nstd      8.922646e+04\nmin     -1.837710e+03\n25%      1.727250e+01\n50%      1.591550e+02\n75%      1.018125e+03\nmax      7.794761e+06\n"
    }
   ],
   "source": [
    "grp_obj = clean_df.groupby('Region')\n",
    "\n",
    "# Loop through countries\n",
    "for item in grp_obj:\n",
    "    print('------Region: ', item[0])\n",
    "    grp_df = item[1]\n",
    "    #grp_df.head()\n",
    "    relevant_df = grp_df[['Quantity in TO']]\n",
    "    year_df = relevant_df.describe()\n",
    "    print(year_df)"
   ]
  },
  {
   "cell_type": "markdown",
   "metadata": {},
   "source": [
    "### Which companies buy more tonnes, which ones buy the least?. \n",
    "Classify them with `HOT` if they buy more tonnes than the median and `COLD` if they buy less."
   ]
  },
  {
   "cell_type": "code",
   "execution_count": 22,
   "metadata": {},
   "outputs": [
    {
     "data": {
      "text/plain": "(204867, 13)"
     },
     "execution_count": 22,
     "metadata": {},
     "output_type": "execute_result"
    }
   ],
   "source": [
    "clean_df.shape"
   ]
  },
  {
   "cell_type": "code",
   "execution_count": 23,
   "metadata": {},
   "outputs": [
    {
     "name": "stdout",
     "output_type": "stream",
     "text": "(53378, 13)\n(53391, 13)\n"
    }
   ],
   "source": [
    "print(clean_df[clean_df['Company'] == 'NOT ASSIGNED,'].shape)\n",
    "print(clean_df[(clean_df['Company'] ==  'NOT ASSIGNED,') | (clean_df['Company'] ==  ',')].shape)"
   ]
  },
  {
   "cell_type": "code",
   "execution_count": 24,
   "metadata": {},
   "outputs": [
    {
     "name": "stdout",
     "output_type": "stream",
     "text": "(53378, 13)\nIndividual Sales median : 221.4\n"
    },
    {
     "data": {
      "text/plain": "pandas.core.groupby.generic.SeriesGroupBy"
     },
     "execution_count": 24,
     "metadata": {},
     "output_type": "execute_result"
    }
   ],
   "source": [
    "print(clean_df[clean_df['Company'] == 'NOT ASSIGNED,'].shape)\n",
    "assign_cp_df = clean_df[(clean_df['Company'] != 'NOT ASSIGNED,') & (clean_df['Company'] !=  ',')]\n",
    "assign_cp_df.shape\n",
    "print(\"Individual Sales median :\", f\"{assign_cp_df['Quantity in TO'].median():,}\")\n",
    "\n",
    "group_list_df = assign_cp_df.groupby('Company')['Quantity in TO']\n",
    "sum_group_list_df = assign_cp_df.groupby('Company')['Quantity in TO'].sum()\n",
    "type(group_list_df)"
   ]
  },
  {
   "cell_type": "code",
   "execution_count": 25,
   "metadata": {},
   "outputs": [
    {
     "name": "stdout",
     "output_type": "stream",
     "text": "Companies sales median:  22,048.350000000006\n"
    },
    {
     "data": {
      "text/html": "<div>\n<style scoped>\n    .dataframe tbody tr th:only-of-type {\n        vertical-align: middle;\n    }\n\n    .dataframe tbody tr th {\n        vertical-align: top;\n    }\n\n    .dataframe thead th {\n        text-align: right;\n    }\n</style>\n<table border=\"1\" class=\"dataframe\">\n  <thead>\n    <tr style=\"text-align: right;\">\n      <th></th>\n      <th>Unnamed: 0</th>\n      <th>Color</th>\n      <th>Product Category</th>\n      <th>Region</th>\n      <th>Country</th>\n      <th>Sales (USD)</th>\n      <th>Negotiated Discount</th>\n      <th>Quantity in TO</th>\n      <th>Company</th>\n      <th>dt</th>\n      <th>year</th>\n      <th>month</th>\n      <th>% discount</th>\n      <th>Sales Company</th>\n      <th>Sales Score</th>\n    </tr>\n  </thead>\n  <tbody>\n    <tr>\n      <td>35333</td>\n      <td>35333</td>\n      <td>NaN</td>\n      <td>NOT ASSIGNED</td>\n      <td>North America</td>\n      <td>USA</td>\n      <td>340.18</td>\n      <td>37.42</td>\n      <td>0.15</td>\n      <td>(*CINCINNATI CONTAINER COMPANY*),</td>\n      <td>2018-10-01</td>\n      <td>2018</td>\n      <td>10</td>\n      <td>11.000059</td>\n      <td>32032.06</td>\n      <td>HOT</td>\n    </tr>\n    <tr>\n      <td>42231</td>\n      <td>42231</td>\n      <td>Amber</td>\n      <td>Drug &amp; chemical</td>\n      <td>North America</td>\n      <td>USA</td>\n      <td>348759.82</td>\n      <td>24413.19</td>\n      <td>249.63</td>\n      <td>(*CINCINNATI CONTAINER COMPANY*),</td>\n      <td>2018-01-01</td>\n      <td>2018</td>\n      <td>1</td>\n      <td>7.000001</td>\n      <td>32032.06</td>\n      <td>HOT</td>\n    </tr>\n    <tr>\n      <td>42232</td>\n      <td>42232</td>\n      <td>Amber</td>\n      <td>Drug &amp; chemical</td>\n      <td>North America</td>\n      <td>USA</td>\n      <td>96745.18</td>\n      <td>14511.78</td>\n      <td>74.57</td>\n      <td>(*CINCINNATI CONTAINER COMPANY*),</td>\n      <td>2015-04-01</td>\n      <td>2015</td>\n      <td>4</td>\n      <td>15.000003</td>\n      <td>32032.06</td>\n      <td>HOT</td>\n    </tr>\n    <tr>\n      <td>42233</td>\n      <td>42233</td>\n      <td>Amber</td>\n      <td>Drug &amp; chemical</td>\n      <td>North America</td>\n      <td>USA</td>\n      <td>275613.91</td>\n      <td>27561.39</td>\n      <td>199.36</td>\n      <td>(*CINCINNATI CONTAINER COMPANY*),</td>\n      <td>2017-08-01</td>\n      <td>2017</td>\n      <td>8</td>\n      <td>10.000000</td>\n      <td>32032.06</td>\n      <td>HOT</td>\n    </tr>\n    <tr>\n      <td>42234</td>\n      <td>42234</td>\n      <td>Amber</td>\n      <td>Drug &amp; chemical</td>\n      <td>North America</td>\n      <td>USA</td>\n      <td>165896.61</td>\n      <td>9953.80</td>\n      <td>120.04</td>\n      <td>(*CINCINNATI CONTAINER COMPANY*),</td>\n      <td>2017-06-01</td>\n      <td>2017</td>\n      <td>6</td>\n      <td>6.000002</td>\n      <td>32032.06</td>\n      <td>HOT</td>\n    </tr>\n  </tbody>\n</table>\n</div>",
      "text/plain": "       Unnamed: 0  Color Product Category         Region Country  Sales (USD)  \\\n35333       35333    NaN     NOT ASSIGNED  North America     USA       340.18   \n42231       42231  Amber  Drug & chemical  North America     USA    348759.82   \n42232       42232  Amber  Drug & chemical  North America     USA     96745.18   \n42233       42233  Amber  Drug & chemical  North America     USA    275613.91   \n42234       42234  Amber  Drug & chemical  North America     USA    165896.61   \n\n       Negotiated Discount  Quantity in TO                            Company  \\\n35333                37.42            0.15  (*CINCINNATI CONTAINER COMPANY*),   \n42231             24413.19          249.63  (*CINCINNATI CONTAINER COMPANY*),   \n42232             14511.78           74.57  (*CINCINNATI CONTAINER COMPANY*),   \n42233             27561.39          199.36  (*CINCINNATI CONTAINER COMPANY*),   \n42234              9953.80          120.04  (*CINCINNATI CONTAINER COMPANY*),   \n\n              dt  year  month  % discount  Sales Company Sales Score  \n35333 2018-10-01  2018     10   11.000059       32032.06         HOT  \n42231 2018-01-01  2018      1    7.000001       32032.06         HOT  \n42232 2015-04-01  2015      4   15.000003       32032.06         HOT  \n42233 2017-08-01  2017      8   10.000000       32032.06         HOT  \n42234 2017-06-01  2017      6    6.000002       32032.06         HOT  "
     },
     "execution_count": 25,
     "metadata": {},
     "output_type": "execute_result"
    }
   ],
   "source": [
    "\n",
    "#print (group_list_df.describe())\n",
    "cp_sales_median = sum_group_list_df.median()\n",
    "list_cp_df = []\n",
    "sum_group_list_df\n",
    "print(\"Companies sales median: \", f\"{cp_sales_median:,}\")\n",
    "for item in group_list_df:\n",
    "    #print(\" ------ Loop Begins ------ \")\n",
    "\n",
    "    #print (group_list_df.get_group(key), \"\\n\\n\")\n",
    "    #print(type(item))     # Showing type of the item in grp_obj\n",
    "    #print(item[0])        # Region\n",
    "    temp_assign_df = assign_cp_df[assign_cp_df['Company'] == item[0]].copy()     \n",
    "    qualification = \"HOT\" if item[1].sum() > cp_sales_median else \"COLD\" \n",
    "    temp_assign_df['Sales Company'] = item[1].sum()\n",
    "    temp_assign_df['Sales Score'] = qualification\n",
    "    list_cp_df.append(temp_assign_df)\n",
    "\n",
    "    #print(\" ------ Loop Ends ------ \")\n",
    "\n",
    "qualified_cp_df = pd.concat(list_cp_df)\n",
    "qualified_cp_df.head()"
   ]
  },
  {
   "cell_type": "code",
   "execution_count": 26,
   "metadata": {},
   "outputs": [
    {
     "data": {
      "text/html": "<div>\n<style scoped>\n    .dataframe tbody tr th:only-of-type {\n        vertical-align: middle;\n    }\n\n    .dataframe tbody tr th {\n        vertical-align: top;\n    }\n\n    .dataframe thead th {\n        text-align: right;\n    }\n</style>\n<table border=\"1\" class=\"dataframe\">\n  <thead>\n    <tr style=\"text-align: right;\">\n      <th></th>\n      <th>Unnamed: 0</th>\n      <th>Color</th>\n      <th>Product Category</th>\n      <th>Region</th>\n      <th>Country</th>\n      <th>Sales (USD)</th>\n      <th>Negotiated Discount</th>\n      <th>Quantity in TO</th>\n      <th>Company</th>\n      <th>dt</th>\n      <th>year</th>\n      <th>month</th>\n      <th>% discount</th>\n      <th>Sales Company</th>\n      <th>Sales Score</th>\n    </tr>\n  </thead>\n  <tbody>\n    <tr>\n      <td>35333</td>\n      <td>35333</td>\n      <td>NaN</td>\n      <td>NOT ASSIGNED</td>\n      <td>North America</td>\n      <td>USA</td>\n      <td>340.18</td>\n      <td>37.42</td>\n      <td>0.15</td>\n      <td>(*CINCINNATI CONTAINER COMPANY*),</td>\n      <td>2018-10-01</td>\n      <td>2018</td>\n      <td>10</td>\n      <td>11.000059</td>\n      <td>32032.06</td>\n      <td>HOT</td>\n    </tr>\n    <tr>\n      <td>42231</td>\n      <td>42231</td>\n      <td>Amber</td>\n      <td>Drug &amp; chemical</td>\n      <td>North America</td>\n      <td>USA</td>\n      <td>348759.82</td>\n      <td>24413.19</td>\n      <td>249.63</td>\n      <td>(*CINCINNATI CONTAINER COMPANY*),</td>\n      <td>2018-01-01</td>\n      <td>2018</td>\n      <td>1</td>\n      <td>7.000001</td>\n      <td>32032.06</td>\n      <td>HOT</td>\n    </tr>\n    <tr>\n      <td>42232</td>\n      <td>42232</td>\n      <td>Amber</td>\n      <td>Drug &amp; chemical</td>\n      <td>North America</td>\n      <td>USA</td>\n      <td>96745.18</td>\n      <td>14511.78</td>\n      <td>74.57</td>\n      <td>(*CINCINNATI CONTAINER COMPANY*),</td>\n      <td>2015-04-01</td>\n      <td>2015</td>\n      <td>4</td>\n      <td>15.000003</td>\n      <td>32032.06</td>\n      <td>HOT</td>\n    </tr>\n    <tr>\n      <td>42233</td>\n      <td>42233</td>\n      <td>Amber</td>\n      <td>Drug &amp; chemical</td>\n      <td>North America</td>\n      <td>USA</td>\n      <td>275613.91</td>\n      <td>27561.39</td>\n      <td>199.36</td>\n      <td>(*CINCINNATI CONTAINER COMPANY*),</td>\n      <td>2017-08-01</td>\n      <td>2017</td>\n      <td>8</td>\n      <td>10.000000</td>\n      <td>32032.06</td>\n      <td>HOT</td>\n    </tr>\n    <tr>\n      <td>42234</td>\n      <td>42234</td>\n      <td>Amber</td>\n      <td>Drug &amp; chemical</td>\n      <td>North America</td>\n      <td>USA</td>\n      <td>165896.61</td>\n      <td>9953.80</td>\n      <td>120.04</td>\n      <td>(*CINCINNATI CONTAINER COMPANY*),</td>\n      <td>2017-06-01</td>\n      <td>2017</td>\n      <td>6</td>\n      <td>6.000002</td>\n      <td>32032.06</td>\n      <td>HOT</td>\n    </tr>\n    <tr>\n      <td>...</td>\n      <td>...</td>\n      <td>...</td>\n      <td>...</td>\n      <td>...</td>\n      <td>...</td>\n      <td>...</td>\n      <td>...</td>\n      <td>...</td>\n      <td>...</td>\n      <td>...</td>\n      <td>...</td>\n      <td>...</td>\n      <td>...</td>\n      <td>...</td>\n      <td>...</td>\n    </tr>\n    <tr>\n      <td>148339</td>\n      <td>148339</td>\n      <td>Other</td>\n      <td>Wine</td>\n      <td>EU</td>\n      <td>Italy</td>\n      <td>11217.34</td>\n      <td>0.00</td>\n      <td>28.81</td>\n      <td>ZURLA ANTONIO ST. MARIA,</td>\n      <td>2021-01-01</td>\n      <td>2021</td>\n      <td>1</td>\n      <td>0.000000</td>\n      <td>476346.15</td>\n      <td>HOT</td>\n    </tr>\n    <tr>\n      <td>148362</td>\n      <td>148362</td>\n      <td>Other</td>\n      <td>Wine</td>\n      <td>EU</td>\n      <td>Italy</td>\n      <td>15558.97</td>\n      <td>1867.08</td>\n      <td>41.09</td>\n      <td>ZURLA ANTONIO ST. MARIA,</td>\n      <td>2022-04-01</td>\n      <td>2022</td>\n      <td>4</td>\n      <td>12.000023</td>\n      <td>476346.15</td>\n      <td>HOT</td>\n    </tr>\n    <tr>\n      <td>148371</td>\n      <td>148371</td>\n      <td>Other</td>\n      <td>Wine</td>\n      <td>EU</td>\n      <td>Italy</td>\n      <td>20177.69</td>\n      <td>2623.10</td>\n      <td>51.41</td>\n      <td>ZURLA ANTONIO ST. MARIA,</td>\n      <td>2022-03-01</td>\n      <td>2022</td>\n      <td>3</td>\n      <td>13.000001</td>\n      <td>476346.15</td>\n      <td>HOT</td>\n    </tr>\n    <tr>\n      <td>148372</td>\n      <td>148372</td>\n      <td>Other</td>\n      <td>Wine</td>\n      <td>EU</td>\n      <td>Italy</td>\n      <td>14482.23</td>\n      <td>1013.76</td>\n      <td>35.81</td>\n      <td>ZURLA ANTONIO ST. MARIA,</td>\n      <td>2022-01-01</td>\n      <td>2022</td>\n      <td>1</td>\n      <td>7.000027</td>\n      <td>476346.15</td>\n      <td>HOT</td>\n    </tr>\n    <tr>\n      <td>148382</td>\n      <td>148382</td>\n      <td>Other</td>\n      <td>Wine</td>\n      <td>EU</td>\n      <td>Italy</td>\n      <td>21432.62</td>\n      <td>1714.61</td>\n      <td>55.66</td>\n      <td>ZURLA ANTONIO ST. MARIA,</td>\n      <td>2020-02-01</td>\n      <td>2020</td>\n      <td>2</td>\n      <td>8.000002</td>\n      <td>476346.15</td>\n      <td>HOT</td>\n    </tr>\n  </tbody>\n</table>\n<p>151476 rows × 15 columns</p>\n</div>",
      "text/plain": "        Unnamed: 0  Color Product Category         Region Country  \\\n35333        35333    NaN     NOT ASSIGNED  North America     USA   \n42231        42231  Amber  Drug & chemical  North America     USA   \n42232        42232  Amber  Drug & chemical  North America     USA   \n42233        42233  Amber  Drug & chemical  North America     USA   \n42234        42234  Amber  Drug & chemical  North America     USA   \n...            ...    ...              ...            ...     ...   \n148339      148339  Other             Wine             EU   Italy   \n148362      148362  Other             Wine             EU   Italy   \n148371      148371  Other             Wine             EU   Italy   \n148372      148372  Other             Wine             EU   Italy   \n148382      148382  Other             Wine             EU   Italy   \n\n        Sales (USD)  Negotiated Discount  Quantity in TO  \\\n35333        340.18                37.42            0.15   \n42231     348759.82             24413.19          249.63   \n42232      96745.18             14511.78           74.57   \n42233     275613.91             27561.39          199.36   \n42234     165896.61              9953.80          120.04   \n...             ...                  ...             ...   \n148339     11217.34                 0.00           28.81   \n148362     15558.97              1867.08           41.09   \n148371     20177.69              2623.10           51.41   \n148372     14482.23              1013.76           35.81   \n148382     21432.62              1714.61           55.66   \n\n                                  Company         dt  year  month  % discount  \\\n35333   (*CINCINNATI CONTAINER COMPANY*), 2018-10-01  2018     10   11.000059   \n42231   (*CINCINNATI CONTAINER COMPANY*), 2018-01-01  2018      1    7.000001   \n42232   (*CINCINNATI CONTAINER COMPANY*), 2015-04-01  2015      4   15.000003   \n42233   (*CINCINNATI CONTAINER COMPANY*), 2017-08-01  2017      8   10.000000   \n42234   (*CINCINNATI CONTAINER COMPANY*), 2017-06-01  2017      6    6.000002   \n...                                   ...        ...   ...    ...         ...   \n148339           ZURLA ANTONIO ST. MARIA, 2021-01-01  2021      1    0.000000   \n148362           ZURLA ANTONIO ST. MARIA, 2022-04-01  2022      4   12.000023   \n148371           ZURLA ANTONIO ST. MARIA, 2022-03-01  2022      3   13.000001   \n148372           ZURLA ANTONIO ST. MARIA, 2022-01-01  2022      1    7.000027   \n148382           ZURLA ANTONIO ST. MARIA, 2020-02-01  2020      2    8.000002   \n\n        Sales Company Sales Score  \n35333        32032.06         HOT  \n42231        32032.06         HOT  \n42232        32032.06         HOT  \n42233        32032.06         HOT  \n42234        32032.06         HOT  \n...               ...         ...  \n148339      476346.15         HOT  \n148362      476346.15         HOT  \n148371      476346.15         HOT  \n148372      476346.15         HOT  \n148382      476346.15         HOT  \n\n[151476 rows x 15 columns]"
     },
     "execution_count": 26,
     "metadata": {},
     "output_type": "execute_result"
    }
   ],
   "source": [
    "qualified_cp_df"
   ]
  },
  {
   "cell_type": "markdown",
   "metadata": {},
   "source": [
    "Select top 10 in `HOT` and top 10 `COLD` (exclude companies with 0 TO or no category)"
   ]
  },
  {
   "cell_type": "code",
   "execution_count": 27,
   "metadata": {},
   "outputs": [
    {
     "data": {
      "text/html": "<div>\n<style scoped>\n    .dataframe tbody tr th:only-of-type {\n        vertical-align: middle;\n    }\n\n    .dataframe tbody tr th {\n        vertical-align: top;\n    }\n\n    .dataframe thead th {\n        text-align: right;\n    }\n</style>\n<table border=\"1\" class=\"dataframe\">\n  <thead>\n    <tr style=\"text-align: right;\">\n      <th></th>\n      <th>Unnamed: 0</th>\n      <th>Color</th>\n      <th>Product Category</th>\n      <th>Region</th>\n      <th>Country</th>\n      <th>Sales (USD)</th>\n      <th>Negotiated Discount</th>\n      <th>Quantity in TO</th>\n      <th>dt</th>\n      <th>year</th>\n      <th>month</th>\n      <th>% discount</th>\n      <th>Sales Company</th>\n      <th>Sales Score</th>\n    </tr>\n    <tr>\n      <th>Company</th>\n      <th></th>\n      <th></th>\n      <th></th>\n      <th></th>\n      <th></th>\n      <th></th>\n      <th></th>\n      <th></th>\n      <th></th>\n      <th></th>\n      <th></th>\n      <th></th>\n      <th></th>\n      <th></th>\n    </tr>\n  </thead>\n  <tbody>\n    <tr>\n      <td>ANHEUSER-BUSCH INBEV,</td>\n      <td>145693</td>\n      <td>Amber</td>\n      <td>Beer</td>\n      <td>EU</td>\n      <td>United Kingdom</td>\n      <td>4386343.71</td>\n      <td>0.00</td>\n      <td>8711.69</td>\n      <td>2021-02-01</td>\n      <td>2021</td>\n      <td>2</td>\n      <td>0.000000</td>\n      <td>31231947.51</td>\n      <td>HOT</td>\n    </tr>\n    <tr>\n      <td>HEINEKEN,</td>\n      <td>38510</td>\n      <td>Amber</td>\n      <td>Beer</td>\n      <td>EU</td>\n      <td>Switzerland</td>\n      <td>31384672.67</td>\n      <td>313846.73</td>\n      <td>76918.58</td>\n      <td>2018-07-01</td>\n      <td>2018</td>\n      <td>7</td>\n      <td>1.000000</td>\n      <td>25098145.92</td>\n      <td>HOT</td>\n    </tr>\n    <tr>\n      <td>COCA - COLA,</td>\n      <td>27749</td>\n      <td>Flint</td>\n      <td>Spirits</td>\n      <td>Latin America</td>\n      <td>Mexico</td>\n      <td>10756.13</td>\n      <td>322.68</td>\n      <td>16.23</td>\n      <td>2018-10-01</td>\n      <td>2018</td>\n      <td>10</td>\n      <td>2.999964</td>\n      <td>20797735.59</td>\n      <td>HOT</td>\n    </tr>\n    <tr>\n      <td>MOLSON-COORS,</td>\n      <td>63581</td>\n      <td>Flint</td>\n      <td>Beer</td>\n      <td>North America</td>\n      <td>USA</td>\n      <td>22933317.21</td>\n      <td>2751998.07</td>\n      <td>36268.63</td>\n      <td>2019-09-01</td>\n      <td>2019</td>\n      <td>9</td>\n      <td>12.000000</td>\n      <td>13849699.91</td>\n      <td>HOT</td>\n    </tr>\n    <tr>\n      <td>CARLSBERG,</td>\n      <td>138817</td>\n      <td>Green</td>\n      <td>Beer</td>\n      <td>EU</td>\n      <td>Germany</td>\n      <td>174663.73</td>\n      <td>3493.27</td>\n      <td>424.98</td>\n      <td>2020-09-01</td>\n      <td>2020</td>\n      <td>9</td>\n      <td>1.999997</td>\n      <td>13342978.55</td>\n      <td>HOT</td>\n    </tr>\n    <tr>\n      <td>...</td>\n      <td>...</td>\n      <td>...</td>\n      <td>...</td>\n      <td>...</td>\n      <td>...</td>\n      <td>...</td>\n      <td>...</td>\n      <td>...</td>\n      <td>...</td>\n      <td>...</td>\n      <td>...</td>\n      <td>...</td>\n      <td>...</td>\n      <td>...</td>\n    </tr>\n    <tr>\n      <td>FC - OI - FAIRFIELD,</td>\n      <td>203038</td>\n      <td>NaN</td>\n      <td>Spirits</td>\n      <td>Latin America</td>\n      <td>Colombia</td>\n      <td>0.00</td>\n      <td>0.00</td>\n      <td>0.00</td>\n      <td>2017-12-01</td>\n      <td>2017</td>\n      <td>12</td>\n      <td>0.000000</td>\n      <td>0.00</td>\n      <td>COLD</td>\n    </tr>\n    <tr>\n      <td>GROUP NOT USED HEINZ WATTIE LTD,</td>\n      <td>198096</td>\n      <td>Flint</td>\n      <td>Food</td>\n      <td>APAC</td>\n      <td>New Zealand</td>\n      <td>0.00</td>\n      <td>0.00</td>\n      <td>0.00</td>\n      <td>2018-04-01</td>\n      <td>2018</td>\n      <td>4</td>\n      <td>0.000000</td>\n      <td>0.00</td>\n      <td>COLD</td>\n    </tr>\n    <tr>\n      <td>OWENS AMERICA S DE RL DE CV,</td>\n      <td>202999</td>\n      <td>Flint</td>\n      <td>Spirits</td>\n      <td>Latin America</td>\n      <td>Colombia</td>\n      <td>0.00</td>\n      <td>0.00</td>\n      <td>0.00</td>\n      <td>2020-08-01</td>\n      <td>2020</td>\n      <td>8</td>\n      <td>0.000000</td>\n      <td>0.00</td>\n      <td>COLD</td>\n    </tr>\n    <tr>\n      <td>SKEPTIC DISTILLERY,</td>\n      <td>83158</td>\n      <td>Green</td>\n      <td>Wine</td>\n      <td>North America</td>\n      <td>USA</td>\n      <td>0.00</td>\n      <td>0.00</td>\n      <td>0.00</td>\n      <td>2016-07-01</td>\n      <td>2016</td>\n      <td>7</td>\n      <td>0.000000</td>\n      <td>0.00</td>\n      <td>COLD</td>\n    </tr>\n    <tr>\n      <td>CATEGORY LEVEL ADJUSTMENT - SIGNING,</td>\n      <td>124284</td>\n      <td>NaN</td>\n      <td>Nab</td>\n      <td>North America</td>\n      <td>USA</td>\n      <td>NaN</td>\n      <td>0.00</td>\n      <td>NaN</td>\n      <td>2017-12-01</td>\n      <td>2017</td>\n      <td>12</td>\n      <td>NaN</td>\n      <td>0.00</td>\n      <td>COLD</td>\n    </tr>\n  </tbody>\n</table>\n<p>720 rows × 14 columns</p>\n</div>",
      "text/plain": "                                      Unnamed: 0  Color Product Category  \\\nCompany                                                                    \nANHEUSER-BUSCH INBEV,                     145693  Amber             Beer   \nHEINEKEN,                                  38510  Amber             Beer   \nCOCA - COLA,                               27749  Flint          Spirits   \nMOLSON-COORS,                              63581  Flint             Beer   \nCARLSBERG,                                138817  Green             Beer   \n...                                          ...    ...              ...   \nFC - OI - FAIRFIELD,                      203038    NaN          Spirits   \nGROUP NOT USED HEINZ WATTIE LTD,          198096  Flint             Food   \nOWENS AMERICA S DE RL DE CV,              202999  Flint          Spirits   \nSKEPTIC DISTILLERY,                        83158  Green             Wine   \nCATEGORY LEVEL ADJUSTMENT - SIGNING,      124284    NaN              Nab   \n\n                                             Region         Country  \\\nCompany                                                               \nANHEUSER-BUSCH INBEV,                            EU  United Kingdom   \nHEINEKEN,                                        EU     Switzerland   \nCOCA - COLA,                          Latin America          Mexico   \nMOLSON-COORS,                         North America             USA   \nCARLSBERG,                                       EU         Germany   \n...                                             ...             ...   \nFC - OI - FAIRFIELD,                  Latin America        Colombia   \nGROUP NOT USED HEINZ WATTIE LTD,               APAC     New Zealand   \nOWENS AMERICA S DE RL DE CV,          Latin America        Colombia   \nSKEPTIC DISTILLERY,                   North America             USA   \nCATEGORY LEVEL ADJUSTMENT - SIGNING,  North America             USA   \n\n                                      Sales (USD)  Negotiated Discount  \\\nCompany                                                                  \nANHEUSER-BUSCH INBEV,                  4386343.71                 0.00   \nHEINEKEN,                             31384672.67            313846.73   \nCOCA - COLA,                             10756.13               322.68   \nMOLSON-COORS,                         22933317.21           2751998.07   \nCARLSBERG,                              174663.73              3493.27   \n...                                           ...                  ...   \nFC - OI - FAIRFIELD,                         0.00                 0.00   \nGROUP NOT USED HEINZ WATTIE LTD,             0.00                 0.00   \nOWENS AMERICA S DE RL DE CV,                 0.00                 0.00   \nSKEPTIC DISTILLERY,                          0.00                 0.00   \nCATEGORY LEVEL ADJUSTMENT - SIGNING,          NaN                 0.00   \n\n                                      Quantity in TO         dt  year  month  \\\nCompany                                                                        \nANHEUSER-BUSCH INBEV,                        8711.69 2021-02-01  2021      2   \nHEINEKEN,                                   76918.58 2018-07-01  2018      7   \nCOCA - COLA,                                   16.23 2018-10-01  2018     10   \nMOLSON-COORS,                               36268.63 2019-09-01  2019      9   \nCARLSBERG,                                    424.98 2020-09-01  2020      9   \n...                                              ...        ...   ...    ...   \nFC - OI - FAIRFIELD,                            0.00 2017-12-01  2017     12   \nGROUP NOT USED HEINZ WATTIE LTD,                0.00 2018-04-01  2018      4   \nOWENS AMERICA S DE RL DE CV,                    0.00 2020-08-01  2020      8   \nSKEPTIC DISTILLERY,                             0.00 2016-07-01  2016      7   \nCATEGORY LEVEL ADJUSTMENT - SIGNING,             NaN 2017-12-01  2017     12   \n\n                                      % discount  Sales Company Sales Score  \nCompany                                                                      \nANHEUSER-BUSCH INBEV,                   0.000000    31231947.51         HOT  \nHEINEKEN,                               1.000000    25098145.92         HOT  \nCOCA - COLA,                            2.999964    20797735.59         HOT  \nMOLSON-COORS,                          12.000000    13849699.91         HOT  \nCARLSBERG,                              1.999997    13342978.55         HOT  \n...                                          ...            ...         ...  \nFC - OI - FAIRFIELD,                    0.000000           0.00        COLD  \nGROUP NOT USED HEINZ WATTIE LTD,        0.000000           0.00        COLD  \nOWENS AMERICA S DE RL DE CV,            0.000000           0.00        COLD  \nSKEPTIC DISTILLERY,                     0.000000           0.00        COLD  \nCATEGORY LEVEL ADJUSTMENT - SIGNING,         NaN           0.00        COLD  \n\n[720 rows x 14 columns]"
     },
     "execution_count": 27,
     "metadata": {},
     "output_type": "execute_result"
    }
   ],
   "source": [
    "hot_qualified_cp_df = qualified_cp_df.sort_values(['Sales Company'], ascending=False)\n",
    "\n",
    "grp_qualified_cp_df = hot_qualified_cp_df.groupby('Company', sort=False)\n",
    "grp_qualified_cp_df.first()"
   ]
  },
  {
   "cell_type": "code",
   "execution_count": null,
   "metadata": {},
   "outputs": [],
   "source": []
  },
  {
   "cell_type": "code",
   "execution_count": 44,
   "metadata": {},
   "outputs": [
    {
     "data": {
      "text/plain": "360"
     },
     "execution_count": 44,
     "metadata": {},
     "output_type": "execute_result"
    }
   ],
   "source": [
    "#grp_qualified_cp_df = qualified_cp_df[['Company','Sales Company','Sales Score']].groupby('Company', 'Sales Score').count()\n",
    "hot_qualified_cp_df = qualified_cp_df.sort_values(['Sales Company'], ascending=False)\n",
    "# hot_qualified_cp_df\n",
    "\n",
    "# grp_qualified_cp_df = hot_qualified_cp_df[qualified_cp_df['Sales Score'] == 'HOT'].groupby(['Company'])['Sales Company']\n",
    "grp_qualified_cp_df = hot_qualified_cp_df[qualified_cp_df['Sales Score'] == 'HOT'].groupby(['Company'])\n",
    "# grp_qualified_cp_df.size()\n",
    "list_of_top = []\n",
    "\n",
    "for item in grp_qualified_cp_df:\n",
    "    \n",
    "#     #print(\" ------ Loop Begins ------ \")\n",
    "#     # print(type(item))     # Showing type of the item in grp_obj\n",
    "#     # print(item[0],item[1][['Company','Sales Company']])\n",
    "    tmp_top_hot = item[1]\n",
    "    relevant_top_hot = tmp_top_hot[['Company','Sales Company']]\n",
    "    list_of_top.append(relevant_top_hot)\n",
    "#     # print()\n",
    "#     # print(item[2])\n",
    "#     # print (group_list_df.get_group(key), \"\\n\\n\")\n",
    "#     # print(type(item))     # Showing type of the item in grp_obj\n",
    "#     # print(item[0])        # Region\n",
    "len(list_of_top)\n",
    "# list_of_top\n",
    "#final_hot_df = pd.DataFrame(list_of_top)\n",
    "# final_hot_df.head\n",
    "# final_top = pd.concat(list_of_top_hot)\n",
    "# final_top"
   ]
  },
  {
   "cell_type": "code",
   "execution_count": 46,
   "metadata": {},
   "outputs": [
    {
     "data": {
      "text/html": "<div>\n<style scoped>\n    .dataframe tbody tr th:only-of-type {\n        vertical-align: middle;\n    }\n\n    .dataframe tbody tr th {\n        vertical-align: top;\n    }\n\n    .dataframe thead th {\n        text-align: right;\n    }\n</style>\n<table border=\"1\" class=\"dataframe\">\n  <thead>\n    <tr style=\"text-align: right;\">\n      <th></th>\n      <th>0</th>\n    </tr>\n  </thead>\n  <tbody>\n    <tr>\n      <td>0</td>\n      <td>Company  Sal...</td>\n    </tr>\n    <tr>\n      <td>1</td>\n      <td>Company  Sales Company\n131817  A LE ...</td>\n    </tr>\n    <tr>\n      <td>2</td>\n      <td>Company  Sales Company...</td>\n    </tr>\n    <tr>\n      <td>3</td>\n      <td>Company  Sales Company\n60919   ...</td>\n    </tr>\n    <tr>\n      <td>4</td>\n      <td>Company  Sal...</td>\n    </tr>\n    <tr>\n      <td>...</td>\n      <td>...</td>\n    </tr>\n    <tr>\n      <td>355</td>\n      <td>Company  Sales Compan...</td>\n    </tr>\n    <tr>\n      <td>356</td>\n      <td>Company  Sales Company\n129872  WIN...</td>\n    </tr>\n    <tr>\n      <td>357</td>\n      <td>Company  Sales Company\n31927 ...</td>\n    </tr>\n    <tr>\n      <td>358</td>\n      <td>Company  Sales Company\n445...</td>\n    </tr>\n    <tr>\n      <td>359</td>\n      <td>Company  Sales Compan...</td>\n    </tr>\n  </tbody>\n</table>\n<p>360 rows × 1 columns</p>\n</div>",
      "text/plain": "                                                     0\n0                                      Company  Sal...\n1              Company  Sales Company\n131817  A LE ...\n2                            Company  Sales Company...\n3                   Company  Sales Company\n60919   ...\n4                                      Company  Sal...\n..                                                 ...\n355                           Company  Sales Compan...\n356              Company  Sales Company\n129872  WIN...\n357                   Company  Sales Company\n31927 ...\n358                      Company  Sales Company\n445...\n359                           Company  Sales Compan...\n\n[360 rows x 1 columns]"
     },
     "execution_count": 46,
     "metadata": {},
     "output_type": "execute_result"
    }
   ],
   "source": [
    "final_hot_df = pd.DataFrame(list_of_top)\n",
    "final_hot_df"
   ]
  },
  {
   "cell_type": "markdown",
   "metadata": {},
   "source": [
    "How many companies are categorized as `HOT`? How many `COLD`?"
   ]
  },
  {
   "cell_type": "code",
   "execution_count": 29,
   "metadata": {},
   "outputs": [
    {
     "data": {
      "text/html": "<div>\n<style scoped>\n    .dataframe tbody tr th:only-of-type {\n        vertical-align: middle;\n    }\n\n    .dataframe tbody tr th {\n        vertical-align: top;\n    }\n\n    .dataframe thead th {\n        text-align: right;\n    }\n</style>\n<table border=\"1\" class=\"dataframe\">\n  <thead>\n    <tr style=\"text-align: right;\">\n      <th></th>\n      <th>Unnamed: 0</th>\n      <th>Color</th>\n      <th>Product Category</th>\n      <th>Region</th>\n      <th>Country</th>\n      <th>Sales (USD)</th>\n      <th>Negotiated Discount</th>\n      <th>Quantity in TO</th>\n      <th>dt</th>\n      <th>year</th>\n      <th>month</th>\n      <th>% discount</th>\n      <th>Sales Company</th>\n      <th>Sales Score</th>\n    </tr>\n    <tr>\n      <th>Company</th>\n      <th></th>\n      <th></th>\n      <th></th>\n      <th></th>\n      <th></th>\n      <th></th>\n      <th></th>\n      <th></th>\n      <th></th>\n      <th></th>\n      <th></th>\n      <th></th>\n      <th></th>\n      <th></th>\n    </tr>\n  </thead>\n  <tbody>\n    <tr>\n      <td>(*CINCINNATI CONTAINER COMPANY*),</td>\n      <td>261</td>\n      <td>179</td>\n      <td>261</td>\n      <td>261</td>\n      <td>261</td>\n      <td>261</td>\n      <td>261</td>\n      <td>249</td>\n      <td>261</td>\n      <td>261</td>\n      <td>261</td>\n      <td>261</td>\n      <td>261</td>\n      <td>261</td>\n    </tr>\n    <tr>\n      <td>A LE COQ,</td>\n      <td>168</td>\n      <td>144</td>\n      <td>168</td>\n      <td>168</td>\n      <td>168</td>\n      <td>168</td>\n      <td>168</td>\n      <td>168</td>\n      <td>168</td>\n      <td>168</td>\n      <td>168</td>\n      <td>168</td>\n      <td>168</td>\n      <td>168</td>\n    </tr>\n    <tr>\n      <td>A.E. CHAPMAN &amp; SON LTD,</td>\n      <td>845</td>\n      <td>785</td>\n      <td>845</td>\n      <td>845</td>\n      <td>845</td>\n      <td>844</td>\n      <td>845</td>\n      <td>844</td>\n      <td>845</td>\n      <td>845</td>\n      <td>845</td>\n      <td>844</td>\n      <td>845</td>\n      <td>845</td>\n    </tr>\n    <tr>\n      <td>ACAITEUA LTDA,</td>\n      <td>177</td>\n      <td>171</td>\n      <td>177</td>\n      <td>177</td>\n      <td>177</td>\n      <td>177</td>\n      <td>177</td>\n      <td>177</td>\n      <td>177</td>\n      <td>177</td>\n      <td>177</td>\n      <td>177</td>\n      <td>177</td>\n      <td>177</td>\n    </tr>\n    <tr>\n      <td>ACCOLADE WINES AUSTRALIA LIMITED,</td>\n      <td>154</td>\n      <td>128</td>\n      <td>154</td>\n      <td>154</td>\n      <td>154</td>\n      <td>154</td>\n      <td>154</td>\n      <td>147</td>\n      <td>154</td>\n      <td>154</td>\n      <td>154</td>\n      <td>154</td>\n      <td>154</td>\n      <td>154</td>\n    </tr>\n    <tr>\n      <td>...</td>\n      <td>...</td>\n      <td>...</td>\n      <td>...</td>\n      <td>...</td>\n      <td>...</td>\n      <td>...</td>\n      <td>...</td>\n      <td>...</td>\n      <td>...</td>\n      <td>...</td>\n      <td>...</td>\n      <td>...</td>\n      <td>...</td>\n      <td>...</td>\n    </tr>\n    <tr>\n      <td>WINE - NBD DISTRIBUTION,</td>\n      <td>9</td>\n      <td>0</td>\n      <td>9</td>\n      <td>9</td>\n      <td>9</td>\n      <td>9</td>\n      <td>9</td>\n      <td>9</td>\n      <td>9</td>\n      <td>9</td>\n      <td>9</td>\n      <td>9</td>\n      <td>9</td>\n      <td>9</td>\n    </tr>\n    <tr>\n      <td>WINE EXCEL,</td>\n      <td>311</td>\n      <td>275</td>\n      <td>311</td>\n      <td>311</td>\n      <td>311</td>\n      <td>311</td>\n      <td>311</td>\n      <td>311</td>\n      <td>311</td>\n      <td>311</td>\n      <td>311</td>\n      <td>311</td>\n      <td>311</td>\n      <td>311</td>\n    </tr>\n    <tr>\n      <td>WINE GROUP (THE),</td>\n      <td>320</td>\n      <td>218</td>\n      <td>320</td>\n      <td>320</td>\n      <td>320</td>\n      <td>320</td>\n      <td>320</td>\n      <td>320</td>\n      <td>320</td>\n      <td>320</td>\n      <td>320</td>\n      <td>320</td>\n      <td>320</td>\n      <td>320</td>\n    </tr>\n    <tr>\n      <td>ZUCKERMAN-HONICKMAN,</td>\n      <td>312</td>\n      <td>239</td>\n      <td>312</td>\n      <td>312</td>\n      <td>312</td>\n      <td>312</td>\n      <td>312</td>\n      <td>257</td>\n      <td>312</td>\n      <td>312</td>\n      <td>312</td>\n      <td>312</td>\n      <td>312</td>\n      <td>312</td>\n    </tr>\n    <tr>\n      <td>ZURLA ANTONIO ST. MARIA,</td>\n      <td>422</td>\n      <td>387</td>\n      <td>422</td>\n      <td>422</td>\n      <td>422</td>\n      <td>421</td>\n      <td>422</td>\n      <td>421</td>\n      <td>422</td>\n      <td>422</td>\n      <td>422</td>\n      <td>421</td>\n      <td>422</td>\n      <td>422</td>\n    </tr>\n  </tbody>\n</table>\n<p>360 rows × 14 columns</p>\n</div>",
      "text/plain": "                                   Unnamed: 0  Color  Product Category  \\\nCompany                                                                  \n(*CINCINNATI CONTAINER COMPANY*),         261    179               261   \nA LE COQ,                                 168    144               168   \nA.E. CHAPMAN & SON LTD,                   845    785               845   \nACAITEUA LTDA,                            177    171               177   \nACCOLADE WINES AUSTRALIA LIMITED,         154    128               154   \n...                                       ...    ...               ...   \nWINE - NBD DISTRIBUTION,                    9      0                 9   \nWINE EXCEL,                               311    275               311   \nWINE GROUP (THE),                         320    218               320   \nZUCKERMAN-HONICKMAN,                      312    239               312   \nZURLA ANTONIO ST. MARIA,                  422    387               422   \n\n                                   Region  Country  Sales (USD)  \\\nCompany                                                           \n(*CINCINNATI CONTAINER COMPANY*),     261      261          261   \nA LE COQ,                             168      168          168   \nA.E. CHAPMAN & SON LTD,               845      845          844   \nACAITEUA LTDA,                        177      177          177   \nACCOLADE WINES AUSTRALIA LIMITED,     154      154          154   \n...                                   ...      ...          ...   \nWINE - NBD DISTRIBUTION,                9        9            9   \nWINE EXCEL,                           311      311          311   \nWINE GROUP (THE),                     320      320          320   \nZUCKERMAN-HONICKMAN,                  312      312          312   \nZURLA ANTONIO ST. MARIA,              422      422          421   \n\n                                   Negotiated Discount  Quantity in TO   dt  \\\nCompany                                                                       \n(*CINCINNATI CONTAINER COMPANY*),                  261             249  261   \nA LE COQ,                                          168             168  168   \nA.E. CHAPMAN & SON LTD,                            845             844  845   \nACAITEUA LTDA,                                     177             177  177   \nACCOLADE WINES AUSTRALIA LIMITED,                  154             147  154   \n...                                                ...             ...  ...   \nWINE - NBD DISTRIBUTION,                             9               9    9   \nWINE EXCEL,                                        311             311  311   \nWINE GROUP (THE),                                  320             320  320   \nZUCKERMAN-HONICKMAN,                               312             257  312   \nZURLA ANTONIO ST. MARIA,                           422             421  422   \n\n                                   year  month  % discount  Sales Company  \\\nCompany                                                                     \n(*CINCINNATI CONTAINER COMPANY*),   261    261         261            261   \nA LE COQ,                           168    168         168            168   \nA.E. CHAPMAN & SON LTD,             845    845         844            845   \nACAITEUA LTDA,                      177    177         177            177   \nACCOLADE WINES AUSTRALIA LIMITED,   154    154         154            154   \n...                                 ...    ...         ...            ...   \nWINE - NBD DISTRIBUTION,              9      9           9              9   \nWINE EXCEL,                         311    311         311            311   \nWINE GROUP (THE),                   320    320         320            320   \nZUCKERMAN-HONICKMAN,                312    312         312            312   \nZURLA ANTONIO ST. MARIA,            422    422         421            422   \n\n                                   Sales Score  \nCompany                                         \n(*CINCINNATI CONTAINER COMPANY*),          261  \nA LE COQ,                                  168  \nA.E. CHAPMAN & SON LTD,                    845  \nACAITEUA LTDA,                             177  \nACCOLADE WINES AUSTRALIA LIMITED,          154  \n...                                        ...  \nWINE - NBD DISTRIBUTION,                     9  \nWINE EXCEL,                                311  \nWINE GROUP (THE),                          320  \nZUCKERMAN-HONICKMAN,                       312  \nZURLA ANTONIO ST. MARIA,                   422  \n\n[360 rows x 14 columns]"
     },
     "execution_count": 29,
     "metadata": {},
     "output_type": "execute_result"
    }
   ],
   "source": [
    "hot_qualified_cp_df[qualified_cp_df['Sales Score'] == 'HOT'].groupby(['Company']).count()"
   ]
  },
  {
   "cell_type": "markdown",
   "metadata": {},
   "source": [
    "### What are the colors most sold in the top 10 companies?"
   ]
  },
  {
   "cell_type": "markdown",
   "metadata": {},
   "source": [
    "Define the top 10 companies in order of `Quantity in TO`."
   ]
  },
  {
   "cell_type": "code",
   "execution_count": 30,
   "metadata": {},
   "outputs": [],
   "source": [
    "# Code here"
   ]
  },
  {
   "cell_type": "markdown",
   "metadata": {},
   "source": [
    "Filter out `NOT ASSIGNED` to get the name of the top 10 companies"
   ]
  },
  {
   "cell_type": "code",
   "execution_count": 31,
   "metadata": {},
   "outputs": [],
   "source": [
    "# Code here"
   ]
  },
  {
   "cell_type": "markdown",
   "metadata": {},
   "source": [
    "Show top colors in top 10 companies"
   ]
  },
  {
   "cell_type": "code",
   "execution_count": 32,
   "metadata": {},
   "outputs": [],
   "source": [
    "# Code here"
   ]
  },
  {
   "cell_type": "markdown",
   "metadata": {},
   "source": [
    "### On what month can we find a peak in quantities sold?"
   ]
  },
  {
   "cell_type": "code",
   "execution_count": 33,
   "metadata": {},
   "outputs": [],
   "source": [
    "# Code here"
   ]
  },
  {
   "cell_type": "markdown",
   "metadata": {},
   "source": [
    "### What is the average price per unit for each company? "
   ]
  },
  {
   "cell_type": "markdown",
   "metadata": {},
   "source": [
    "Which one has the highest average price per unit? if it's `NOT ASSIGNED` get the next Company Name"
   ]
  },
  {
   "cell_type": "markdown",
   "metadata": {},
   "source": [
    "First let's add a column called `Price` this column is the division between total sales in USD and quantity. Round the result to 2 decimals."
   ]
  },
  {
   "cell_type": "code",
   "execution_count": 34,
   "metadata": {},
   "outputs": [],
   "source": [
    "qualified_cp_df['Price'] = qualified_cp_df.apply(lambda row: round(row['Sales (USD)']/row['Quantity in TO'],2) if row['Quantity in TO'] > 0 else 0, axis=1)"
   ]
  },
  {
   "cell_type": "code",
   "execution_count": 35,
   "metadata": {},
   "outputs": [],
   "source": [
    "group_list_df = qualified_cp_df.groupby('Company')['Price']\n",
    "sum_group_list_df = assign_cp_df.groupby('Company')['Quantity in TO'].sum()"
   ]
  },
  {
   "cell_type": "markdown",
   "metadata": {},
   "source": [
    "Drop infinite and NAN values in the DataFrame."
   ]
  },
  {
   "cell_type": "code",
   "execution_count": 36,
   "metadata": {},
   "outputs": [
    {
     "data": {
      "text/plain": "Unnamed: 0                 0\nColor                  40082\nProduct Category           0\nRegion                    10\nCountry                   10\nSales (USD)              375\nNegotiated Discount        0\nQuantity in TO          5569\nCompany                    0\ndt                         0\nyear                       0\nmonth                      0\n% discount               375\nSales Company              0\nSales Score                0\nPrice                      1\ndtype: int64"
     },
     "execution_count": 36,
     "metadata": {},
     "output_type": "execute_result"
    }
   ],
   "source": [
    "qualified_cp_df.isnull().sum()\n"
   ]
  },
  {
   "cell_type": "code",
   "execution_count": 37,
   "metadata": {},
   "outputs": [
    {
     "data": {
      "text/plain": "Unnamed: 0              0.000000\nColor                  26.460958\nProduct Category        0.000000\nRegion                  0.006602\nCountry                 0.006602\nSales (USD)             0.247564\nNegotiated Discount     0.000000\nQuantity in TO          3.676490\nCompany                 0.000000\ndt                      0.000000\nyear                    0.000000\nmonth                   0.000000\n% discount              0.247564\nSales Company           0.000000\nSales Score             0.000000\nPrice                   0.000660\ndtype: float64"
     },
     "execution_count": 37,
     "metadata": {},
     "output_type": "execute_result"
    }
   ],
   "source": [
    "qualified_cp_df.isnull().mean()*100"
   ]
  },
  {
   "cell_type": "code",
   "execution_count": 38,
   "metadata": {},
   "outputs": [],
   "source": [
    "clean_cp_df = qualified_cp_df.dropna().copy()"
   ]
  },
  {
   "cell_type": "markdown",
   "metadata": {},
   "source": [
    "What is the company with the greatest average price? remember `NOT ASSINED` is not an acceptable answer."
   ]
  },
  {
   "cell_type": "code",
   "execution_count": 39,
   "metadata": {},
   "outputs": [],
   "source": [
    "# group_price_df = qualified_cp_df.groupby('Company')['Price']\n",
    "mean_group_price_df = qualified_cp_df.groupby('Company')['Price'].mean()"
   ]
  },
  {
   "cell_type": "code",
   "execution_count": 373,
   "metadata": {},
   "outputs": [
    {
     "data": {
      "text/plain": "Company\n(*CINCINNATI CONTAINER COMPANY*),    1235.089425\n12 SPIES VINEYARDS,                   267.283976\n5280PKG,                              495.806406\n96 WEST WINERY,                       700.030000\nA LE COQ,                             393.748810\n                                        ...     \nWOLF'S RIDGE BREWING,                 436.822759\nWYMORE WAREHOUSE,                       0.000000\nZOILO RUIZ MATEOS, S.L.               439.015161\nZUCKERMAN-HONICKMAN,                  550.993814\nZURLA ANTONIO ST. MARIA,              406.528460\nName: Price, Length: 720, dtype: float64"
     },
     "execution_count": 373,
     "metadata": {},
     "output_type": "execute_result"
    }
   ],
   "source": [
    "# mean_group_price_df\n",
    "mean_group_price_df.groupby('Company').max()"
   ]
  }
 ],
 "metadata": {
  "kernelspec": {
   "display_name": "Python 3",
   "language": "python",
   "name": "python3"
  },
  "language_info": {
   "codemirror_mode": {
    "name": "ipython",
    "version": 3
   },
   "file_extension": ".py",
   "mimetype": "text/x-python",
   "name": "python",
   "nbconvert_exporter": "python",
   "pygments_lexer": "ipython3",
   "version": "3.7.4-final"
  }
 },
 "nbformat": 4,
 "nbformat_minor": 2
}