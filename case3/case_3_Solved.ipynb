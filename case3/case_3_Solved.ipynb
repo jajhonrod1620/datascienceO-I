{
 "cells": [
  {
   "cell_type": "markdown",
   "metadata": {},
   "source": [
    "# How are returns and volatility related for energy stocks and the broader market?"
   ]
  },
  {
   "cell_type": "markdown",
   "metadata": {},
   "source": [
    "**Analytical Context.** The data you've been given is in the Comma Separated Value (CSV) format, and comprises price and trading volume data for the above stocks. You will proceed by: (1) conducting preliminary cleaning of the data; (2) creating additional features required for our analysis; (3) labelling the data into volatility groups, or regimes, and determining how volatility is related to returns; and finally (4) comparing these returns against those of the broader market."
   ]
  },
  {
   "cell_type": "code",
   "execution_count": 1,
   "metadata": {},
   "outputs": [],
   "source": [
    "# Import libraries required for this case\n",
    "import pandas as pd\n",
    "import numpy as np"
   ]
  },
  {
   "cell_type": "markdown",
   "metadata": {},
   "source": [
    "## Preliminary cleaning of the data"
   ]
  },
  {
   "cell_type": "markdown",
   "metadata": {},
   "source": [
    "Before we can proceed with data analysis and modeling, we first need to determine if the relevant data is adequate to proceed as-is, or if it needs further cleaning. In this case, we have received a Comma Separated Value (CSV) file that includes the following data:\n",
    "\n",
    "1. **Date:** The day of the year\n",
    "2. **Open:** The stock opening price of the day\n",
    "3. **High:** The highest observed stock price of the day\n",
    "4. **Low:** The lowest observed stock price of the day\n",
    "5. **Close:** The stock closing price of the day\n",
    "6. **Adj Close:** The adjusted stock closing price for the day (adjusted for splits and dividends)\n",
    "7. **Volume:** The volume of the stock traded over the day\n",
    "8. **Symbol:** The symbol for that particular stock\n",
    "\n",
    "One very common problem that arises in datasets is missing values. Let's see how to identify whether or not our dataset has this problem, and how to deal with missing values."
   ]
  },
  {
   "cell_type": "code",
   "execution_count": 2,
   "metadata": {
    "scrolled": false
   },
   "outputs": [
    {
     "data": {
      "text/html": [
       "<div>\n",
       "<style scoped>\n",
       "    .dataframe tbody tr th:only-of-type {\n",
       "        vertical-align: middle;\n",
       "    }\n",
       "\n",
       "    .dataframe tbody tr th {\n",
       "        vertical-align: top;\n",
       "    }\n",
       "\n",
       "    .dataframe thead th {\n",
       "        text-align: right;\n",
       "    }\n",
       "</style>\n",
       "<table border=\"1\" class=\"dataframe\">\n",
       "  <thead>\n",
       "    <tr style=\"text-align: right;\">\n",
       "      <th></th>\n",
       "      <th>Date</th>\n",
       "      <th>Open</th>\n",
       "      <th>High</th>\n",
       "      <th>Low</th>\n",
       "      <th>Close</th>\n",
       "      <th>Adj Close</th>\n",
       "      <th>Volume</th>\n",
       "      <th>Symbol</th>\n",
       "    </tr>\n",
       "  </thead>\n",
       "  <tbody>\n",
       "    <tr>\n",
       "      <th>0</th>\n",
       "      <td>2014-07-28</td>\n",
       "      <td>69.750000</td>\n",
       "      <td>71.059998</td>\n",
       "      <td>69.750000</td>\n",
       "      <td>70.879997</td>\n",
       "      <td>57.963978</td>\n",
       "      <td>1806400.0</td>\n",
       "      <td>D</td>\n",
       "    </tr>\n",
       "    <tr>\n",
       "      <th>1</th>\n",
       "      <td>2014-07-29</td>\n",
       "      <td>70.669998</td>\n",
       "      <td>70.980003</td>\n",
       "      <td>69.930000</td>\n",
       "      <td>69.930000</td>\n",
       "      <td>57.187099</td>\n",
       "      <td>2231100.0</td>\n",
       "      <td>D</td>\n",
       "    </tr>\n",
       "    <tr>\n",
       "      <th>2</th>\n",
       "      <td>2014-07-30</td>\n",
       "      <td>70.000000</td>\n",
       "      <td>70.660004</td>\n",
       "      <td>68.400002</td>\n",
       "      <td>68.970001</td>\n",
       "      <td>56.402020</td>\n",
       "      <td>2588900.0</td>\n",
       "      <td>D</td>\n",
       "    </tr>\n",
       "    <tr>\n",
       "      <th>3</th>\n",
       "      <td>2014-07-31</td>\n",
       "      <td>68.629997</td>\n",
       "      <td>68.849998</td>\n",
       "      <td>67.580002</td>\n",
       "      <td>67.639999</td>\n",
       "      <td>55.314388</td>\n",
       "      <td>3266900.0</td>\n",
       "      <td>D</td>\n",
       "    </tr>\n",
       "    <tr>\n",
       "      <th>4</th>\n",
       "      <td>2014-08-01</td>\n",
       "      <td>67.330002</td>\n",
       "      <td>68.410004</td>\n",
       "      <td>67.220001</td>\n",
       "      <td>67.589996</td>\n",
       "      <td>55.273487</td>\n",
       "      <td>2601800.0</td>\n",
       "      <td>D</td>\n",
       "    </tr>\n",
       "  </tbody>\n",
       "</table>\n",
       "</div>"
      ],
      "text/plain": [
       "         Date       Open       High        Low      Close  Adj Close  \\\n",
       "0  2014-07-28  69.750000  71.059998  69.750000  70.879997  57.963978   \n",
       "1  2014-07-29  70.669998  70.980003  69.930000  69.930000  57.187099   \n",
       "2  2014-07-30  70.000000  70.660004  68.400002  68.970001  56.402020   \n",
       "3  2014-07-31  68.629997  68.849998  67.580002  67.639999  55.314388   \n",
       "4  2014-08-01  67.330002  68.410004  67.220001  67.589996  55.273487   \n",
       "\n",
       "      Volume Symbol  \n",
       "0  1806400.0      D  \n",
       "1  2231100.0      D  \n",
       "2  2588900.0      D  \n",
       "3  3266900.0      D  \n",
       "4  2601800.0      D  "
      ]
     },
     "execution_count": 2,
     "metadata": {},
     "output_type": "execute_result"
    }
   ],
   "source": [
    "# Load and view head of DataFrame\n",
    "raw_df = pd.read_csv('EnergySectorData.csv')\n",
    "raw_df.head()"
   ]
  },
  {
   "cell_type": "markdown",
   "metadata": {},
   "source": [
    "Let's begin by determining if we have missing values. We can use the ```pandas``` DataFrame method ```isnull()``` to check for ```NaN``` values in ```raw_df``` (i.e. check for null values):"
   ]
  },
  {
   "cell_type": "code",
   "execution_count": 3,
   "metadata": {
    "scrolled": false
   },
   "outputs": [
    {
     "data": {
      "text/plain": [
       "Date          0\n",
       "Open          2\n",
       "High         14\n",
       "Low           7\n",
       "Close         7\n",
       "Adj Close     7\n",
       "Volume       22\n",
       "Symbol        0\n",
       "dtype: int64"
      ]
     },
     "execution_count": 3,
     "metadata": {},
     "output_type": "execute_result"
    }
   ],
   "source": [
    "# Check if there are missing values (NaNs)\n",
    "raw_df.isnull().sum()"
   ]
  },
  {
   "cell_type": "markdown",
   "metadata": {},
   "source": [
    "Here we see we have some missing values. Let's instead use the ```mean()``` method to determine what percent of each column we are missing."
   ]
  },
  {
   "cell_type": "code",
   "execution_count": 4,
   "metadata": {
    "scrolled": true
   },
   "outputs": [
    {
     "data": {
      "text/plain": [
       "Date         0.000000\n",
       "Open         0.031873\n",
       "High         0.223108\n",
       "Low          0.111554\n",
       "Close        0.111554\n",
       "Adj Close    0.111554\n",
       "Volume       0.350598\n",
       "Symbol       0.000000\n",
       "dtype: float64"
      ]
     },
     "execution_count": 4,
     "metadata": {},
     "output_type": "execute_result"
    }
   ],
   "source": [
    "raw_df.isnull().mean()*100"
   ]
  },
  {
   "cell_type": "markdown",
   "metadata": {},
   "source": [
    "We see here that we are missing less than 0.5% of the observations in any given column. \n",
    "\n"
   ]
  },
  {
   "cell_type": "markdown",
   "metadata": {},
   "source": [
    "### Exercise 1:\n",
    "We do not want any missing values in our analysis. Which of the following options is the WORST option for how to proceed in this case?\n",
    "\n",
    "(a) Fill in any day's missing value with the previous day's value\n",
    "\n",
    "(b) Replace the missing values by re-gathering the data\n",
    "\n",
    "(c) Estimate the missing values by interpolating them from the values of other, similar data points\n",
    "\n",
    "(d) Remove rows from the dataset that contain missing values\n",
    "\n",
    "**Answer.** (a). We have a couple options that are generally acceptable on how to proceed with missing values:\n",
    "\n",
    "1. One option is to replace the missing values by re-gathering the data. However, this option is often quite expensive in real man-hours, so we will forgo it for now.\n",
    "\n",
    "2. Another option is to try to estimate the missing values using some reasonable estimation method, interpolating from other data points. However, this can be complicated and given that such a little amount of our data is missing, we will forgo this option.\n",
    "\n",
    "3. In practice, a regularly chosen option when only a small amount of data is missing is to just remove the rows that have missing data. This option is generally fine to perform so long as the removed data is an insignificant portion of the data under study. Here we will choose this option as it simplifies the analysis and should not harm any results moving forward.\n",
    "\n",
    "Answer (a) is problematic because replacing a missing value with the previous day's value doesn't make sense for stocks because stock prices and trading volumes are known to move day-to-day rather than remain unchanged for an extended period of time. Since we will be dealing with daily returns and volatility, this is especially problematic as it defaults any missing day's volatility and return to 0.\n",
    "\n",
    "Note that these options for cleaning data should be carefully weighed when commencing a new data science study."
   ]
  },
  {
   "cell_type": "markdown",
   "metadata": {},
   "source": [
    "Let's clean the missing values by removing them from the data set."
   ]
  },
  {
   "cell_type": "code",
   "execution_count": 5,
   "metadata": {},
   "outputs": [],
   "source": [
    "# Remove NaNs from data\n",
    "# Drop the missing values\n",
    "progress_df = raw_df.dropna()"
   ]
  },
  {
   "cell_type": "markdown",
   "metadata": {},
   "source": [
    "## Standardizing dates"
   ]
  },
  {
   "cell_type": "markdown",
   "metadata": {},
   "source": [
    "We'd like to be able to analyze these stocks together across time. This would be easier is if all the stocks contained non-missing data for the same set of dates. Let's first ascertain if this is the case. One way to do this is to use the ```groupby``` method to group by ```Date```, then use the ```count()``` function to enumerate how many distinct dates we have. Since there are a total of 1259 rows per symbol, there should be a count of 1259 for each symbol."
   ]
  },
  {
   "cell_type": "code",
   "execution_count": 6,
   "metadata": {
    "scrolled": true
   },
   "outputs": [
    {
     "data": {
      "text/html": [
       "<div>\n",
       "<style scoped>\n",
       "    .dataframe tbody tr th:only-of-type {\n",
       "        vertical-align: middle;\n",
       "    }\n",
       "\n",
       "    .dataframe tbody tr th {\n",
       "        vertical-align: top;\n",
       "    }\n",
       "\n",
       "    .dataframe thead th {\n",
       "        text-align: right;\n",
       "    }\n",
       "</style>\n",
       "<table border=\"1\" class=\"dataframe\">\n",
       "  <thead>\n",
       "    <tr style=\"text-align: right;\">\n",
       "      <th></th>\n",
       "      <th>Date</th>\n",
       "      <th>Open</th>\n",
       "      <th>High</th>\n",
       "      <th>Low</th>\n",
       "      <th>Close</th>\n",
       "      <th>Adj Close</th>\n",
       "      <th>Volume</th>\n",
       "    </tr>\n",
       "    <tr>\n",
       "      <th>Symbol</th>\n",
       "      <th></th>\n",
       "      <th></th>\n",
       "      <th></th>\n",
       "      <th></th>\n",
       "      <th></th>\n",
       "      <th></th>\n",
       "      <th></th>\n",
       "    </tr>\n",
       "  </thead>\n",
       "  <tbody>\n",
       "    <tr>\n",
       "      <th>D</th>\n",
       "      <td>1230</td>\n",
       "      <td>1230</td>\n",
       "      <td>1230</td>\n",
       "      <td>1230</td>\n",
       "      <td>1230</td>\n",
       "      <td>1230</td>\n",
       "      <td>1230</td>\n",
       "    </tr>\n",
       "    <tr>\n",
       "      <th>DUK</th>\n",
       "      <td>1249</td>\n",
       "      <td>1249</td>\n",
       "      <td>1249</td>\n",
       "      <td>1249</td>\n",
       "      <td>1249</td>\n",
       "      <td>1249</td>\n",
       "      <td>1249</td>\n",
       "    </tr>\n",
       "    <tr>\n",
       "      <th>EXC</th>\n",
       "      <td>1239</td>\n",
       "      <td>1239</td>\n",
       "      <td>1239</td>\n",
       "      <td>1239</td>\n",
       "      <td>1239</td>\n",
       "      <td>1239</td>\n",
       "      <td>1239</td>\n",
       "    </tr>\n",
       "    <tr>\n",
       "      <th>NEE</th>\n",
       "      <td>1251</td>\n",
       "      <td>1251</td>\n",
       "      <td>1251</td>\n",
       "      <td>1251</td>\n",
       "      <td>1251</td>\n",
       "      <td>1251</td>\n",
       "      <td>1251</td>\n",
       "    </tr>\n",
       "    <tr>\n",
       "      <th>SO</th>\n",
       "      <td>1259</td>\n",
       "      <td>1259</td>\n",
       "      <td>1259</td>\n",
       "      <td>1259</td>\n",
       "      <td>1259</td>\n",
       "      <td>1259</td>\n",
       "      <td>1259</td>\n",
       "    </tr>\n",
       "  </tbody>\n",
       "</table>\n",
       "</div>"
      ],
      "text/plain": [
       "        Date  Open  High   Low  Close  Adj Close  Volume\n",
       "Symbol                                                  \n",
       "D       1230  1230  1230  1230   1230       1230    1230\n",
       "DUK     1249  1249  1249  1249   1249       1249    1249\n",
       "EXC     1239  1239  1239  1239   1239       1239    1239\n",
       "NEE     1251  1251  1251  1251   1251       1251    1251\n",
       "SO      1259  1259  1259  1259   1259       1259    1259"
      ]
     },
     "execution_count": 6,
     "metadata": {},
     "output_type": "execute_result"
    }
   ],
   "source": [
    "# How many data rows do we have for each Symbol\n",
    "progress_df.groupby('Symbol').count()"
   ]
  },
  {
   "cell_type": "markdown",
   "metadata": {},
   "source": [
    "Since most symbols do not have a count of 1259 for their ```Date``` columns, there are clearly some inconsistent values. Some of these duplicates will be missing values (NaNs), so let's enumerate those again first:"
   ]
  },
  {
   "cell_type": "code",
   "execution_count": 7,
   "metadata": {},
   "outputs": [
    {
     "data": {
      "text/plain": [
       "Date          0\n",
       "Open          2\n",
       "High         14\n",
       "Low           7\n",
       "Close         7\n",
       "Adj Close     7\n",
       "Volume       22\n",
       "Symbol        0\n",
       "dtype: int64"
      ]
     },
     "execution_count": 7,
     "metadata": {},
     "output_type": "execute_result"
    }
   ],
   "source": [
    "# Check if there are missing values (NaNs)\n",
    "raw_df.isnull().sum()"
   ]
  },
  {
   "cell_type": "markdown",
   "metadata": {},
   "source": [
    "As discussed earlier, we can remove missing values as there are not many samples that are missing, and dropping a small number of dates is not expected to significantly impact the analysis:"
   ]
  },
  {
   "cell_type": "code",
   "execution_count": 8,
   "metadata": {},
   "outputs": [],
   "source": [
    "# Drop the missing values\n",
    "progress_df = raw_df.dropna().copy()"
   ]
  },
  {
   "cell_type": "code",
   "execution_count": 9,
   "metadata": {
    "scrolled": true
   },
   "outputs": [
    {
     "data": {
      "text/html": [
       "<div>\n",
       "<style scoped>\n",
       "    .dataframe tbody tr th:only-of-type {\n",
       "        vertical-align: middle;\n",
       "    }\n",
       "\n",
       "    .dataframe tbody tr th {\n",
       "        vertical-align: top;\n",
       "    }\n",
       "\n",
       "    .dataframe thead th {\n",
       "        text-align: right;\n",
       "    }\n",
       "</style>\n",
       "<table border=\"1\" class=\"dataframe\">\n",
       "  <thead>\n",
       "    <tr style=\"text-align: right;\">\n",
       "      <th></th>\n",
       "      <th>Date</th>\n",
       "      <th>Open</th>\n",
       "      <th>High</th>\n",
       "      <th>Low</th>\n",
       "      <th>Close</th>\n",
       "      <th>Adj Close</th>\n",
       "      <th>Volume</th>\n",
       "    </tr>\n",
       "    <tr>\n",
       "      <th>Symbol</th>\n",
       "      <th></th>\n",
       "      <th></th>\n",
       "      <th></th>\n",
       "      <th></th>\n",
       "      <th></th>\n",
       "      <th></th>\n",
       "      <th></th>\n",
       "    </tr>\n",
       "  </thead>\n",
       "  <tbody>\n",
       "    <tr>\n",
       "      <th>D</th>\n",
       "      <td>1230</td>\n",
       "      <td>1230</td>\n",
       "      <td>1230</td>\n",
       "      <td>1230</td>\n",
       "      <td>1230</td>\n",
       "      <td>1230</td>\n",
       "      <td>1230</td>\n",
       "    </tr>\n",
       "    <tr>\n",
       "      <th>DUK</th>\n",
       "      <td>1249</td>\n",
       "      <td>1249</td>\n",
       "      <td>1249</td>\n",
       "      <td>1249</td>\n",
       "      <td>1249</td>\n",
       "      <td>1249</td>\n",
       "      <td>1249</td>\n",
       "    </tr>\n",
       "    <tr>\n",
       "      <th>EXC</th>\n",
       "      <td>1239</td>\n",
       "      <td>1239</td>\n",
       "      <td>1239</td>\n",
       "      <td>1239</td>\n",
       "      <td>1239</td>\n",
       "      <td>1239</td>\n",
       "      <td>1239</td>\n",
       "    </tr>\n",
       "    <tr>\n",
       "      <th>NEE</th>\n",
       "      <td>1251</td>\n",
       "      <td>1251</td>\n",
       "      <td>1251</td>\n",
       "      <td>1251</td>\n",
       "      <td>1251</td>\n",
       "      <td>1251</td>\n",
       "      <td>1251</td>\n",
       "    </tr>\n",
       "    <tr>\n",
       "      <th>SO</th>\n",
       "      <td>1259</td>\n",
       "      <td>1259</td>\n",
       "      <td>1259</td>\n",
       "      <td>1259</td>\n",
       "      <td>1259</td>\n",
       "      <td>1259</td>\n",
       "      <td>1259</td>\n",
       "    </tr>\n",
       "  </tbody>\n",
       "</table>\n",
       "</div>"
      ],
      "text/plain": [
       "        Date  Open  High   Low  Close  Adj Close  Volume\n",
       "Symbol                                                  \n",
       "D       1230  1230  1230  1230   1230       1230    1230\n",
       "DUK     1249  1249  1249  1249   1249       1249    1249\n",
       "EXC     1239  1239  1239  1239   1239       1239    1239\n",
       "NEE     1251  1251  1251  1251   1251       1251    1251\n",
       "SO      1259  1259  1259  1259   1259       1259    1259"
      ]
     },
     "execution_count": 9,
     "metadata": {},
     "output_type": "execute_result"
    }
   ],
   "source": [
    "# How many data rows do we have for each Symbol\n",
    "progress_df.groupby('Symbol').count()"
   ]
  },
  {
   "cell_type": "markdown",
   "metadata": {},
   "source": [
    "Still, we see that different symbols have different numbers of dates. We'd like all the symbols to have the same set of dates for analysis purposes. Let's create a new ```clean_df``` that corresponds to a DataFrame with the same number of rows for each ```Symbol```, where all symbols share the same set of dates:"
   ]
  },
  {
   "cell_type": "code",
   "execution_count": 10,
   "metadata": {
    "scrolled": true
   },
   "outputs": [],
   "source": [
    "set_dates_D = set(progress_df[progress_df['Symbol'] == 'D']['Date'])\n",
    "set_dates_EXC = set(progress_df[progress_df['Symbol'] == 'EXC']['Date'])\n",
    "set_dates_NEE = set(progress_df[progress_df['Symbol'] == 'NEE']['Date'])\n",
    "set_dates_SO = set(progress_df[progress_df['Symbol'] == 'SO']['Date'])\n",
    "set_dates_DUK = set(progress_df[progress_df['Symbol'] == 'DUK']['Date'])\n",
    "set_unique_dates = set.intersection(set_dates_D,set_dates_EXC,set_dates_NEE,set_dates_SO,set_dates_DUK)"
   ]
  },
  {
   "cell_type": "code",
   "execution_count": 11,
   "metadata": {},
   "outputs": [],
   "source": [
    "# Filter new DataFrame for only the dates that are present in every symbol (i.e. the overlapping dates)\n",
    "clean_df = progress_df[progress_df['Date'].isin(set_unique_dates)].copy()"
   ]
  },
  {
   "cell_type": "code",
   "execution_count": 12,
   "metadata": {},
   "outputs": [
    {
     "data": {
      "text/html": [
       "<div>\n",
       "<style scoped>\n",
       "    .dataframe tbody tr th:only-of-type {\n",
       "        vertical-align: middle;\n",
       "    }\n",
       "\n",
       "    .dataframe tbody tr th {\n",
       "        vertical-align: top;\n",
       "    }\n",
       "\n",
       "    .dataframe thead th {\n",
       "        text-align: right;\n",
       "    }\n",
       "</style>\n",
       "<table border=\"1\" class=\"dataframe\">\n",
       "  <thead>\n",
       "    <tr style=\"text-align: right;\">\n",
       "      <th></th>\n",
       "      <th>Date</th>\n",
       "      <th>Open</th>\n",
       "      <th>High</th>\n",
       "      <th>Low</th>\n",
       "      <th>Close</th>\n",
       "      <th>Adj Close</th>\n",
       "      <th>Volume</th>\n",
       "    </tr>\n",
       "    <tr>\n",
       "      <th>Symbol</th>\n",
       "      <th></th>\n",
       "      <th></th>\n",
       "      <th></th>\n",
       "      <th></th>\n",
       "      <th></th>\n",
       "      <th></th>\n",
       "      <th></th>\n",
       "    </tr>\n",
       "  </thead>\n",
       "  <tbody>\n",
       "    <tr>\n",
       "      <th>D</th>\n",
       "      <td>1192</td>\n",
       "      <td>1192</td>\n",
       "      <td>1192</td>\n",
       "      <td>1192</td>\n",
       "      <td>1192</td>\n",
       "      <td>1192</td>\n",
       "      <td>1192</td>\n",
       "    </tr>\n",
       "    <tr>\n",
       "      <th>DUK</th>\n",
       "      <td>1192</td>\n",
       "      <td>1192</td>\n",
       "      <td>1192</td>\n",
       "      <td>1192</td>\n",
       "      <td>1192</td>\n",
       "      <td>1192</td>\n",
       "      <td>1192</td>\n",
       "    </tr>\n",
       "    <tr>\n",
       "      <th>EXC</th>\n",
       "      <td>1192</td>\n",
       "      <td>1192</td>\n",
       "      <td>1192</td>\n",
       "      <td>1192</td>\n",
       "      <td>1192</td>\n",
       "      <td>1192</td>\n",
       "      <td>1192</td>\n",
       "    </tr>\n",
       "    <tr>\n",
       "      <th>NEE</th>\n",
       "      <td>1192</td>\n",
       "      <td>1192</td>\n",
       "      <td>1192</td>\n",
       "      <td>1192</td>\n",
       "      <td>1192</td>\n",
       "      <td>1192</td>\n",
       "      <td>1192</td>\n",
       "    </tr>\n",
       "    <tr>\n",
       "      <th>SO</th>\n",
       "      <td>1192</td>\n",
       "      <td>1192</td>\n",
       "      <td>1192</td>\n",
       "      <td>1192</td>\n",
       "      <td>1192</td>\n",
       "      <td>1192</td>\n",
       "      <td>1192</td>\n",
       "    </tr>\n",
       "  </tbody>\n",
       "</table>\n",
       "</div>"
      ],
      "text/plain": [
       "        Date  Open  High   Low  Close  Adj Close  Volume\n",
       "Symbol                                                  \n",
       "D       1192  1192  1192  1192   1192       1192    1192\n",
       "DUK     1192  1192  1192  1192   1192       1192    1192\n",
       "EXC     1192  1192  1192  1192   1192       1192    1192\n",
       "NEE     1192  1192  1192  1192   1192       1192    1192\n",
       "SO      1192  1192  1192  1192   1192       1192    1192"
      ]
     },
     "execution_count": 12,
     "metadata": {},
     "output_type": "execute_result"
    }
   ],
   "source": [
    "# Let's take a look\n",
    "clean_df.groupby('Symbol').count()"
   ]
  },
  {
   "cell_type": "markdown",
   "metadata": {},
   "source": [
    "Now we see that each symbol has the same number of unique dates. Let's write a quick verification program to ensure the resulting ```clean_df``` does indeed have the same dates for every symbol."
   ]
  },
  {
   "cell_type": "markdown",
   "metadata": {},
   "source": [
    "### Exercise 2:\n",
    "Write code to ensure that each of the symbols share the same set of unique dates. (Hint: use the ```set()``` method.)"
   ]
  },
  {
   "cell_type": "code",
   "execution_count": 13,
   "metadata": {},
   "outputs": [],
   "source": [
    "for i in clean_df:\n",
    "    check_set_dates_D = set(clean_df[clean_df['Symbol'] == 'D']['Date'])\n",
    "    check_set_dates_EXC = set(clean_df[clean_df['Symbol'] == 'EXC']['Date'])\n",
    "    check_set_dates_NEE = set(clean_df[clean_df['Symbol'] == 'NEE']['Date'])\n",
    "    check_set_dates_SO = set(clean_df[clean_df['Symbol'] == 'SO']['Date'])\n",
    "    check_set_dates_DUK = set(clean_df[clean_df['Symbol'] == 'DUK']['Date'])"
   ]
  },
  {
   "cell_type": "markdown",
   "metadata": {},
   "source": [
    "**Answer.** One possible solution is given below:"
   ]
  },
  {
   "cell_type": "code",
   "execution_count": 14,
   "metadata": {
    "scrolled": true
   },
   "outputs": [
    {
     "name": "stdout",
     "output_type": "stream",
     "text": [
      "True\n",
      "True\n",
      "True\n",
      "True\n"
     ]
    }
   ],
   "source": [
    "# One possible solution\n",
    "check_set_dates_D = set(clean_df[clean_df['Symbol'] == 'D']['Date'])\n",
    "check_set_dates_EXC = set(clean_df[clean_df['Symbol'] == 'EXC']['Date'])\n",
    "check_set_dates_NEE = set(clean_df[clean_df['Symbol'] == 'NEE']['Date'])\n",
    "check_set_dates_SO = set(clean_df[clean_df['Symbol'] == 'SO']['Date'])\n",
    "check_set_dates_DUK = set(clean_df[clean_df['Symbol'] == 'DUK']['Date'])\n",
    "\n",
    "print(check_set_dates_D == check_set_dates_EXC)\n",
    "print(check_set_dates_D == check_set_dates_NEE)\n",
    "print(check_set_dates_D == check_set_dates_SO)\n",
    "print(check_set_dates_D == check_set_dates_DUK)"
   ]
  },
  {
   "cell_type": "markdown",
   "metadata": {},
   "source": [
    "Now that we've completed the preliminary cleaning of the data, let's move forward with determining the relationships between: (1) stock returns and volatility, and (2) stock returns and broader market returns."
   ]
  },
  {
   "cell_type": "markdown",
   "metadata": {},
   "source": [
    "Notice that the ```apply()``` method takes in an anonymous function and applies it to the rows of the DataFrame through the use of the second argument ```axis```. ```axis=0``` applies the function to columns, whereas ```axis=1``` applies the function to rows.\n",
    "\n",
    "So what is happening in the following statement?\n",
    "```python\n",
    "clean_df['ReturnFlag'] = clean_df.apply(lambda row: True if row['Return'] > 0 else False, axis=1)\n",
    "```\n",
    "\n",
    "1. ```pandas``` recognized through the ```apply``` method that it is operating on the ```clean_df``` DataFrame\n",
    "2. The ```apply``` method takes a function as input that will be applied to the DataFrame ```clean_df```\n",
    "3. Given the second argument of ```apply``` is ```axis=1``` the input into the anonymous function is a single row\n",
    "4. For every row, ```row['Return']``` returns the ```Return``` value for that row, and it is subsequently passed through the if statement, returning True if greater than zero and False otherwise\n",
    "5. The new value is stored in the column ```clean_df['ReturnFlag']```"
   ]
  },
  {
   "cell_type": "markdown",
   "metadata": {},
   "source": [
    "### Exercise 3:\n",
    "\n",
    "Using ```apply()``` and ```lambda```, write code to create a new column named ```YYYY``` to ```clean_df```, where the new column is the year of the observation as a string. For instance if the row ```Date``` value is 2014-07-28, then the value in the new column for the year would be '2014'. Recall that you can access the first 4 characters of some string ```my_string``` using ```my_string[:4]```."
   ]
  },
  {
   "cell_type": "markdown",
   "metadata": {},
   "source": [
    "**Answer.** One possible solution is given below:"
   ]
  },
  {
   "cell_type": "code",
   "execution_count": 15,
   "metadata": {},
   "outputs": [],
   "source": [
    "# One possible solution\n",
    "clean_df['YYYY'] = clean_df.apply(lambda row: row['Date'][:4], axis=1)"
   ]
  },
  {
   "cell_type": "markdown",
   "metadata": {},
   "source": [
    "Let's move forward with labelling volatility regimes present in the data – these regimes are useful for breaking down the stock return analysis by periods of low, medium, and high volatility. It will allow for more granular analysis than just looking at overall averages without a breakdown."
   ]
  },
  {
   "cell_type": "code",
   "execution_count": 16,
   "metadata": {},
   "outputs": [
    {
     "data": {
      "text/html": [
       "<div>\n",
       "<style scoped>\n",
       "    .dataframe tbody tr th:only-of-type {\n",
       "        vertical-align: middle;\n",
       "    }\n",
       "\n",
       "    .dataframe tbody tr th {\n",
       "        vertical-align: top;\n",
       "    }\n",
       "\n",
       "    .dataframe thead th {\n",
       "        text-align: right;\n",
       "    }\n",
       "</style>\n",
       "<table border=\"1\" class=\"dataframe\">\n",
       "  <thead>\n",
       "    <tr style=\"text-align: right;\">\n",
       "      <th></th>\n",
       "      <th>Date</th>\n",
       "      <th>Open</th>\n",
       "      <th>High</th>\n",
       "      <th>Low</th>\n",
       "      <th>Close</th>\n",
       "      <th>Adj Close</th>\n",
       "      <th>Volume</th>\n",
       "      <th>Symbol</th>\n",
       "      <th>YYYY</th>\n",
       "    </tr>\n",
       "  </thead>\n",
       "  <tbody>\n",
       "    <tr>\n",
       "      <th>0</th>\n",
       "      <td>2014-07-28</td>\n",
       "      <td>69.750000</td>\n",
       "      <td>71.059998</td>\n",
       "      <td>69.750000</td>\n",
       "      <td>70.879997</td>\n",
       "      <td>57.963978</td>\n",
       "      <td>1806400.0</td>\n",
       "      <td>D</td>\n",
       "      <td>2014</td>\n",
       "    </tr>\n",
       "    <tr>\n",
       "      <th>1</th>\n",
       "      <td>2014-07-29</td>\n",
       "      <td>70.669998</td>\n",
       "      <td>70.980003</td>\n",
       "      <td>69.930000</td>\n",
       "      <td>69.930000</td>\n",
       "      <td>57.187099</td>\n",
       "      <td>2231100.0</td>\n",
       "      <td>D</td>\n",
       "      <td>2014</td>\n",
       "    </tr>\n",
       "    <tr>\n",
       "      <th>2</th>\n",
       "      <td>2014-07-30</td>\n",
       "      <td>70.000000</td>\n",
       "      <td>70.660004</td>\n",
       "      <td>68.400002</td>\n",
       "      <td>68.970001</td>\n",
       "      <td>56.402020</td>\n",
       "      <td>2588900.0</td>\n",
       "      <td>D</td>\n",
       "      <td>2014</td>\n",
       "    </tr>\n",
       "    <tr>\n",
       "      <th>3</th>\n",
       "      <td>2014-07-31</td>\n",
       "      <td>68.629997</td>\n",
       "      <td>68.849998</td>\n",
       "      <td>67.580002</td>\n",
       "      <td>67.639999</td>\n",
       "      <td>55.314388</td>\n",
       "      <td>3266900.0</td>\n",
       "      <td>D</td>\n",
       "      <td>2014</td>\n",
       "    </tr>\n",
       "    <tr>\n",
       "      <th>4</th>\n",
       "      <td>2014-08-01</td>\n",
       "      <td>67.330002</td>\n",
       "      <td>68.410004</td>\n",
       "      <td>67.220001</td>\n",
       "      <td>67.589996</td>\n",
       "      <td>55.273487</td>\n",
       "      <td>2601800.0</td>\n",
       "      <td>D</td>\n",
       "      <td>2014</td>\n",
       "    </tr>\n",
       "  </tbody>\n",
       "</table>\n",
       "</div>"
      ],
      "text/plain": [
       "         Date       Open       High        Low      Close  Adj Close  \\\n",
       "0  2014-07-28  69.750000  71.059998  69.750000  70.879997  57.963978   \n",
       "1  2014-07-29  70.669998  70.980003  69.930000  69.930000  57.187099   \n",
       "2  2014-07-30  70.000000  70.660004  68.400002  68.970001  56.402020   \n",
       "3  2014-07-31  68.629997  68.849998  67.580002  67.639999  55.314388   \n",
       "4  2014-08-01  67.330002  68.410004  67.220001  67.589996  55.273487   \n",
       "\n",
       "      Volume Symbol  YYYY  \n",
       "0  1806400.0      D  2014  \n",
       "1  2231100.0      D  2014  \n",
       "2  2588900.0      D  2014  \n",
       "3  3266900.0      D  2014  \n",
       "4  2601800.0      D  2014  "
      ]
     },
     "execution_count": 16,
     "metadata": {},
     "output_type": "execute_result"
    }
   ],
   "source": [
    "clean_df.head()"
   ]
  },
  {
   "cell_type": "markdown",
   "metadata": {},
   "source": [
    "### Exercise 4:\n",
    "Using ```apply()``` and ```lambda```, write a script to create a new column in ```clean_df``` named ```AvgDailyPrice``` that calculates an average daily price based on whether or not the daily volume is over 5 million. Set the value of the new column to (Open + High + Low + Close)/4 if the volume is larger than 5 million, or set the value to (High + Low + Close)/3 if the volume is less than or equal to 5 million."
   ]
  },
  {
   "cell_type": "code",
   "execution_count": 17,
   "metadata": {},
   "outputs": [
    {
     "data": {
      "text/html": [
       "<div>\n",
       "<style scoped>\n",
       "    .dataframe tbody tr th:only-of-type {\n",
       "        vertical-align: middle;\n",
       "    }\n",
       "\n",
       "    .dataframe tbody tr th {\n",
       "        vertical-align: top;\n",
       "    }\n",
       "\n",
       "    .dataframe thead th {\n",
       "        text-align: right;\n",
       "    }\n",
       "</style>\n",
       "<table border=\"1\" class=\"dataframe\">\n",
       "  <thead>\n",
       "    <tr style=\"text-align: right;\">\n",
       "      <th></th>\n",
       "      <th>Date</th>\n",
       "      <th>Open</th>\n",
       "      <th>High</th>\n",
       "      <th>Low</th>\n",
       "      <th>Close</th>\n",
       "      <th>Adj Close</th>\n",
       "      <th>Volume</th>\n",
       "      <th>Symbol</th>\n",
       "      <th>YYYY</th>\n",
       "      <th>AvgDailyPrice</th>\n",
       "    </tr>\n",
       "  </thead>\n",
       "  <tbody>\n",
       "    <tr>\n",
       "      <th>0</th>\n",
       "      <td>2014-07-28</td>\n",
       "      <td>69.750000</td>\n",
       "      <td>71.059998</td>\n",
       "      <td>69.750000</td>\n",
       "      <td>70.879997</td>\n",
       "      <td>57.963978</td>\n",
       "      <td>1806400.0</td>\n",
       "      <td>D</td>\n",
       "      <td>2014</td>\n",
       "      <td>70.563332</td>\n",
       "    </tr>\n",
       "    <tr>\n",
       "      <th>1</th>\n",
       "      <td>2014-07-29</td>\n",
       "      <td>70.669998</td>\n",
       "      <td>70.980003</td>\n",
       "      <td>69.930000</td>\n",
       "      <td>69.930000</td>\n",
       "      <td>57.187099</td>\n",
       "      <td>2231100.0</td>\n",
       "      <td>D</td>\n",
       "      <td>2014</td>\n",
       "      <td>70.280001</td>\n",
       "    </tr>\n",
       "    <tr>\n",
       "      <th>2</th>\n",
       "      <td>2014-07-30</td>\n",
       "      <td>70.000000</td>\n",
       "      <td>70.660004</td>\n",
       "      <td>68.400002</td>\n",
       "      <td>68.970001</td>\n",
       "      <td>56.402020</td>\n",
       "      <td>2588900.0</td>\n",
       "      <td>D</td>\n",
       "      <td>2014</td>\n",
       "      <td>69.343336</td>\n",
       "    </tr>\n",
       "    <tr>\n",
       "      <th>3</th>\n",
       "      <td>2014-07-31</td>\n",
       "      <td>68.629997</td>\n",
       "      <td>68.849998</td>\n",
       "      <td>67.580002</td>\n",
       "      <td>67.639999</td>\n",
       "      <td>55.314388</td>\n",
       "      <td>3266900.0</td>\n",
       "      <td>D</td>\n",
       "      <td>2014</td>\n",
       "      <td>68.023333</td>\n",
       "    </tr>\n",
       "    <tr>\n",
       "      <th>4</th>\n",
       "      <td>2014-08-01</td>\n",
       "      <td>67.330002</td>\n",
       "      <td>68.410004</td>\n",
       "      <td>67.220001</td>\n",
       "      <td>67.589996</td>\n",
       "      <td>55.273487</td>\n",
       "      <td>2601800.0</td>\n",
       "      <td>D</td>\n",
       "      <td>2014</td>\n",
       "      <td>67.740000</td>\n",
       "    </tr>\n",
       "  </tbody>\n",
       "</table>\n",
       "</div>"
      ],
      "text/plain": [
       "         Date       Open       High        Low      Close  Adj Close  \\\n",
       "0  2014-07-28  69.750000  71.059998  69.750000  70.879997  57.963978   \n",
       "1  2014-07-29  70.669998  70.980003  69.930000  69.930000  57.187099   \n",
       "2  2014-07-30  70.000000  70.660004  68.400002  68.970001  56.402020   \n",
       "3  2014-07-31  68.629997  68.849998  67.580002  67.639999  55.314388   \n",
       "4  2014-08-01  67.330002  68.410004  67.220001  67.589996  55.273487   \n",
       "\n",
       "      Volume Symbol  YYYY  AvgDailyPrice  \n",
       "0  1806400.0      D  2014      70.563332  \n",
       "1  2231100.0      D  2014      70.280001  \n",
       "2  2588900.0      D  2014      69.343336  \n",
       "3  3266900.0      D  2014      68.023333  \n",
       "4  2601800.0      D  2014      67.740000  "
      ]
     },
     "execution_count": 17,
     "metadata": {},
     "output_type": "execute_result"
    }
   ],
   "source": [
    "clean_df['AvgDailyPrice'] = clean_df.apply(lambda row:(row['Open']+row['High']+row['Low']+row['Close'])/4 if row['Volume'] > 5000000 else (row['High']+row['Low']+row['Close'])/3, axis=1)\n",
    "clean_df.head()"
   ]
  },
  {
   "cell_type": "markdown",
   "metadata": {},
   "source": [
    "# How to get information for data analytics at OI?"
   ]
  },
  {
   "cell_type": "markdown",
   "metadata": {},
   "source": [
    "# Introduction"
   ]
  },
  {
   "cell_type": "markdown",
   "metadata": {
    "collapsed": true
   },
   "source": [
    "**Business Context.** You work at O-I glass inc, the company is giving you the opportunity to receive training in Data Science, now that you have defined a project to work on during the training, you need to gather the data that is expected to help answer the business question."
   ]
  },
  {
   "cell_type": "markdown",
   "metadata": {},
   "source": [
    "**Business Problem.**  Your team needs to gather data for answering the business questions."
   ]
  },
  {
   "cell_type": "markdown",
   "metadata": {},
   "source": [
    "**Analytical Context.** You need to define the data source or sources that may contain relevant information that helps to solve the business problem. There are many possible scenarios, for example, your problem could be solved from a single data set which you may already have access to, in the other hand, there are some problems that might require to create new data or implement a new data gathering strategy. "
   ]
  },
  {
   "cell_type": "markdown",
   "metadata": {},
   "source": [
    "## Data sources at OI"
   ]
  },
  {
   "cell_type": "markdown",
   "metadata": {},
   "source": [
    "The company produces a large amount of data, for every business function there is a whole world of yet to explore data and analitycs to be made, for example, Finance produces data in the form of transactions recorded to the ERP systems, Information Technology produces logs for each application, Manufacturing is constantly recording to databases information about the machines and the production, every single e-mail sent or received is a potential source of insights yet to be discovered. <br>\n",
    "Does OI has Big Data? Yes, you could say so by definition as it complies with the three main characteristics Volume, Velocity and Variety, however, as February 28th 2020 there is no a Big Data Tool that help us manage our data from a single repository nor a data catalog that we could ask where to find a specific measure."
   ]
  },
  {
   "attachments": {
    "image.png": {
     "image/png": "[encoded data removed]"
    }
   },
   "cell_type": "markdown",
   "metadata": {},
   "source": [
    "![image.png](attachment:image.png)"
   ]
  },
  {
   "cell_type": "markdown",
   "metadata": {},
   "source": [
    "### SAP ECC"
   ]
  },
  {
   "cell_type": "markdown",
   "metadata": {},
   "source": [
    "SAP ERP Central Component (ECC) or better known at the company simply as their systems names P15, P11 and RPD, is a transactional system which implies that records are constantly being created and manipulated. A regularly good assumption is that the data in ECC is actual and true."
   ]
  },
  {
   "cell_type": "markdown",
   "metadata": {},
   "source": [
    "The primary method of extraction is using SAP GUI, and to enter to any specific transaction (program/report) that generates tables with data and then export the results to Excel or plain text files. Some users from areas like Master Data or IT analysts might have access to SAP Tables through transactions like SE16N that allows for a quick search of RAW data, which could be easier to export and manipulate but requieres an advanced knowledge about how the system is built. Some data from ECC is consolidated on a daily basis in BW reports and HANA views."
   ]
  },
  {
   "cell_type": "markdown",
   "metadata": {},
   "source": [
    "**Avoid using ECC system for generating large datasets on a regular basis, this is a transactional system and its performance could be impacted negatively by indiscriminately using it for this purpose.**"
   ]
  },
  {
   "cell_type": "markdown",
   "metadata": {},
   "source": [
    "### SAP MDM"
   ]
  },
  {
   "cell_type": "markdown",
   "metadata": {},
   "source": [
    "SAP Master Data Management software is a platform to consolidate, cleanse and synchronise a single version of the truth for master data within a heterogeneus application landscape. Information about Customers, Vendors and Materials between others are maintained from this tool."
   ]
  },
  {
   "cell_type": "markdown",
   "metadata": {},
   "source": [
    "There are already some extractions from this system to plain text files that are performed on a regular basis from batch jobs properly configured by MDM technical team. Ask the MDM team from the shared service center for support and access to this extractions."
   ]
  },
  {
   "cell_type": "markdown",
   "metadata": {},
   "source": [
    "### SAP SCM"
   ]
  },
  {
   "cell_type": "markdown",
   "metadata": {},
   "source": [
    "SAP Supply Chain Managment covers areas of production planning, business forecasting and demand planning. Usually referred as P45 or APO which is a planning tool inside this SAP solution."
   ]
  },
  {
   "cell_type": "markdown",
   "metadata": {},
   "source": [
    "#### Bonus Exercise1: Request your Planning or Supply Chain colleagues to talk about APO methods for accesing the information and what specific data can be found there."
   ]
  },
  {
   "cell_type": "markdown",
   "metadata": {},
   "source": [
    "### SAP BW"
   ]
  },
  {
   "cell_type": "markdown",
   "metadata": {},
   "source": [
    "SAP Business Warehouse (BW) is an Enterprise Data Warehouse solution that can transform and consolidate information from any SAP system and some other sources, the information is presented in the form of Cubes or reports (info queries/info providers)."
   ]
  },
  {
   "cell_type": "markdown",
   "metadata": {},
   "source": [
    "BW is commonly accessed using Bex Analyzer which is an Excel complement that connects to the system and allows to configure the parameters to generate the report, it is also accessed through *Global Metrics* which is basically a web application that presents the report but requires the Cube to be enabled for On-Line Analytical Processing, if the last condition is met the report can also be accessed using Power BI."
   ]
  },
  {
   "cell_type": "markdown",
   "metadata": {},
   "source": [
    "### SAP HANA"
   ]
  },
  {
   "cell_type": "markdown",
   "metadata": {},
   "source": [
    "SAP HANA is an in-memory relational database system, this means that it can be queried using a like of the Standard Query Language (SQL). HANA serves internally as a data warehouse specializing and consolidating information from SAP ECC (P15, P11, RPD), SAP BW (P21/Global Metrics) and Master Data. "
   ]
  },
  {
   "cell_type": "markdown",
   "metadata": {},
   "source": [
    "The information from HANA is consolidated in Calculated Views that allows tools like Power BI to avoid downloading the complete data set and leverage with the capabilities of HANA in-memory storage to fast compute any filter or calculation on the server side and present only the results. A complete extraction from a View can also be generated using the right connector for a programming language or in Python the following code:"
   ]
  },
  {
   "cell_type": "markdown",
   "metadata": {},
   "source": [
    "```python\n",
    "import pandas as pd\n",
    "import pyhdb\n",
    "\n",
    "# Replace with your own path containing the SQL query for the extraction\n",
    "f = open(\"path.txt\", \"r\")\n",
    "if f.mode == \"r\":\n",
    "    query = f.read()\n",
    "\n",
    "connection = pyhdb.connect(\n",
    "    host=\"10.205.3.5\",\n",
    "    port=30015,\n",
    "    user=\"\",  # your user\n",
    "    password=\"\"  # your password\n",
    ")\n",
    "\n",
    "def readHana():\n",
    "    cursor = connection.cursor()\n",
    "    cursor.execute(query)\n",
    "    df_HANA_KPI = pd.DataFrame(cursor.fetchall())\n",
    "    names = list(map(lambda x: x[0], cursor.description))\n",
    "    df_HANA_KPI.columns = names\n",
    "    return df_HANA_KPI\n",
    "    \n",
    " ```   "
   ]
  },
  {
   "cell_type": "markdown",
   "metadata": {},
   "source": [
    "Access to SAP transactions and systems is restricted by roles administered by SAP Security group, if any access is required for a specific user use [sapgrc](http://sapgrc/) portal to request it. In order to consume data from HANA, a user needs to request access using the appropiate [form in Service-Now](\n",
    "https://oiprod.service-now.com/com.glideapp.servicecatalog_cat_item_view.do?v=1&sysparm_id=7103dcef1b44370411db42a2cd4bcb2b)"
   ]
  },
  {
   "cell_type": "markdown",
   "metadata": {},
   "source": [
    "### Sharepoint / OneDrive"
   ]
  },
  {
   "cell_type": "markdown",
   "metadata": {},
   "source": [
    "Sharepoint is primarily used as a document management and storage system, however it is highly configurable and supports some data structures such as Sharepoint lists which could work as a source."
   ]
  },
  {
   "cell_type": "markdown",
   "metadata": {},
   "source": [
    "### Hyperion"
   ]
  },
  {
   "cell_type": "markdown",
   "metadata": {},
   "source": [
    "Is a centralized planning, budgeting, and forecasting solution that integrates financial and operational planning processes. For many financial statements Hyperion is considered as the real source of truth."
   ]
  },
  {
   "cell_type": "markdown",
   "metadata": {},
   "source": [
    "Data from Hyperion is consumed using an Excel complement called SmartView, this data is very sensitive and for requesting access to it a user should create a request in Service-Now; for an analysis the best option is to ask a known colleague with the proper access to perform the extraction."
   ]
  },
  {
   "cell_type": "markdown",
   "metadata": {},
   "source": [
    "### Manufacturing Systems"
   ]
  },
  {
   "cell_type": "markdown",
   "metadata": {},
   "source": [
    "There are diverse manufacturing systems across the plants and countries, the information of those is usually stored in relational databases such as SQL Server. Some of their data is consolidated and pushed into BW."
   ]
  },
  {
   "cell_type": "markdown",
   "metadata": {},
   "source": [
    "#### Bonus Exercise: Request your Manufacturing colleagues to talk about Manufacturing Systems, some names and characteristics that are recorded to databases."
   ]
  },
  {
   "cell_type": "markdown",
   "metadata": {},
   "source": [
    "There are many other sources that could be used for developing an analytical or data science project such as mailboxes, files in shared locations or databases in Access and SQL Servers. Be sure to ask first to colleagues if the information you need seems not to be available or existent."
   ]
  },
  {
   "cell_type": "markdown",
   "metadata": {},
   "source": [
    "### Exercise 5"
   ]
  },
  {
   "cell_type": "markdown",
   "metadata": {},
   "source": [
    "For developing a data science project, what should come first, the data or the questions? Why?"
   ]
  },
  {
   "cell_type": "markdown",
   "metadata": {},
   "source": [
    "***Type answer here:***"
   ]
  },
  {
   "cell_type": "markdown",
   "metadata": {},
   "source": [
    "There is a basic question: What can the data tell me?<br>\n",
    "You can start a data science project by selecting a dataset and start performing transformations, compute summary statistics, group by different characteristics, plot the data, calculate correlations and then realize that it presents some kind of pattern or behaviour. This approach could lead to already known findings, basically, it might be new to you but the business was already aware. Some strategies as Datathons relies on this approach, for example, you give the same dataset to multiple people and let them play with it to generate as much insights as possible.<br>\n",
    "Starting by asking questions and after that to finding the data could lead to a road end if there is no sufficient information to perform the analytics.<br>\n",
    "The safer approach is to gather with people that has enough *Domain Knowledge* about a topic and start to ask questions considering the availability and accesibility of the data and then jump to perform the analysis.\n"
   ]
  },
  {
   "cell_type": "markdown",
   "metadata": {},
   "source": [
    "## Extended read"
   ]
  },
  {
   "cell_type": "markdown",
   "metadata": {},
   "source": [
    "### Manufacturing Key Performance Indicators (KPI)"
   ]
  },
  {
   "cell_type": "markdown",
   "metadata": {},
   "source": [
    "https://owensillinois.sharepoint.com/:b:/r/teams/DS4OI-One/Shared%20Documents/General/Resources/OI%20Glass%20Container%20Production%20Key%20Performance%20Indicator%202015.pdf?csf=1&e=CSrcI2"
   ]
  },
  {
   "cell_type": "markdown",
   "metadata": {},
   "source": [
    "#### Presentation Example of Data Science Analysis"
   ]
  },
  {
   "cell_type": "markdown",
   "metadata": {},
   "source": [
    "https://owensillinois.sharepoint.com/:p:/r/teams/DS4OI-One/Shared%20Documents/General/Resources/Plant%27s%20Performance%20Analysis%20_%20Shubham%20Sharma_F.pptx?d=w26881a46817f41ea8d0a08b07ea49290&csf=1&e=iwa5Gd"
   ]
  },
  {
   "cell_type": "code",
   "execution_count": null,
   "metadata": {},
   "outputs": [],
   "source": []
  }
 ],
 "metadata": {
  "kernelspec": {
   "display_name": "Python 3.7.3 64-bit ('base': conda)",
   "language": "python",
   "name": "python37364bitbaseconda5f3b002c677f482f860d98017ad7102a"
  },
  "language_info": {
   "codemirror_mode": {
    "name": "ipython",
    "version": 3
   },
   "file_extension": ".py",
   "mimetype": "text/x-python",
   "name": "python",
   "nbconvert_exporter": "python",
   "pygments_lexer": "ipython3",
   "version": "3.7.3"
  }
 },
 "nbformat": 4,
 "nbformat_minor": 2
}
